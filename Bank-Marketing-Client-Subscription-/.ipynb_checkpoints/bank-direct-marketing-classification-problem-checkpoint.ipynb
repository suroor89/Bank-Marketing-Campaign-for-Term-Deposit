{
 "cells": [
  {
   "cell_type": "markdown",
   "metadata": {
    "_uuid": "d6e80ea6c0a3f6a822d639b70a84985fab816ac1"
   },
   "source": [
    "# Bank Marketing\n",
    "\n",
    "The data is related with direct marketing campaigns (phone calls) of a Portuguese banking institution.\n",
    "The classification goal is to predict if the client will subscribe a term deposit (variable y).\n",
    "\n",
    "# Description of Data:\n",
    "\n",
    "# Bank client data:\n",
    "Age (numeric)\n",
    "\n",
    "Job : type of job (categorical: 'admin.', 'blue-collar', 'entrepreneur', 'housemaid', 'management', 'retired', 'self-employed', 'services', 'student', 'technician', 'unemployed', 'unknown')\n",
    "\n",
    "Marital : marital status (categorical: 'divorced', 'married', 'single', 'unknown' ; note: 'divorced' means divorced or widowed)\n",
    "\n",
    "Education (categorical: 'basic.4y', 'basic.6y', 'basic.9y', 'high.school', 'illiterate', 'professional.course', 'university.degree', 'unknown')\n",
    "\n",
    "Default: has credit in default? (categorical: 'no', 'yes', 'unknown')\n",
    "\n",
    "Housing: has housing loan? (categorical: 'no', 'yes', 'unknown')\n",
    "\n",
    "Loan: has personal loan? (categorical: 'no', 'yes', 'unknown')\n",
    "\n",
    "\n",
    "# Details regarding last contact of the current campaign:\n",
    "Contact: contact communication type (categorical: 'cellular','telephone')\n",
    "\n",
    "Month: last contact month (categorical: 'jan', 'feb', 'mar', ..., 'nov', 'dec')\n",
    "\n",
    "Day_of_week: last contact day of the week (categorical: 'mon','tue','wed','thu','fri')\n",
    "\n",
    "Duration: last contact duration, in seconds (numeric).\n",
    "\n",
    "Campaign: number of contacts performed during this campaign and for this client (numeric, includes last contact)\n",
    "\n",
    "Pdays: number of days that passed by after the client was last contacted from a previous campaign (numeric; 999 means client was not previously contacted)\n",
    "\n",
    "Previous: number of contacts performed before this campaign and for this client (numeric)\n",
    "\n",
    "Poutcome: outcome of the previous marketing campaign (categorical: 'failure','nonexistent','success')\n",
    "\n",
    "# Economic Index attributes\n",
    "\n",
    "Emp.var.rate: employment variation rate  (numeric)\n",
    "\n",
    "Cons.price.idx: consumer price index  (numeric)\n",
    "\n",
    "Cons.conf.idx: consumer confidence index (numeric)\n",
    "\n",
    "Euribor3m: euribor 3 month rate (numeric)\n",
    "\n",
    "Nr.employed: number of employees (numeric)\n",
    "\n",
    "\n",
    "# Output variable (desired target):\n",
    "y - has the client subscribed to the term deposit? (binary: 'yes', 'no')\n"
   ]
  },
  {
   "cell_type": "code",
   "execution_count": 1,
   "metadata": {
    "_uuid": "c7bef6a423de156218420ebc937cbfb76bf504b2"
   },
   "outputs": [
    {
     "ename": "ImportError",
     "evalue": "No module named 'graphviz'",
     "output_type": "error",
     "traceback": [
      "\u001b[0;31m---------------------------------------------------------------------------\u001b[0m",
      "\u001b[0;31mImportError\u001b[0m                               Traceback (most recent call last)",
      "\u001b[0;32m<ipython-input-1-2d30834c6ec7>\u001b[0m in \u001b[0;36m<module>\u001b[0;34m()\u001b[0m\n\u001b[1;32m     30\u001b[0m \u001b[0;32mfrom\u001b[0m \u001b[0msklearn\u001b[0m\u001b[0;34m.\u001b[0m\u001b[0mmodel_selection\u001b[0m \u001b[0;32mimport\u001b[0m \u001b[0mGridSearchCV\u001b[0m\u001b[0;34m\u001b[0m\u001b[0m\n\u001b[1;32m     31\u001b[0m \u001b[0;32mfrom\u001b[0m \u001b[0msklearn\u001b[0m\u001b[0;34m.\u001b[0m\u001b[0mmodel_selection\u001b[0m \u001b[0;32mimport\u001b[0m \u001b[0mcross_val_score\u001b[0m\u001b[0;34m\u001b[0m\u001b[0m\n\u001b[0;32m---> 32\u001b[0;31m \u001b[0;32mimport\u001b[0m \u001b[0mgraphviz\u001b[0m\u001b[0;34m\u001b[0m\u001b[0m\n\u001b[0m\u001b[1;32m     33\u001b[0m \u001b[0;32mfrom\u001b[0m \u001b[0msklearn\u001b[0m \u001b[0;32mimport\u001b[0m \u001b[0mtree\u001b[0m\u001b[0;34m\u001b[0m\u001b[0m\n\u001b[1;32m     34\u001b[0m \u001b[0;32mfrom\u001b[0m \u001b[0msklearn\u001b[0m\u001b[0;34m.\u001b[0m\u001b[0mtree\u001b[0m \u001b[0;32mimport\u001b[0m \u001b[0mDecisionTreeRegressor\u001b[0m\u001b[0;34m,\u001b[0m \u001b[0mDecisionTreeClassifier\u001b[0m\u001b[0;34m,\u001b[0m \u001b[0mexport_graphviz\u001b[0m\u001b[0;34m\u001b[0m\u001b[0m\n",
      "\u001b[0;31mImportError\u001b[0m: No module named 'graphviz'"
     ]
    }
   ],
   "source": [
    "#importing the necessary libraries\n",
    "\n",
    "\n",
    "import pandas as pd\n",
    "import numpy as np\n",
    "import seaborn as sns\n",
    "import matplotlib.pyplot as plt\n",
    "from sklearn.preprocessing import LabelEncoder\n",
    "from sklearn.model_selection import cross_val_score, train_test_split\n",
    "from sklearn.linear_model import LogisticRegression\n",
    "from sklearn.metrics import classification_report, accuracy_score, confusion_matrix\n",
    "from sklearn.svm import SVC\n",
    "from sklearn.ensemble import RandomForestClassifier, VotingClassifier\n",
    "from sklearn.feature_selection import RFE\n",
    "\n",
    "\n",
    "#Algorithms\n",
    "\n",
    "# Algorithms\n",
    "from sklearn import linear_model\n",
    "from sklearn.linear_model import LogisticRegression\n",
    "from sklearn.ensemble import RandomForestClassifier\n",
    "from sklearn.linear_model import Perceptron\n",
    "from sklearn.linear_model import SGDClassifier\n",
    "from sklearn.tree import DecisionTreeClassifier\n",
    "from sklearn.neighbors import KNeighborsClassifier\n",
    "from sklearn.svm import SVC, LinearSVC\n",
    "from sklearn.naive_bayes import GaussianNB\n",
    "from sklearn.metrics import f1_score, make_scorer\n",
    "from sklearn.model_selection import GridSearchCV\n",
    "from sklearn.model_selection import cross_val_score\n",
    "import graphviz \n",
    "from sklearn import tree\n",
    "from sklearn.tree import DecisionTreeRegressor, DecisionTreeClassifier, export_graphviz\n",
    "import graphviz\n",
    "import pydot\n",
    "\n",
    "#Accuracy\n",
    "from sklearn.model_selection import train_test_split\n",
    "from sklearn.metrics import confusion_matrix\n",
    "from sklearn.metrics import accuracy_score\n",
    "from sklearn.metrics import classification_report\n",
    "\n",
    "#import xgboost as xgb\n",
    "#from xgboost import XGBClassifier\n",
    "#from imblearn.over_sampling import SMOTE\n",
    "from scipy.stats.mstats import winsorize\n",
    "from sklearn.preprocessing import MinMaxScaler\n",
    "from sklearn.model_selection import GridSearchCV\n",
    "from sklearn.metrics import roc_curve, auc, roc_auc_score\n",
    "from sklearn.naive_bayes import GaussianNB\n",
    "from sklearn.metrics import roc_curve, roc_auc_score\n",
    "from sklearn.neighbors import  KNeighborsClassifier\n",
    "from sklearn.metrics import confusion_matrix"
   ]
  },
  {
   "cell_type": "code",
   "execution_count": null,
   "metadata": {
    "_uuid": "328fbcd60086b90c253cc519f9e19ac513f347dc"
   },
   "outputs": [],
   "source": [
    "bank_df = pd.read_csv(\"bank-additional-full.csv\",sep=';')\n",
    "bank_df.head()\n",
    "\n"
   ]
  },
  {
   "cell_type": "code",
   "execution_count": null,
   "metadata": {
    "_uuid": "f798097ba75884fff00bfaa4359d88e460f06d8c"
   },
   "outputs": [],
   "source": [
    "# checking the shape of the dataframe\n",
    "\n",
    "bank_df.shape"
   ]
  },
  {
   "cell_type": "code",
   "execution_count": null,
   "metadata": {
    "_uuid": "a63d491fa72e4f41eb7deb8564f452e26948f793"
   },
   "outputs": [],
   "source": [
    "bank_df.info()"
   ]
  },
  {
   "cell_type": "markdown",
   "metadata": {
    "_uuid": "5a9c4f35cd7f8ed1654454b9c09ccff005f19358"
   },
   "source": [
    "# Bivarite Analysis"
   ]
  },
  {
   "cell_type": "code",
   "execution_count": null,
   "metadata": {
    "_uuid": "4cf2f5f56fb9f56b57152ad643b1a3ab3e4eddab"
   },
   "outputs": [],
   "source": [
    "sns.countplot(x='marital',hue='y',data=bank_df)"
   ]
  },
  {
   "cell_type": "code",
   "execution_count": null,
   "metadata": {
    "_uuid": "2b268d5cc27ac44c0a1b592c6b7d325c1ff88c6c"
   },
   "outputs": [],
   "source": [
    "# Kernel Density Plot\n",
    "fig = plt.figure(figsize=(15,4),)\n",
    "ax=sns.kdeplot(bank_df.loc[(bank_df['y'] == 'yes'),'duration'] , color='b',shade=True,label='Yes')\n",
    "ax=sns.kdeplot(bank_df.loc[(bank_df['y'] == 'no'),'duration'] , color='r',shade=True, label='No')\n",
    "ax.set(xlabel='Duration Distribution', ylabel='Duration of Call')\n",
    "plt.title('Duration V.S. Term Deposit')\n"
   ]
  },
  {
   "cell_type": "code",
   "execution_count": null,
   "metadata": {
    "_uuid": "df27b025b6c45281c262b9ce52edb6282d678188"
   },
   "outputs": [],
   "source": [
    "sns.countplot(x='month',hue='y',data=bank_df)"
   ]
  },
  {
   "cell_type": "code",
   "execution_count": null,
   "metadata": {
    "_uuid": "5d404536ae8c7a83bb7700a77d4dd54a3e7454c4"
   },
   "outputs": [],
   "source": [
    "sns.countplot(x='day_of_week',hue='y',data=bank_df)"
   ]
  },
  {
   "cell_type": "code",
   "execution_count": null,
   "metadata": {
    "_uuid": "0cb9bda0c04d924130d8f60bc364d5c9c3098325"
   },
   "outputs": [],
   "source": [
    "sns.countplot(x='poutcome',hue='y',data=bank_df)"
   ]
  },
  {
   "cell_type": "markdown",
   "metadata": {
    "_uuid": "e199cc1c27ce4de121078b4a3549bcd3d16c469c"
   },
   "source": [
    "# We decided to seperate the data into 3 parts\n",
    "   - Client specific\n",
    "   - Marketing specific\n",
    "   - Economic index specific"
   ]
  },
  {
   "cell_type": "markdown",
   "metadata": {
    "_uuid": "24c9386ee0cc7c7b4588b4ea6896cc592908b174"
   },
   "source": [
    "# Client specific data processing"
   ]
  },
  {
   "cell_type": "code",
   "execution_count": null,
   "metadata": {
    "_uuid": "58414d78ee7ede42c8d2907028ad83781da4e9e0"
   },
   "outputs": [],
   "source": [
    "client_df = bank_df.iloc[: , 0:7]\n",
    "client_df.head()"
   ]
  },
  {
   "cell_type": "markdown",
   "metadata": {
    "_uuid": "71a2958fc1efe8af1d296d61518babcf6a35f233"
   },
   "source": [
    "# Checking the spread of each categorical columns\n",
    "\n",
    "# Univarite Analysis"
   ]
  },
  {
   "cell_type": "code",
   "execution_count": null,
   "metadata": {
    "_uuid": "7d887b0e66bf84634bc9e05b7a129d1431ecfabd",
    "collapsed": true
   },
   "outputs": [],
   "source": [
    "\n",
    "fig, ax = plt.subplots()\n",
    "fig.set_size_inches(20, 8)\n",
    "sns.countplot(x = 'job', data = client_df)\n",
    "ax.set_xlabel('Job', fontsize=15)\n",
    "ax.set_ylabel('Count', fontsize=15)\n",
    "ax.set_title('Job Count Distribution', fontsize=15)\n",
    "ax.tick_params(labelsize=15)\n"
   ]
  },
  {
   "cell_type": "code",
   "execution_count": null,
   "metadata": {
    "_uuid": "05cf6ceae385c50e03ca5ad11b2c96352b6ab8cc",
    "collapsed": true
   },
   "outputs": [],
   "source": [
    "\n",
    "fig, ax = plt.subplots()\n",
    "fig.set_size_inches(20, 8)\n",
    "sns.countplot(x = 'marital', data = client_df)\n",
    "ax.set_xlabel('Marital status', fontsize=15)\n",
    "ax.set_ylabel('Count', fontsize=15)\n",
    "ax.set_title('Marriage Count Distribution', fontsize=15)\n",
    "ax.tick_params(labelsize=15)\n"
   ]
  },
  {
   "cell_type": "code",
   "execution_count": null,
   "metadata": {
    "_uuid": "25954d75fe98edf28a156a5450f4a25257a88276",
    "collapsed": true
   },
   "outputs": [],
   "source": [
    "\n",
    "fig, ax = plt.subplots()\n",
    "fig.set_size_inches(20, 8)\n",
    "sns.countplot(x = 'education', data = client_df)\n",
    "ax.set_xlabel('Education', fontsize=15)\n",
    "ax.set_ylabel('Count', fontsize=15)\n",
    "ax.set_title('Education Count Distribution', fontsize=15)\n",
    "ax.tick_params(labelsize=15)\n"
   ]
  },
  {
   "cell_type": "code",
   "execution_count": null,
   "metadata": {
    "_uuid": "4b9632fe4ac8c8f27ef34d3ce81f69713fbeb1e9",
    "collapsed": true
   },
   "outputs": [],
   "source": [
    "# Is credit in default ?\n",
    "fig, (ax1, ax2, ax3) = plt.subplots(nrows = 1, ncols = 3, figsize = (20,8))\n",
    "sns.countplot(x = 'default', data = client_df, ax = ax1, order = ['no', 'unknown', 'yes'])\n",
    "ax1.set_title('Any Defaults ?', fontsize=15)\n",
    "ax1.set_xlabel('')\n",
    "ax1.set_ylabel('Count', fontsize=15)\n",
    "ax1.tick_params(labelsize=15)\n",
    "\n",
    "# Has housing loan ?\n",
    "sns.countplot(x = 'housing', data = client_df, ax = ax2, order = ['no', 'unknown', 'yes'])\n",
    "ax2.set_title('Has Housing Loan ?', fontsize=15)\n",
    "ax2.set_xlabel('')\n",
    "ax2.set_ylabel('Count', fontsize=15)\n",
    "ax2.tick_params(labelsize=15)\n",
    "\n",
    "# Has Personal loan ?\n",
    "sns.countplot(x = 'loan', data = client_df, ax = ax3, order = ['no', 'unknown', 'yes'])\n",
    "ax3.set_title('Any Personal Loan ?', fontsize=15)\n",
    "ax3.set_xlabel('')\n",
    "ax3.set_ylabel('Count', fontsize=15)\n",
    "ax3.tick_params(labelsize=15)\n",
    "\n",
    "plt.subplots_adjust(wspace=0.5)\n"
   ]
  },
  {
   "cell_type": "markdown",
   "metadata": {
    "_uuid": "d92885d077c761f57600af57bc266d23770af6d3"
   },
   "source": [
    "# Checking the distribution of Age"
   ]
  },
  {
   "cell_type": "code",
   "execution_count": null,
   "metadata": {
    "_uuid": "e53ef93e3c8ce56a36e71b5a93ac0380f78b40cf",
    "collapsed": true
   },
   "outputs": [],
   "source": [
    "fig, ax = plt.subplots()\n",
    "fig.set_size_inches(20, 8)\n",
    "sns.countplot(x = 'age', data = client_df)\n",
    "ax.set_xlabel('Age', fontsize=15)\n",
    "ax.set_ylabel('Count', fontsize=15)\n",
    "ax.set_title('Age Wise Distribution', fontsize=15)\n",
    "sns.despine()\n"
   ]
  },
  {
   "cell_type": "markdown",
   "metadata": {
    "_uuid": "f4524401034d1c5394e81e70d2b39094886e1875"
   },
   "source": [
    "# Checking the outliers in Age"
   ]
  },
  {
   "cell_type": "code",
   "execution_count": null,
   "metadata": {
    "_uuid": "e6956e5ba083d98012bdc2009018cf9c51df85aa",
    "collapsed": true
   },
   "outputs": [],
   "source": [
    "fig, (ax1) = plt.subplots(nrows = 1, ncols = 1, figsize = (10, 5))\n",
    "sns.boxplot(x = 'age', data = client_df, orient = 'v', ax = ax1)\n",
    "ax1.set_xlabel('People Age', fontsize=15)\n",
    "ax1.set_ylabel('Age', fontsize=15)\n",
    "ax1.set_title('Age Distribution', fontsize=15)\n",
    "ax1.tick_params(labelsize=15)\n"
   ]
  },
  {
   "cell_type": "code",
   "execution_count": null,
   "metadata": {
    "_uuid": "368eba185ec6cf9bd2e32f957a6728f81e3d6682",
    "collapsed": true
   },
   "outputs": [],
   "source": [
    "# Calculate the outliers using:\n",
    "\n",
    "  # Interquartile range, IQR = Q3 - Q1\n",
    "  # lower 1.5*IQR whisker = Q1 - 1.5 * IQR \n",
    "  # Upper 1.5*IQR whisker = Q3 + 1.5 * IQR\n",
    " "
   ]
  },
  {
   "cell_type": "code",
   "execution_count": null,
   "metadata": {
    "_uuid": "c56bcb988e34e9fdcada5682c3c68e2ea9e6224e"
   },
   "outputs": [],
   "source": [
    "Q1=client_df['age'].quantile(q = 0.25)\n",
    "Q2=client_df['age'].quantile(q = 0.50)\n",
    "Q3=client_df['age'].quantile(q = 0.75)\n",
    "Q4=client_df['age'].quantile(q = 1.00)                        \n",
    "\n",
    "IQR= Q3-Q1\n",
    "\n",
    "print('1st Quartile: ', Q1)\n",
    "print('2nd Quartile: ', Q2)\n",
    "print('3rd Quartile: ', Q3)\n",
    "print('4th Quartile: ', Q4)\n",
    "print('IQR: ',IQR)\n",
    "\n",
    "\n",
    "print('Ages above: ', Q3 + 1.5*(IQR), 'are outliers')\n",
    "print('Ages below: ', Q1 - 1.5*(IQR), 'are outliers')\n",
    "\n"
   ]
  },
  {
   "cell_type": "code",
   "execution_count": null,
   "metadata": {
    "_uuid": "1de2f243c3f87b1deebad4de92a312fb9daa3963"
   },
   "outputs": [],
   "source": [
    "# checking other details of age\n",
    "client_df['age'].describe()"
   ]
  },
  {
   "cell_type": "markdown",
   "metadata": {
    "_uuid": "25b8d53ecbcfe85850fde98e31aff8bd359e85c0"
   },
   "source": [
    "# Age data has quite dispersion , we will divide it into buckets"
   ]
  },
  {
   "cell_type": "code",
   "execution_count": null,
   "metadata": {
    "_uuid": "3d6d23c49638393d21ccb532d47f84b6bf6e9793",
    "collapsed": true
   },
   "outputs": [],
   "source": [
    "# functions to create bucketing in age\n",
    "\n",
    "def age(df):\n",
    "    df.loc[df['age'] <= 32, 'age'] = 1\n",
    "    df.loc[(df['age'] > 32) & (df['age'] <= 47), 'age'] = 2\n",
    "    df.loc[(df['age'] > 47) & (df['age'] <= 70), 'age'] = 3\n",
    "    df.loc[(df['age'] > 70), 'age']=4\n",
    "           \n",
    "    return df\n",
    "\n",
    "age(client_df);"
   ]
  },
  {
   "cell_type": "markdown",
   "metadata": {
    "_uuid": "89ed5dccd6a21f9e346d91f1a8c028cbe14d690b"
   },
   "source": [
    "# Checking the categorical data"
   ]
  },
  {
   "cell_type": "code",
   "execution_count": null,
   "metadata": {
    "_uuid": "77bd42b209eb6532859b3bb328f2ca7119423036"
   },
   "outputs": [],
   "source": [
    "# converting categorical columns to numerical values\n",
    "\"\"\"\n",
    "client_df['job'].replace(['housemaid' , 'services' , 'admin.' , 'blue-collar' , 'technician', 'retired' , 'management', 'unemployed', 'self-employed', 'unknown' , 'entrepreneur', 'student'] , [1, 2, 3, 4, 5, 6, 7, 8, 9, 10, 11, 12], inplace=True)\n",
    "\n",
    "\n",
    "client_df['education'].replace(['basic.4y' , 'high.school', 'basic.6y', 'basic.9y', 'professional.course', 'unknown' , 'university.degree' , 'illiterate'], [1, 2, 3, 4, 5, 6, 7, 8], inplace=True)\n",
    "\n",
    "client_df['marital'].replace(['married', 'single', 'divorced', 'unknown'], [1, 2, 3, 4], inplace=True)\n",
    "\n",
    "client_df['default'].replace(['yes', 'no', 'unknown'],[1, 2, 3], inplace=True)\n",
    "\n",
    "client_df['housing'].replace(['yes', 'no', 'unknown'],[1, 2, 3], inplace=True)\n",
    "\n",
    "client_df['loan'].replace(['yes', 'no', 'unknown'],[1, 2, 3], inplace=True)\n",
    "\"\"\"\n"
   ]
  },
  {
   "cell_type": "markdown",
   "metadata": {
    "_uuid": "21591553109079127fdf430e56bf48c4702b4773"
   },
   "source": [
    "# One hot encoding for all categorical values"
   ]
  },
  {
   "cell_type": "code",
   "execution_count": null,
   "metadata": {
    "_uuid": "b1bd335d4c1cf957cbab75ac68b2db0090d1c1b6"
   },
   "outputs": [],
   "source": [
    "client_df=pd.get_dummies(client_df)\n",
    "client_df.head()"
   ]
  },
  {
   "cell_type": "markdown",
   "metadata": {
    "_uuid": "5fb3c263c3f0e0f0b1bf62e037ce5b74da113216"
   },
   "source": []
  },
  {
   "cell_type": "markdown",
   "metadata": {
    "_uuid": "60563957ca3406044de46b2ef2fb955aaea0979e"
   },
   "source": [
    "# Marketing Data Analysis"
   ]
  },
  {
   "cell_type": "code",
   "execution_count": null,
   "metadata": {
    "_uuid": "e1b91a71ce905e020f6fb55b662e190eeec28483",
    "collapsed": true
   },
   "outputs": [],
   "source": [
    "# Creating seperate datasets for marketing related data\n",
    "marketing_df = bank_df.iloc[: , 7:15]\n",
    "marketing_df.head()\n"
   ]
  },
  {
   "cell_type": "code",
   "execution_count": null,
   "metadata": {
    "_uuid": "7fb43f8d42818f390ab71bd1233d65e0866c39f9",
    "collapsed": true
   },
   "outputs": [],
   "source": [
    "\n",
    "fig, ax = plt.subplots()\n",
    "fig.set_size_inches(4, 4)\n",
    "sns.countplot(x = 'contact', data = marketing_df)\n",
    "ax.set_xlabel('Contact Mode', fontsize=15)\n",
    "ax.set_ylabel('Count', fontsize=15)\n",
    "ax.set_title('Contact Count Distribution', fontsize=15)\n",
    "ax.tick_params(labelsize=15)\n"
   ]
  },
  {
   "cell_type": "code",
   "execution_count": null,
   "metadata": {
    "_uuid": "a95697734e4bf5d19912da5838e89c2c23ca4ede",
    "collapsed": true
   },
   "outputs": [],
   "source": [
    "\n",
    "fig, ax = plt.subplots()\n",
    "fig.set_size_inches(8, 8)\n",
    "sns.countplot(x = 'month', data = marketing_df)\n",
    "ax.set_xlabel('Month wise campaigns', fontsize=15)\n",
    "ax.set_ylabel('Count', fontsize=15)\n",
    "ax.set_title('Month Count Distribution', fontsize=15)\n",
    "ax.tick_params(labelsize=15)\n"
   ]
  },
  {
   "cell_type": "code",
   "execution_count": null,
   "metadata": {
    "_uuid": "7898e67940e1fbb3fa470de6370eaaaf4534c1ad",
    "collapsed": true
   },
   "outputs": [],
   "source": [
    "\n",
    "fig, ax = plt.subplots()\n",
    "fig.set_size_inches(8, 8)\n",
    "sns.countplot(x = 'day_of_week', data = marketing_df)\n",
    "ax.set_xlabel('Week wise campaigns', fontsize=15)\n",
    "ax.set_ylabel('Count', fontsize=15)\n",
    "ax.set_title('Week Count Distribution', fontsize=15)\n",
    "ax.tick_params(labelsize=15)\n"
   ]
  },
  {
   "cell_type": "code",
   "execution_count": null,
   "metadata": {
    "_uuid": "9915d0736c76377a682972a9ffbe4b5212d3ec0b"
   },
   "outputs": [],
   "source": [
    "# checking the duration column\n",
    "\n",
    "fig, (ax1) = plt.subplots(nrows = 1, ncols = 1, figsize = (10, 5))\n",
    "sns.boxplot(x = 'duration', data = marketing_df, orient = 'h', ax = ax1)\n",
    "ax1.set_xlabel('Call duration', fontsize=15)\n",
    "ax1.set_ylabel('Duration', fontsize=15)\n",
    "ax1.set_title('Call duration Distribution', fontsize=15)\n",
    "ax1.tick_params(labelsize=15)\n"
   ]
  },
  {
   "cell_type": "code",
   "execution_count": null,
   "metadata": {
    "_uuid": "32f827bd7c072f814d57c2fab966d03ac1462aaa",
    "collapsed": true
   },
   "outputs": [],
   "source": [
    "# finding the outliers\n",
    "\n",
    "Q1=marketing_df['duration'].quantile(q = 0.25)\n",
    "Q2=marketing_df['duration'].quantile(q = 0.50)\n",
    "Q3=marketing_df['duration'].quantile(q = 0.75)\n",
    "Q4=marketing_df['duration'].quantile(q = 1.00)                        \n",
    "\n",
    "IQR= Q3-Q1\n",
    "\n",
    "print('1st Quartile: ', Q1)\n",
    "print('2nd Quartile: ', Q2)\n",
    "print('3rd Quartile: ', Q3)\n",
    "print('4th Quartile: ', Q4)\n",
    "print('IQR: ',IQR)\n",
    "\n",
    "\n",
    "print('Duration above: ', Q3 + 1.5*(IQR), 'are outliers')\n",
    "print('Duration below: ', Q1 - 1.5*(IQR), 'are outliers')\n",
    "\n"
   ]
  },
  {
   "cell_type": "markdown",
   "metadata": {
    "_uuid": "6cdbbcec446bf55f64c9eab217fd758414d209c1"
   },
   "source": [
    "# Dividing the duration into buckets"
   ]
  },
  {
   "cell_type": "code",
   "execution_count": null,
   "metadata": {
    "_uuid": "671b94dc0a0d0a3e21a9549b80624382d8c13d92",
    "collapsed": true
   },
   "outputs": [],
   "source": [
    "def duration(df):\n",
    "\n",
    "    df.loc[df['duration'] <= 102, 'duration'] = 1\n",
    "    df.loc[(df['duration'] > 102) & (df['duration'] <= 180)  , 'duration']    = 2\n",
    "    df.loc[(df['duration'] > 180) & (df['duration'] <= 319)  , 'duration']   = 3\n",
    "    df.loc[(df['duration'] > 319) & (df['duration'] <= 644.5), 'duration'] = 4\n",
    "    df.loc[df['duration']  > 644.5, 'duration'] = 5\n",
    "\n",
    "    return df\n",
    "\n",
    "duration(marketing_df).head()"
   ]
  },
  {
   "cell_type": "markdown",
   "metadata": {
    "_uuid": "f29e0eaa7274f5dc48c6e4d79184a4db6c40ff70"
   },
   "source": [
    "### Enconding - Month"
   ]
  },
  {
   "cell_type": "code",
   "execution_count": null,
   "metadata": {
    "_uuid": "6c6842754b1f6060c589b2b23df51eb16dc14553",
    "collapsed": true
   },
   "outputs": [],
   "source": [
    "\n",
    "d_mons = {'jan':1, 'feb':2, 'mar':3, 'apr':4, 'may':5, \n",
    "    'jun':6, 'jul':7, 'aug':8, 'sep':9, 'oct':10,\n",
    "    'nov':11, 'dec':12}\n",
    "\n",
    "marketing_df.month=marketing_df.month.map(d_mons)\n"
   ]
  },
  {
   "cell_type": "code",
   "execution_count": null,
   "metadata": {
    "_uuid": "8c2dbe1cde778e3a8617dac7fe907bc1ddcba649",
    "collapsed": true
   },
   "outputs": [],
   "source": [
    "# converting datatype to int\n",
    "marketing_df['month'] =marketing_df['month'].astype(str).astype(int)"
   ]
  },
  {
   "cell_type": "markdown",
   "metadata": {
    "_uuid": "38fc701474105e5da19249bd5befa01305a43182"
   },
   "source": [
    "### Correlation - Marketing Data"
   ]
  },
  {
   "cell_type": "code",
   "execution_count": null,
   "metadata": {
    "_uuid": "d6c99af993fa698e6eb6835bef31f4bccd08dfa9",
    "collapsed": true
   },
   "outputs": [],
   "source": [
    "corr=marketing_df.corr()\n",
    "corr"
   ]
  },
  {
   "cell_type": "code",
   "execution_count": null,
   "metadata": {
    "_uuid": "533ee9f149b30b0d0f96fa4c51ab393390f3a89c",
    "collapsed": true,
    "scrolled": false
   },
   "outputs": [],
   "source": [
    "sns.set_context(\"notebook\",font_scale = 1.0, rc = {\"lines.linewidth\":2.5})\n",
    "plt.figure(figsize = (13,7))\n",
    "a = sns.heatmap(corr, annot = True, fmt = \".2f\")"
   ]
  },
  {
   "cell_type": "markdown",
   "metadata": {
    "_uuid": "a726bd1cf96c597bede66cc667ffa2da6feb411b"
   },
   "source": [
    "### OneHotEncoding"
   ]
  },
  {
   "cell_type": "code",
   "execution_count": null,
   "metadata": {
    "_uuid": "d8cf1a3be03c1cba660aa8a571a5eaccbb92cbed",
    "collapsed": true
   },
   "outputs": [],
   "source": [
    "#marketing_df['contact']=pd.get_dummies(marketing_df['contact'])\n",
    "#marketing_df['poutcome']=pd.get_dummies(marketing_df['poutcome'])\n",
    "\n",
    "from sklearn.preprocessing import LabelEncoder\n",
    "le = LabelEncoder()\n",
    "marketing_df['contact'] = le.fit_transform(marketing_df['contact'])\n",
    "marketing_df['poutcome'] = le.fit_transform(marketing_df['poutcome'])"
   ]
  },
  {
   "cell_type": "code",
   "execution_count": null,
   "metadata": {
    "_uuid": "37f198f7d561375fed11000dae6d581fddefdc65",
    "collapsed": true
   },
   "outputs": [],
   "source": [
    "#marketing_df= marketing_df.loc[:, marketing_df.columns != 'day_of_week']\n",
    "#marketing_df= marketing_df.loc[:, marketing_df.columns != 'previous']\n",
    "d_week = {'mon':1, 'tue':2, 'wed':3, 'thu':4, 'fri':5, \n",
    "    'sat':6, 'sun':7}\n",
    "\n",
    "marketing_df.day_of_week=marketing_df.day_of_week.map(d_week)"
   ]
  },
  {
   "cell_type": "code",
   "execution_count": null,
   "metadata": {
    "_uuid": "f90e7472f918aacf57e408f54486f0837526561d",
    "collapsed": true
   },
   "outputs": [],
   "source": [
    "# converting datatype to int\n",
    "\n",
    "marketing_df['contact'] =marketing_df['contact'].astype(str).astype(int)\n",
    "marketing_df['month'] =marketing_df['month'].astype(str).astype(int)\n",
    "marketing_df['day_of_week'] =marketing_df['day_of_week'].astype(str).astype(int)\n",
    "marketing_df['poutcome'] =marketing_df['poutcome'].astype(str).astype(int)"
   ]
  },
  {
   "cell_type": "code",
   "execution_count": null,
   "metadata": {
    "_uuid": "c1d2bbcfc7dbdbb88457d494daaeaf2a28177ca7",
    "collapsed": true
   },
   "outputs": [],
   "source": [
    "marketing_df.head()"
   ]
  },
  {
   "cell_type": "markdown",
   "metadata": {
    "_uuid": "7b4629796e97f3d58f0d1f094dd2835e38fced17"
   },
   "source": [
    "# Economic Index data"
   ]
  },
  {
   "cell_type": "code",
   "execution_count": null,
   "metadata": {
    "_uuid": "400f2aa3abab40f0425ed9dcf53adae57af156fc",
    "collapsed": true
   },
   "outputs": [],
   "source": [
    "# Slicing market economic index data \n",
    "index_df = bank_df.iloc[: , 15:21]\n",
    "index_df.head()"
   ]
  },
  {
   "cell_type": "code",
   "execution_count": null,
   "metadata": {
    "_uuid": "8fea2a6598ec897883411f06090350cef5aac094",
    "collapsed": true
   },
   "outputs": [],
   "source": [
    "idx_corr=index_df.corr()\n",
    "idx_corr"
   ]
  },
  {
   "cell_type": "code",
   "execution_count": null,
   "metadata": {
    "_uuid": "e548121cfffa9f44ba048389d26fa6f683e23c18",
    "collapsed": true
   },
   "outputs": [],
   "source": [
    "sns.set_context(\"notebook\",font_scale = 1.0, rc = {\"lines.linewidth\":2.5})\n",
    "plt.figure(figsize = (10,7))\n",
    "a = sns.heatmap(idx_corr, annot = True, fmt = \".2f\")"
   ]
  },
  {
   "cell_type": "markdown",
   "metadata": {
    "_uuid": "76d0f380d943a07b85c73105e63d7dd4946f186b"
   },
   "source": [
    "###  High correlation \n",
    "\n",
    "euribor3m variable is highly correlated with 3 variables such as emp.var.rate, cons.price.idx & nr.employed variables so we can straight away remove these variables"
   ]
  },
  {
   "cell_type": "code",
   "execution_count": null,
   "metadata": {
    "_uuid": "e6aed53776c52e5c6b8e9863e91e3e0a28608989",
    "collapsed": true
   },
   "outputs": [],
   "source": [
    "index_df= index_df.loc[:, index_df.columns != 'emp.var.rate']\n",
    "index_df= index_df.loc[:, index_df.columns != 'cons.price.idx']\n",
    "index_df= index_df.loc[:, index_df.columns != 'nr.employed']"
   ]
  },
  {
   "cell_type": "markdown",
   "metadata": {
    "_uuid": "4c6862ded3a060705b9ccff2a7e201b417a43fb9"
   },
   "source": [
    "### Combining 3 dataframes"
   ]
  },
  {
   "cell_type": "code",
   "execution_count": null,
   "metadata": {
    "_uuid": "076ae524ee0ffff671b4a151d1bc54e067c872ad",
    "collapsed": true
   },
   "outputs": [],
   "source": [
    "bank_final_df= pd.concat([client_df, marketing_df, index_df], axis = 1)\n",
    "bank_final_df.shape"
   ]
  },
  {
   "cell_type": "code",
   "execution_count": null,
   "metadata": {
    "_uuid": "e3002c581234a7ca86d3f8df67f505490ef825fd",
    "collapsed": true
   },
   "outputs": [],
   "source": [
    "bank_final_df.info()"
   ]
  },
  {
   "cell_type": "markdown",
   "metadata": {
    "_uuid": "63b13f91e013f273b6947b2d59102d95917ae963"
   },
   "source": [
    "### Feature Importance"
   ]
  },
  {
   "cell_type": "code",
   "execution_count": null,
   "metadata": {
    "_uuid": "2d2f31c91931078d5713cebb5eaed286dd5b40de",
    "collapsed": true
   },
   "outputs": [],
   "source": [
    "#from sklearn.model_selection import train_test_split\n",
    "X = bank_final_df.loc[:, bank_final_df.columns != 'y']\n",
    "Y = bank_final_df.loc[:, bank_final_df.columns == 'y']"
   ]
  },
  {
   "cell_type": "code",
   "execution_count": null,
   "metadata": {
    "_uuid": "b416df59bf06fad124a56900a7500ddc090818d3",
    "collapsed": true
   },
   "outputs": [],
   "source": [
    "## Import the random forest model.\n",
    "from sklearn.ensemble import RandomForestClassifier \n",
    "## This line instantiates the model. \n",
    "rf = RandomForestClassifier() \n",
    "## Fit the model on your training data.\n",
    "rf.fit(X, Y) \n",
    "## And score it on your testing data.\n",
    "rf.score(X, Y)\n",
    "\n",
    "feature_importances = pd.DataFrame(rf.feature_importances_,\n",
    "                                   index = X.columns,\n",
    "                                    columns=['importance']).sort_values('importance',ascending=False)"
   ]
  },
  {
   "cell_type": "code",
   "execution_count": null,
   "metadata": {
    "_uuid": "6a616553823e3f31913774d8eb290e4b50288e22",
    "collapsed": true
   },
   "outputs": [],
   "source": [
    "feature_importances.to_csv('feature_importance_4.csv')"
   ]
  },
  {
   "cell_type": "markdown",
   "metadata": {
    "_uuid": "d921e315786d848939898170523c49fd5a35b39b"
   },
   "source": [
    "### Based on the feature importance given by random forest, we have taken all the variable which gave more than 1% of imporantce"
   ]
  },
  {
   "cell_type": "markdown",
   "metadata": {
    "_uuid": "e21fd7443758acb80769c154f1f3ecff5b022e90"
   },
   "source": [
    "# Seperating X and Y"
   ]
  },
  {
   "cell_type": "code",
   "execution_count": null,
   "metadata": {
    "_uuid": "1f9a2bb536031f5037976e95358f30c9923c5a03",
    "collapsed": true
   },
   "outputs": [],
   "source": [
    "bank_final_df['y'].replace(['yes', 'no'],[1,0 ], inplace=True)"
   ]
  },
  {
   "cell_type": "code",
   "execution_count": null,
   "metadata": {
    "_uuid": "40c66539594b87f9863a45de5038deabcb164017",
    "collapsed": true
   },
   "outputs": [],
   "source": [
    "bank_final_df.columns"
   ]
  },
  {
   "cell_type": "code",
   "execution_count": null,
   "metadata": {
    "_uuid": "2131cc390be54dc3b996a86786449032b760160c",
    "collapsed": true
   },
   "outputs": [],
   "source": [
    "bank_final_df = bank_final_df[['y','duration',\n",
    "'euribor3m',\n",
    "'cons.conf.idx',\n",
    "'campaign',\n",
    "'day_of_week',\n",
    "'month',\n",
    "'age',\n",
    "'previous',\n",
    "'pdays',\n",
    "'housing_yes',\n",
    "'housing_no',\n",
    "'contact',\n",
    "'marital_married',\n",
    "'job_admin.']]"
   ]
  },
  {
   "cell_type": "code",
   "execution_count": null,
   "metadata": {
    "_uuid": "b132ba9f3ce5cdcd6a1acd1b1b56d6f332a2e778",
    "collapsed": true
   },
   "outputs": [],
   "source": [
    "X = bank_final_df.loc[:, bank_final_df.columns != 'y']\n",
    "Y = bank_final_df.loc[:, bank_final_df.columns == 'y']"
   ]
  },
  {
   "cell_type": "code",
   "execution_count": null,
   "metadata": {
    "_uuid": "55e3424a98344c7041eb8f28c9c5eccecbafe989",
    "collapsed": true
   },
   "outputs": [],
   "source": [
    "X.columns"
   ]
  },
  {
   "cell_type": "markdown",
   "metadata": {
    "_uuid": "0e4cc4309cecf3f0b2d88ee4d91fbf3d4bb16c43"
   },
   "source": [
    "# Splitting the data into Test and Train"
   ]
  },
  {
   "cell_type": "code",
   "execution_count": null,
   "metadata": {
    "_uuid": "8cdc43db1a05035d90a96bf0698d80e3da3729e0",
    "collapsed": true
   },
   "outputs": [],
   "source": [
    "from sklearn.model_selection import train_test_split\n",
    "from sklearn.model_selection import KFold\n",
    "from sklearn.model_selection import cross_val_score\n",
    "from sklearn.metrics import confusion_matrix, accuracy_score"
   ]
  },
  {
   "cell_type": "code",
   "execution_count": null,
   "metadata": {
    "_uuid": "6b7c473f7cc8175fb952702a47929f96cfbf0cbd",
    "collapsed": true
   },
   "outputs": [],
   "source": [
    "X_train, X_test, y_train, y_test = train_test_split(X, Y, test_size=0.3, random_state=0)\n",
    "columns = X_train.columns"
   ]
  },
  {
   "cell_type": "markdown",
   "metadata": {
    "_uuid": "7ed11d91eb70256a43f0ed8fa02f8a0843a98279"
   },
   "source": [
    "# SMOTE"
   ]
  },
  {
   "cell_type": "code",
   "execution_count": null,
   "metadata": {
    "_uuid": "5f90fbe5d76fb9f030baabd8e5116dd69825f8d2",
    "collapsed": true
   },
   "outputs": [],
   "source": [
    "from imblearn.over_sampling import SMOTE\n",
    "os = SMOTE(random_state=0)"
   ]
  },
  {
   "cell_type": "code",
   "execution_count": null,
   "metadata": {
    "_uuid": "69986d402e86f39f59f6e7fb4dbee666ee6a71de",
    "collapsed": true
   },
   "outputs": [],
   "source": [
    "os_data_X,os_data_y=os.fit_sample(X_train, y_train)\n",
    "os_data_X = pd.DataFrame(data=os_data_X,columns=columns )\n",
    "os_data_y= pd.DataFrame(data=os_data_y,columns=['y'])\n",
    "# we can Check the numbers of our data\n",
    "print(\"length of oversampled data is \",len(os_data_X))\n",
    "print(\"Number of no subscription in oversampled data\",len(os_data_y[os_data_y['y']==0]))\n",
    "print(\"Number of subscription\",len(os_data_y[os_data_y['y']==1]))\n",
    "print(\"Proportion of no subscription data in oversampled data is \",len(os_data_y[os_data_y['y']==0])/len(os_data_X))\n",
    "print(\"Proportion of subscription data in oversampled data is \",len(os_data_y[os_data_y['y']==1])/len(os_data_X))"
   ]
  },
  {
   "cell_type": "code",
   "execution_count": null,
   "metadata": {
    "_uuid": "63d515ded0176889bb1b576c75a0334630d30764",
    "collapsed": true
   },
   "outputs": [],
   "source": [
    "X=os_data_X\n",
    "Y=os_data_y"
   ]
  },
  {
   "cell_type": "code",
   "execution_count": null,
   "metadata": {
    "_uuid": "063bcc8937738f3cfc74e192a8f2ff16df40abe9",
    "collapsed": true
   },
   "outputs": [],
   "source": [
    "X_train, X_test, y_train, y_test = train_test_split(X, Y, test_size=0.3, random_state=0)\n",
    "columns = X_train.columns"
   ]
  },
  {
   "cell_type": "markdown",
   "metadata": {
    "_uuid": "0060dbc7af9e5925a3dc45679284c229ea9d2c59"
   },
   "source": [
    "# Model Selection"
   ]
  },
  {
   "cell_type": "markdown",
   "metadata": {
    "_uuid": "5788e7829252a2e3107780777e13b4fe277c83d5"
   },
   "source": [
    "### Random Forest"
   ]
  },
  {
   "cell_type": "code",
   "execution_count": null,
   "metadata": {
    "_uuid": "c66d3a906ffac8f20eea6fc86fef470b729d564a",
    "collapsed": true
   },
   "outputs": [],
   "source": [
    "# Random Forest\n",
    "random_forest = RandomForestClassifier(n_estimators=100)\n",
    "random_forest.fit(X_train, y_train)\n",
    "\n",
    "y_pred = random_forest.predict(X_test)\n",
    "\n",
    "random_forest.score(X_train, y_train)\n",
    "acc_random_forest = round(random_forest.score(X_train, y_train) * 100, 2)\n",
    "print(round(acc_random_forest,2,), \"%\")\n",
    "\n",
    "cm_rf = confusion_matrix(y_test, y_pred)\n",
    "print(\"Report Entropy: \", classification_report(y_test, y_pred))"
   ]
  },
  {
   "cell_type": "markdown",
   "metadata": {
    "_uuid": "ff208181f54966aafdebba09fdb970f32efb57fa"
   },
   "source": [
    "### Logistic Regression"
   ]
  },
  {
   "cell_type": "code",
   "execution_count": null,
   "metadata": {
    "_uuid": "33890773d4c2477950361d4539d9224a46faaa71",
    "collapsed": true
   },
   "outputs": [],
   "source": [
    "# Logistic Regression\n",
    "logreg = LogisticRegression()\n",
    "logreg.fit(X_train, y_train)\n",
    "\n",
    "y_pred = logreg.predict(X_test)\n",
    "\n",
    "acc_log = round(logreg.score(X_train, y_train) * 100, 2)\n",
    "print(round(acc_log,2,), \"%\")\n",
    "\n",
    "cm_lr = confusion_matrix(y_test, y_pred)\n",
    "print(\"Report Entropy: \", classification_report(y_test, y_pred))"
   ]
  },
  {
   "cell_type": "markdown",
   "metadata": {
    "_uuid": "2af9452c15b83263971faef88f956d7e2b041f31"
   },
   "source": [
    "### Naive Bayes"
   ]
  },
  {
   "cell_type": "code",
   "execution_count": null,
   "metadata": {
    "_uuid": "71bf0c1dcf166ba8cccaf9730b3d80468fd76998",
    "collapsed": true
   },
   "outputs": [],
   "source": [
    "# Gaussian Naive Bayes\n",
    "gaussian = GaussianNB()\n",
    "gaussian.fit(X_train, y_train)\n",
    "\n",
    "y_pred = gaussian.predict(X_test)\n",
    "\n",
    "acc_gaussian = round(gaussian.score(X_train, y_train) * 100, 2)\n",
    "print(round(acc_gaussian,2,), \"%\")\n",
    "\n",
    "cm_nv = confusion_matrix(y_test, y_pred)\n",
    "print(\"Report Entropy: \", classification_report(y_test, y_pred))"
   ]
  },
  {
   "cell_type": "markdown",
   "metadata": {
    "_uuid": "b328292733872a912312e89eea6b4076cb398c26"
   },
   "source": [
    "### SVM"
   ]
  },
  {
   "cell_type": "code",
   "execution_count": null,
   "metadata": {
    "_uuid": "fc711bd024c08d26b6096e95be3ef298d7f4e18f",
    "collapsed": true
   },
   "outputs": [],
   "source": [
    "# Linear SVC\n",
    "linear_svc = LinearSVC()\n",
    "linear_svc.fit(X_train, y_train)\n",
    "\n",
    "y_pred = linear_svc.predict(X_test)\n",
    "\n",
    "acc_linear_svc = round(linear_svc.score(X_train, y_train) * 100, 2)\n",
    "print(round(acc_linear_svc,2,), \"%\")\n",
    "\n",
    "cm_svm = confusion_matrix(y_test, y_pred)\n",
    "print(\"Report Entropy: \", classification_report(y_test, y_pred))"
   ]
  },
  {
   "cell_type": "markdown",
   "metadata": {
    "_uuid": "005aa8967c25858fdedbe98a14ae1f7be70edc61"
   },
   "source": [
    "### Decision Tree"
   ]
  },
  {
   "cell_type": "code",
   "execution_count": null,
   "metadata": {
    "_uuid": "4d3881d10cb0f862c39e4d5f7eac247e67a94a28",
    "collapsed": true
   },
   "outputs": [],
   "source": [
    "# Decision Tree\n",
    "decision_tree = DecisionTreeClassifier()\n",
    "decision_tree.fit(X_train, y_train)\n",
    "\n",
    "y_pred = decision_tree.predict(X_test)\n",
    "\n",
    "acc_decision_tree = round(decision_tree.score(X_train, y_train) * 100, 2)\n",
    "print(round(acc_decision_tree,2,), \"%\")\n",
    "\n",
    "cm_dt = confusion_matrix(y_test, y_pred)\n",
    "print(\"Report Entropy: \", classification_report(y_test, y_pred))"
   ]
  },
  {
   "cell_type": "code",
   "execution_count": null,
   "metadata": {
    "_uuid": "4b1f633672e79869c8b7754bf6ca5742fa554dfe",
    "collapsed": true
   },
   "outputs": [],
   "source": [
    "results = pd.DataFrame({\n",
    "    'Model': ['Support Vector Machines', \n",
    "              'Logistic Regression', \n",
    "              'Random Forest', \n",
    "              'Naive Bayes', \n",
    "              'Decision Tree'],\n",
    "    'Score': [acc_linear_svc, \n",
    "              acc_log, \n",
    "              acc_random_forest, \n",
    "              acc_gaussian, \n",
    "              acc_decision_tree]})\n",
    "result_df = results.sort_values(by='Score', ascending=False)\n",
    "result_df = result_df.set_index('Score')\n",
    "result_df.head(9)"
   ]
  },
  {
   "cell_type": "markdown",
   "metadata": {
    "_uuid": "a8f2bc3d301f84018c2f90617ed42f4a84d98cf6"
   },
   "source": [
    "# Decision Tree"
   ]
  },
  {
   "cell_type": "markdown",
   "metadata": {
    "_uuid": "92152c2bd6361d9f45442b1d90542a20fa9d8870"
   },
   "source": [
    "### Hyper Parameter Tuning"
   ]
  },
  {
   "cell_type": "code",
   "execution_count": null,
   "metadata": {
    "_uuid": "019a940c5fce98f44a07765803e89acd21f0ad8c",
    "collapsed": true
   },
   "outputs": [],
   "source": [
    "from sklearn.metrics import roc_auc_score\n",
    "param_grid = {'max_depth': np.arange(1, 10)}\n",
    "\n",
    "grid_tree = GridSearchCV(DecisionTreeClassifier(), param_grid)\n",
    "grid_tree.fit(X_train, y_train)\n",
    "\n",
    "tree_preds = grid_tree.predict_proba(X_test)[:, 1]\n",
    "tree_performance = roc_auc_score(y_test, tree_preds)"
   ]
  },
  {
   "cell_type": "code",
   "execution_count": null,
   "metadata": {
    "_uuid": "b1730e0b301b14ccf69267e83f12deaa6af20c12",
    "collapsed": true
   },
   "outputs": [],
   "source": [
    "print(grid_tree.best_estimator_)\n",
    "print('DecisionTree: Area under the ROC curve = {}'.format(tree_performance))\n",
    "print('Best CV Score:')\n",
    "print(grid_tree.best_score_)"
   ]
  },
  {
   "cell_type": "code",
   "execution_count": null,
   "metadata": {
    "_uuid": "a65b66b107f260e0b9dd8f7f7934909816c294db",
    "collapsed": true
   },
   "outputs": [],
   "source": [
    "from sklearn.metrics import roc_curve, auc\n",
    "max_depths = np.linspace(1, 32, 32, endpoint=True)\n",
    "train_results = []\n",
    "test_results = []\n",
    "for max_depth in max_depths:\n",
    "    dt = DecisionTreeClassifier(max_depth=max_depth)\n",
    "    dt.fit(X_train, y_train)\n",
    "    train_pred = dt.predict(X_train)\n",
    "    false_positive_rate, true_positive_rate, thresholds = roc_curve(y_train, train_pred)\n",
    "    roc_auc = auc(false_positive_rate, true_positive_rate)\n",
    "    # Add auc score to previous train results\n",
    "    train_results.append(roc_auc)\n",
    "    y_pred = dt.predict(X_test)\n",
    "    false_positive_rate, true_positive_rate, thresholds = roc_curve(y_test, y_pred)\n",
    "    roc_auc = auc(false_positive_rate, true_positive_rate)\n",
    "    # Add auc score to previous test results\n",
    "    test_results.append(roc_auc)\n",
    "from matplotlib.legend_handler import HandlerLine2D\n",
    "line1, = plt.plot(max_depths, train_results, 'b', label=\"Train AUC\")\n",
    "line2, = plt.plot(max_depths, test_results, 'r', label=\"Test AUC\")\n",
    "plt.legend(handler_map={line1: HandlerLine2D(numpoints=2)})\n",
    "plt.ylabel('AUC score')\n",
    "plt.xlabel('Tree depth')\n",
    "plt.show()"
   ]
  },
  {
   "cell_type": "code",
   "execution_count": null,
   "metadata": {
    "_uuid": "58719a5eaa64f02f2a6adc7833c076b3bd25bb52",
    "collapsed": true
   },
   "outputs": [],
   "source": [
    "# Decision tree with entropy \n",
    "clf_gini =DecisionTreeClassifier(class_weight=None, criterion='gini', max_depth=5,\n",
    "            max_features=None, max_leaf_nodes=None,\n",
    "            min_impurity_decrease=0.0, min_impurity_split=None,\n",
    "            min_samples_leaf=1, min_samples_split=2,\n",
    "            min_weight_fraction_leaf=0.0, presort=False, random_state=None,\n",
    "            splitter='best')\n",
    "\n",
    "\n",
    "clf_gini.fit(X, Y) "
   ]
  },
  {
   "cell_type": "code",
   "execution_count": null,
   "metadata": {
    "_uuid": "67a3e02d8484f7cc9122b88a052b387f42755e4b",
    "collapsed": true
   },
   "outputs": [],
   "source": [
    "scores = cross_val_score(clf_gini, X_train, y_train, cv=10, scoring = \"accuracy\")\n",
    "print(\"Gini Scores:\", scores)\n",
    "print(\"Gini Mean:\", scores.mean())\n",
    "print(\"Gini Standard Deviation:\", scores.std())"
   ]
  },
  {
   "cell_type": "code",
   "execution_count": null,
   "metadata": {
    "_uuid": "d98ad4ec6d461d91ee55b0f1e720b8f846156d05",
    "collapsed": true
   },
   "outputs": [],
   "source": [
    "# Predicton on test with entropy \n",
    "y_pred_gini = clf_gini.predict(X_test) \n",
    "print(\"Predicted values:\") \n",
    "print(y_pred_gini) "
   ]
  },
  {
   "cell_type": "code",
   "execution_count": null,
   "metadata": {
    "_uuid": "dd1783b5073c4e64a9e53c07f9696637fcdb67b5",
    "collapsed": true
   },
   "outputs": [],
   "source": [
    "print(\"Confusion Matrix Entropy: \", confusion_matrix(y_test, y_pred_gini)) \n",
    "print (\"Accuracy Entropy: \", accuracy_score(y_test,y_pred_gini)*100) \n",
    "print(\"Report Entropy: \", classification_report(y_test, y_pred_gini))"
   ]
  },
  {
   "cell_type": "code",
   "execution_count": null,
   "metadata": {
    "_uuid": "234f5ea9f6d33b22e5ac10391709c6102d69ee22",
    "collapsed": true
   },
   "outputs": [],
   "source": [
    "feature_names = X.columns\n",
    "class_names = str(Y.columns)\n",
    "\n",
    "dot_data = export_graphviz(clf_gini, out_file=None, filled=True, rounded=True,\n",
    "                                feature_names=feature_names,  \n",
    "                                class_names=class_names)\n",
    "graph = graphviz.Source(dot_data)  \n",
    "graph"
   ]
  },
  {
   "cell_type": "code",
   "execution_count": null,
   "metadata": {
    "_uuid": "07046f9a9f925cc3651c44e7bd7631b8d629d807",
    "collapsed": true
   },
   "outputs": [],
   "source": [
    "from sklearn.metrics import roc_auc_score\n",
    "from sklearn.metrics import roc_curve\n",
    "logit_roc_auc = roc_auc_score(y_test, clf_gini.predict(X_test))\n",
    "fpr, tpr, thresholds = roc_curve(y_test, clf_gini.predict_proba(X_test)[:,1])\n",
    "plt.figure()\n",
    "plt.plot(fpr, tpr, label='Decision Gini (area = %0.2f)' % logit_roc_auc)\n",
    "plt.plot([0, 1], [0, 1],'r--')\n",
    "plt.xlim([0.0, 1.0])\n",
    "plt.ylim([0.0, 1.05])\n",
    "plt.xlabel('False Positive Rate')\n",
    "plt.ylabel('True Positive Rate')\n",
    "plt.title('ROC Bank Marketing Prediction')\n",
    "plt.legend(loc=\"lower right\")\n",
    "plt.savefig('DecisionGini_ROC')\n",
    "plt.show()"
   ]
  },
  {
   "cell_type": "code",
   "execution_count": null,
   "metadata": {
    "_uuid": "935ee7f331cc9356b5b3266393d5333910eb238b",
    "collapsed": true
   },
   "outputs": [],
   "source": []
  },
  {
   "cell_type": "code",
   "execution_count": null,
   "metadata": {
    "_uuid": "97a9254b39fec42797648f5f9ae560480507d509",
    "collapsed": true
   },
   "outputs": [],
   "source": []
  },
  {
   "cell_type": "code",
   "execution_count": null,
   "metadata": {
    "_uuid": "bc951c2cc895d7770804beaecc34b9273516e247",
    "collapsed": true
   },
   "outputs": [],
   "source": []
  },
  {
   "cell_type": "code",
   "execution_count": null,
   "metadata": {
    "_uuid": "0cce9688259545833d4ba8a65d623b561e76ad95",
    "collapsed": true
   },
   "outputs": [],
   "source": []
  },
  {
   "cell_type": "code",
   "execution_count": null,
   "metadata": {
    "_uuid": "9ecd79c6977dbcbcdb7f1e3bb4ac019c5b01b992",
    "collapsed": true
   },
   "outputs": [],
   "source": []
  },
  {
   "cell_type": "code",
   "execution_count": null,
   "metadata": {
    "_uuid": "4e4c3dff2711d608635b8b09453366ad014886eb",
    "collapsed": true
   },
   "outputs": [],
   "source": []
  },
  {
   "cell_type": "code",
   "execution_count": null,
   "metadata": {
    "_uuid": "2850bb5a6e6101d58ae3a763a55cae3f6a944e83",
    "collapsed": true
   },
   "outputs": [],
   "source": []
  },
  {
   "cell_type": "code",
   "execution_count": null,
   "metadata": {
    "_uuid": "0e3f2b851200e9ef158921a115b66101f77dd441",
    "collapsed": true
   },
   "outputs": [],
   "source": []
  },
  {
   "cell_type": "code",
   "execution_count": null,
   "metadata": {
    "_uuid": "17f44d51b3afcbdc1799612acc52456c4bf9eae1",
    "collapsed": true
   },
   "outputs": [],
   "source": []
  },
  {
   "cell_type": "code",
   "execution_count": null,
   "metadata": {
    "_uuid": "b39958cef60dccccf2d9e1c50985853959347ca8",
    "collapsed": true
   },
   "outputs": [],
   "source": []
  },
  {
   "cell_type": "code",
   "execution_count": null,
   "metadata": {
    "_uuid": "43aef9ca3ff97bca41fcdf4665b7dd8e8c084773",
    "collapsed": true
   },
   "outputs": [],
   "source": []
  },
  {
   "cell_type": "code",
   "execution_count": null,
   "metadata": {
    "_uuid": "63421a24183bce609241bded99a26564084af69e",
    "collapsed": true
   },
   "outputs": [],
   "source": []
  }
 ],
 "metadata": {
  "kernelspec": {
   "display_name": "Python 3",
   "language": "python",
   "name": "python3"
  },
  "language_info": {
   "codemirror_mode": {
    "name": "ipython",
    "version": 3
   },
   "file_extension": ".py",
   "mimetype": "text/x-python",
   "name": "python",
   "nbconvert_exporter": "python",
   "pygments_lexer": "ipython3",
   "version": "3.5.4"
  }
 },
 "nbformat": 4,
 "nbformat_minor": 1
}
