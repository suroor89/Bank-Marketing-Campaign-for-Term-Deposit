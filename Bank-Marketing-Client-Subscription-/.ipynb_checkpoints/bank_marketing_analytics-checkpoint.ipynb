{
 "cells": [
  {
   "cell_type": "markdown",
   "metadata": {},
   "source": [
    "# <center>Portuguese Bank Marketing Analytics"
   ]
  },
  {
   "cell_type": "markdown",
   "metadata": {},
   "source": [
    "# Table of Contents\n",
    "1. **[Project Background](#1)**\n",
    "2. **[Load the data and Examine the data](#2)**\n",
    "3. **[Data Cleaning](#3)**\n",
    "4. **[Exploratory Data Analysis](#4)**\n",
    "5. **[Data Visualization](#5)**\n",
    "6. **[Machine Learning: Classification](#6)**\n",
    "7. **[Conclusion & Recommendations](#7)**"
   ]
  },
  {
   "cell_type": "markdown",
   "metadata": {},
   "source": [
    "### 1. Project Background"
   ]
  },
  {
   "cell_type": "markdown",
   "metadata": {},
   "source": [
    "Portuguese bank lost their revenue, and they wanted to investigate why their revenue declined. So, they can take necessary steps to solve bank problems. After deep analysis, they discovered that the main reason is that their clients are not depositing as frequently as before. Expressive to term deposits allow banks to hold onto a deposit for certain amount of time, so banks can invest in higher gain financial products to make a profit. Furthermore, banks also hold better chance to encourage term deposit clients into buying other products such as funds or insurance to further increase their revenues. Consequently, the Portuguese bank would like to identify existing clients that have higher chance to subscribe for a term deposit and focus marketing efforts on such clients."
   ]
  },
  {
   "cell_type": "markdown",
   "metadata": {},
   "source": [
    "###### This Jupyter Notebook loads, explores, and visualizes the Bank Marketing datasets. Also, builds and tests several predictive models, and then predict if client will subscribe a term deposit on test data using the best model."
   ]
  },
  {
   "cell_type": "code",
   "execution_count": 1,
   "metadata": {},
   "outputs": [
    {
     "name": "stdout",
     "output_type": "stream",
     "text": [
      "/Users/suroor/Desktop/Springboard/Bank-Marketing-Campaign-for-Term-Deposit/Bank-Marketing-Client-Subscription-\r\n"
     ]
    }
   ],
   "source": [
    "# Current workspace\n",
    "!pwd"
   ]
  },
  {
   "cell_type": "code",
   "execution_count": 2,
   "metadata": {},
   "outputs": [
    {
     "data": {
      "text/html": [
       "        <script type=\"text/javascript\">\n",
       "        window.PlotlyConfig = {MathJaxConfig: 'local'};\n",
       "        if (window.MathJax) {MathJax.Hub.Config({SVG: {font: \"STIX-Web\"}});}\n",
       "        if (typeof require !== 'undefined') {\n",
       "        require.undef(\"plotly\");\n",
       "        requirejs.config({\n",
       "            paths: {\n",
       "                'plotly': ['https://cdn.plot.ly/plotly-latest.min']\n",
       "            }\n",
       "        });\n",
       "        require(['plotly'], function(Plotly) {\n",
       "            window._Plotly = Plotly;\n",
       "        });\n",
       "        }\n",
       "        </script>\n",
       "        "
      ]
     },
     "metadata": {},
     "output_type": "display_data"
    }
   ],
   "source": [
    "import os\n",
    "os.environ['KMP_DUPLICATE_LIB_OK']= 'True'\n",
    "#import libraries\n",
    "import numpy as np\n",
    "import pandas as pd\n",
    "import matplotlib.pyplot as plt\n",
    "import seaborn as sns\n",
    "import sklearn as sk\n",
    "import plotly.graph_objs as go\n",
    "from sklearn.utils import shuffle\n",
    "from plotly.offline import download_plotlyjs, init_notebook_mode, plot, iplot\n",
    "init_notebook_mode(connected=True)\n",
    "\n",
    "%matplotlib inline"
   ]
  },
  {
   "cell_type": "markdown",
   "metadata": {},
   "source": [
    "###  2. Load the data and Examine the data"
   ]
  },
  {
   "cell_type": "code",
   "execution_count": 3,
   "metadata": {},
   "outputs": [],
   "source": [
    "#Load csv file to pd dataframe\n",
    "bank_data = pd.read_csv(\"bank-additional-full.csv\",sep=';')"
   ]
  },
  {
   "cell_type": "markdown",
   "metadata": {},
   "source": [
    "#### <font color=green>*Examine the data*</font>"
   ]
  },
  {
   "cell_type": "code",
   "execution_count": 4,
   "metadata": {},
   "outputs": [
    {
     "data": {
      "text/plain": [
       "Index(['age', 'job', 'marital', 'education', 'default', 'housing', 'loan',\n",
       "       'contact', 'month', 'day_of_week', 'duration', 'campaign', 'pdays',\n",
       "       'previous', 'poutcome', 'emp.var.rate', 'cons.price.idx',\n",
       "       'cons.conf.idx', 'euribor3m', 'nr.employed', 'y'],\n",
       "      dtype='object')"
      ]
     },
     "execution_count": 4,
     "metadata": {},
     "output_type": "execute_result"
    }
   ],
   "source": [
    "# Columns information\n",
    "bank_data.columns"
   ]
  },
  {
   "cell_type": "code",
   "execution_count": 5,
   "metadata": {},
   "outputs": [
    {
     "data": {
      "text/plain": [
       "Index(['age', 'job', 'marital', 'education', 'has_credit', 'housing_loan',\n",
       "       'personal_loan', 'contact', 'month', 'day_of_week', 'duration',\n",
       "       'campaign', 'pdays', 'previous', 'poutcome', 'emp.var.rate',\n",
       "       'cons.price.idx', 'cons.conf.idx', 'euribor3m', 'nr.employed',\n",
       "       'subscribed'],\n",
       "      dtype='object')"
      ]
     },
     "execution_count": 5,
     "metadata": {},
     "output_type": "execute_result"
    }
   ],
   "source": [
    "#change column names\n",
    "bank_data.rename(columns={'default': 'has_credit','housing':'housing_loan','loan':'personal_loan','y':'subscribed'}, inplace=True)\n",
    "bank_data.columns"
   ]
  },
  {
   "cell_type": "code",
   "execution_count": 6,
   "metadata": {},
   "outputs": [
    {
     "data": {
      "text/html": [
       "<div>\n",
       "<style scoped>\n",
       "    .dataframe tbody tr th:only-of-type {\n",
       "        vertical-align: middle;\n",
       "    }\n",
       "\n",
       "    .dataframe tbody tr th {\n",
       "        vertical-align: top;\n",
       "    }\n",
       "\n",
       "    .dataframe thead th {\n",
       "        text-align: right;\n",
       "    }\n",
       "</style>\n",
       "<table border=\"1\" class=\"dataframe\">\n",
       "  <thead>\n",
       "    <tr style=\"text-align: right;\">\n",
       "      <th></th>\n",
       "      <th>age</th>\n",
       "      <th>job</th>\n",
       "      <th>marital</th>\n",
       "      <th>education</th>\n",
       "      <th>has_credit</th>\n",
       "      <th>housing_loan</th>\n",
       "      <th>personal_loan</th>\n",
       "      <th>contact</th>\n",
       "      <th>month</th>\n",
       "      <th>day_of_week</th>\n",
       "      <th>...</th>\n",
       "      <th>campaign</th>\n",
       "      <th>pdays</th>\n",
       "      <th>previous</th>\n",
       "      <th>poutcome</th>\n",
       "      <th>emp.var.rate</th>\n",
       "      <th>cons.price.idx</th>\n",
       "      <th>cons.conf.idx</th>\n",
       "      <th>euribor3m</th>\n",
       "      <th>nr.employed</th>\n",
       "      <th>subscribed</th>\n",
       "    </tr>\n",
       "  </thead>\n",
       "  <tbody>\n",
       "    <tr>\n",
       "      <td>0</td>\n",
       "      <td>56</td>\n",
       "      <td>housemaid</td>\n",
       "      <td>married</td>\n",
       "      <td>basic.4y</td>\n",
       "      <td>no</td>\n",
       "      <td>no</td>\n",
       "      <td>no</td>\n",
       "      <td>telephone</td>\n",
       "      <td>may</td>\n",
       "      <td>mon</td>\n",
       "      <td>...</td>\n",
       "      <td>1</td>\n",
       "      <td>999</td>\n",
       "      <td>0</td>\n",
       "      <td>nonexistent</td>\n",
       "      <td>1.1</td>\n",
       "      <td>93.994</td>\n",
       "      <td>-36.4</td>\n",
       "      <td>4.857</td>\n",
       "      <td>5191.0</td>\n",
       "      <td>no</td>\n",
       "    </tr>\n",
       "    <tr>\n",
       "      <td>1</td>\n",
       "      <td>57</td>\n",
       "      <td>services</td>\n",
       "      <td>married</td>\n",
       "      <td>high.school</td>\n",
       "      <td>unknown</td>\n",
       "      <td>no</td>\n",
       "      <td>no</td>\n",
       "      <td>telephone</td>\n",
       "      <td>may</td>\n",
       "      <td>mon</td>\n",
       "      <td>...</td>\n",
       "      <td>1</td>\n",
       "      <td>999</td>\n",
       "      <td>0</td>\n",
       "      <td>nonexistent</td>\n",
       "      <td>1.1</td>\n",
       "      <td>93.994</td>\n",
       "      <td>-36.4</td>\n",
       "      <td>4.857</td>\n",
       "      <td>5191.0</td>\n",
       "      <td>no</td>\n",
       "    </tr>\n",
       "    <tr>\n",
       "      <td>2</td>\n",
       "      <td>37</td>\n",
       "      <td>services</td>\n",
       "      <td>married</td>\n",
       "      <td>high.school</td>\n",
       "      <td>no</td>\n",
       "      <td>yes</td>\n",
       "      <td>no</td>\n",
       "      <td>telephone</td>\n",
       "      <td>may</td>\n",
       "      <td>mon</td>\n",
       "      <td>...</td>\n",
       "      <td>1</td>\n",
       "      <td>999</td>\n",
       "      <td>0</td>\n",
       "      <td>nonexistent</td>\n",
       "      <td>1.1</td>\n",
       "      <td>93.994</td>\n",
       "      <td>-36.4</td>\n",
       "      <td>4.857</td>\n",
       "      <td>5191.0</td>\n",
       "      <td>no</td>\n",
       "    </tr>\n",
       "    <tr>\n",
       "      <td>3</td>\n",
       "      <td>40</td>\n",
       "      <td>admin.</td>\n",
       "      <td>married</td>\n",
       "      <td>basic.6y</td>\n",
       "      <td>no</td>\n",
       "      <td>no</td>\n",
       "      <td>no</td>\n",
       "      <td>telephone</td>\n",
       "      <td>may</td>\n",
       "      <td>mon</td>\n",
       "      <td>...</td>\n",
       "      <td>1</td>\n",
       "      <td>999</td>\n",
       "      <td>0</td>\n",
       "      <td>nonexistent</td>\n",
       "      <td>1.1</td>\n",
       "      <td>93.994</td>\n",
       "      <td>-36.4</td>\n",
       "      <td>4.857</td>\n",
       "      <td>5191.0</td>\n",
       "      <td>no</td>\n",
       "    </tr>\n",
       "    <tr>\n",
       "      <td>4</td>\n",
       "      <td>56</td>\n",
       "      <td>services</td>\n",
       "      <td>married</td>\n",
       "      <td>high.school</td>\n",
       "      <td>no</td>\n",
       "      <td>no</td>\n",
       "      <td>yes</td>\n",
       "      <td>telephone</td>\n",
       "      <td>may</td>\n",
       "      <td>mon</td>\n",
       "      <td>...</td>\n",
       "      <td>1</td>\n",
       "      <td>999</td>\n",
       "      <td>0</td>\n",
       "      <td>nonexistent</td>\n",
       "      <td>1.1</td>\n",
       "      <td>93.994</td>\n",
       "      <td>-36.4</td>\n",
       "      <td>4.857</td>\n",
       "      <td>5191.0</td>\n",
       "      <td>no</td>\n",
       "    </tr>\n",
       "  </tbody>\n",
       "</table>\n",
       "<p>5 rows × 21 columns</p>\n",
       "</div>"
      ],
      "text/plain": [
       "   age        job  marital    education has_credit housing_loan personal_loan  \\\n",
       "0   56  housemaid  married     basic.4y         no           no            no   \n",
       "1   57   services  married  high.school    unknown           no            no   \n",
       "2   37   services  married  high.school         no          yes            no   \n",
       "3   40     admin.  married     basic.6y         no           no            no   \n",
       "4   56   services  married  high.school         no           no           yes   \n",
       "\n",
       "     contact month day_of_week  ...  campaign  pdays  previous     poutcome  \\\n",
       "0  telephone   may         mon  ...         1    999         0  nonexistent   \n",
       "1  telephone   may         mon  ...         1    999         0  nonexistent   \n",
       "2  telephone   may         mon  ...         1    999         0  nonexistent   \n",
       "3  telephone   may         mon  ...         1    999         0  nonexistent   \n",
       "4  telephone   may         mon  ...         1    999         0  nonexistent   \n",
       "\n",
       "  emp.var.rate  cons.price.idx  cons.conf.idx  euribor3m  nr.employed  \\\n",
       "0          1.1          93.994          -36.4      4.857       5191.0   \n",
       "1          1.1          93.994          -36.4      4.857       5191.0   \n",
       "2          1.1          93.994          -36.4      4.857       5191.0   \n",
       "3          1.1          93.994          -36.4      4.857       5191.0   \n",
       "4          1.1          93.994          -36.4      4.857       5191.0   \n",
       "\n",
       "   subscribed  \n",
       "0          no  \n",
       "1          no  \n",
       "2          no  \n",
       "3          no  \n",
       "4          no  \n",
       "\n",
       "[5 rows x 21 columns]"
      ]
     },
     "execution_count": 6,
     "metadata": {},
     "output_type": "execute_result"
    }
   ],
   "source": [
    "# print first five rows of bank_data\n",
    "bank_data.head()"
   ]
  },
  {
   "cell_type": "code",
   "execution_count": 7,
   "metadata": {},
   "outputs": [
    {
     "data": {
      "text/plain": [
       "(41188, 21)"
      ]
     },
     "execution_count": 7,
     "metadata": {},
     "output_type": "execute_result"
    }
   ],
   "source": [
    "# display total number of rows and columns\n",
    "bank_data.shape"
   ]
  },
  {
   "cell_type": "code",
   "execution_count": 8,
   "metadata": {},
   "outputs": [
    {
     "name": "stdout",
     "output_type": "stream",
     "text": [
      "<class 'pandas.core.frame.DataFrame'>\n",
      "RangeIndex: 41188 entries, 0 to 41187\n",
      "Data columns (total 21 columns):\n",
      "age               41188 non-null int64\n",
      "job               41188 non-null object\n",
      "marital           41188 non-null object\n",
      "education         41188 non-null object\n",
      "has_credit        41188 non-null object\n",
      "housing_loan      41188 non-null object\n",
      "personal_loan     41188 non-null object\n",
      "contact           41188 non-null object\n",
      "month             41188 non-null object\n",
      "day_of_week       41188 non-null object\n",
      "duration          41188 non-null int64\n",
      "campaign          41188 non-null int64\n",
      "pdays             41188 non-null int64\n",
      "previous          41188 non-null int64\n",
      "poutcome          41188 non-null object\n",
      "emp.var.rate      41188 non-null float64\n",
      "cons.price.idx    41188 non-null float64\n",
      "cons.conf.idx     41188 non-null float64\n",
      "euribor3m         41188 non-null float64\n",
      "nr.employed       41188 non-null float64\n",
      "subscribed        41188 non-null object\n",
      "dtypes: float64(5), int64(5), object(11)\n",
      "memory usage: 6.6+ MB\n"
     ]
    }
   ],
   "source": [
    "# verify data types of bank_data information \n",
    "bank_data.info()"
   ]
  },
  {
   "cell_type": "code",
   "execution_count": 9,
   "metadata": {},
   "outputs": [
    {
     "data": {
      "text/html": [
       "<div>\n",
       "<style scoped>\n",
       "    .dataframe tbody tr th:only-of-type {\n",
       "        vertical-align: middle;\n",
       "    }\n",
       "\n",
       "    .dataframe tbody tr th {\n",
       "        vertical-align: top;\n",
       "    }\n",
       "\n",
       "    .dataframe thead th {\n",
       "        text-align: right;\n",
       "    }\n",
       "</style>\n",
       "<table border=\"1\" class=\"dataframe\">\n",
       "  <thead>\n",
       "    <tr style=\"text-align: right;\">\n",
       "      <th></th>\n",
       "      <th>age</th>\n",
       "      <th>duration</th>\n",
       "      <th>campaign</th>\n",
       "      <th>pdays</th>\n",
       "      <th>previous</th>\n",
       "      <th>emp.var.rate</th>\n",
       "      <th>cons.price.idx</th>\n",
       "      <th>cons.conf.idx</th>\n",
       "      <th>euribor3m</th>\n",
       "      <th>nr.employed</th>\n",
       "    </tr>\n",
       "  </thead>\n",
       "  <tbody>\n",
       "    <tr>\n",
       "      <td>count</td>\n",
       "      <td>41188.00000</td>\n",
       "      <td>41188.000000</td>\n",
       "      <td>41188.000000</td>\n",
       "      <td>41188.000000</td>\n",
       "      <td>41188.000000</td>\n",
       "      <td>41188.000000</td>\n",
       "      <td>41188.000000</td>\n",
       "      <td>41188.000000</td>\n",
       "      <td>41188.000000</td>\n",
       "      <td>41188.000000</td>\n",
       "    </tr>\n",
       "    <tr>\n",
       "      <td>mean</td>\n",
       "      <td>40.02406</td>\n",
       "      <td>258.285010</td>\n",
       "      <td>2.567593</td>\n",
       "      <td>962.475454</td>\n",
       "      <td>0.172963</td>\n",
       "      <td>0.081886</td>\n",
       "      <td>93.575664</td>\n",
       "      <td>-40.502600</td>\n",
       "      <td>3.621291</td>\n",
       "      <td>5167.035911</td>\n",
       "    </tr>\n",
       "    <tr>\n",
       "      <td>std</td>\n",
       "      <td>10.42125</td>\n",
       "      <td>259.279249</td>\n",
       "      <td>2.770014</td>\n",
       "      <td>186.910907</td>\n",
       "      <td>0.494901</td>\n",
       "      <td>1.570960</td>\n",
       "      <td>0.578840</td>\n",
       "      <td>4.628198</td>\n",
       "      <td>1.734447</td>\n",
       "      <td>72.251528</td>\n",
       "    </tr>\n",
       "    <tr>\n",
       "      <td>min</td>\n",
       "      <td>17.00000</td>\n",
       "      <td>0.000000</td>\n",
       "      <td>1.000000</td>\n",
       "      <td>0.000000</td>\n",
       "      <td>0.000000</td>\n",
       "      <td>-3.400000</td>\n",
       "      <td>92.201000</td>\n",
       "      <td>-50.800000</td>\n",
       "      <td>0.634000</td>\n",
       "      <td>4963.600000</td>\n",
       "    </tr>\n",
       "    <tr>\n",
       "      <td>25%</td>\n",
       "      <td>32.00000</td>\n",
       "      <td>102.000000</td>\n",
       "      <td>1.000000</td>\n",
       "      <td>999.000000</td>\n",
       "      <td>0.000000</td>\n",
       "      <td>-1.800000</td>\n",
       "      <td>93.075000</td>\n",
       "      <td>-42.700000</td>\n",
       "      <td>1.344000</td>\n",
       "      <td>5099.100000</td>\n",
       "    </tr>\n",
       "    <tr>\n",
       "      <td>50%</td>\n",
       "      <td>38.00000</td>\n",
       "      <td>180.000000</td>\n",
       "      <td>2.000000</td>\n",
       "      <td>999.000000</td>\n",
       "      <td>0.000000</td>\n",
       "      <td>1.100000</td>\n",
       "      <td>93.749000</td>\n",
       "      <td>-41.800000</td>\n",
       "      <td>4.857000</td>\n",
       "      <td>5191.000000</td>\n",
       "    </tr>\n",
       "    <tr>\n",
       "      <td>75%</td>\n",
       "      <td>47.00000</td>\n",
       "      <td>319.000000</td>\n",
       "      <td>3.000000</td>\n",
       "      <td>999.000000</td>\n",
       "      <td>0.000000</td>\n",
       "      <td>1.400000</td>\n",
       "      <td>93.994000</td>\n",
       "      <td>-36.400000</td>\n",
       "      <td>4.961000</td>\n",
       "      <td>5228.100000</td>\n",
       "    </tr>\n",
       "    <tr>\n",
       "      <td>max</td>\n",
       "      <td>98.00000</td>\n",
       "      <td>4918.000000</td>\n",
       "      <td>56.000000</td>\n",
       "      <td>999.000000</td>\n",
       "      <td>7.000000</td>\n",
       "      <td>1.400000</td>\n",
       "      <td>94.767000</td>\n",
       "      <td>-26.900000</td>\n",
       "      <td>5.045000</td>\n",
       "      <td>5228.100000</td>\n",
       "    </tr>\n",
       "  </tbody>\n",
       "</table>\n",
       "</div>"
      ],
      "text/plain": [
       "               age      duration      campaign         pdays      previous  \\\n",
       "count  41188.00000  41188.000000  41188.000000  41188.000000  41188.000000   \n",
       "mean      40.02406    258.285010      2.567593    962.475454      0.172963   \n",
       "std       10.42125    259.279249      2.770014    186.910907      0.494901   \n",
       "min       17.00000      0.000000      1.000000      0.000000      0.000000   \n",
       "25%       32.00000    102.000000      1.000000    999.000000      0.000000   \n",
       "50%       38.00000    180.000000      2.000000    999.000000      0.000000   \n",
       "75%       47.00000    319.000000      3.000000    999.000000      0.000000   \n",
       "max       98.00000   4918.000000     56.000000    999.000000      7.000000   \n",
       "\n",
       "       emp.var.rate  cons.price.idx  cons.conf.idx     euribor3m   nr.employed  \n",
       "count  41188.000000    41188.000000   41188.000000  41188.000000  41188.000000  \n",
       "mean       0.081886       93.575664     -40.502600      3.621291   5167.035911  \n",
       "std        1.570960        0.578840       4.628198      1.734447     72.251528  \n",
       "min       -3.400000       92.201000     -50.800000      0.634000   4963.600000  \n",
       "25%       -1.800000       93.075000     -42.700000      1.344000   5099.100000  \n",
       "50%        1.100000       93.749000     -41.800000      4.857000   5191.000000  \n",
       "75%        1.400000       93.994000     -36.400000      4.961000   5228.100000  \n",
       "max        1.400000       94.767000     -26.900000      5.045000   5228.100000  "
      ]
     },
     "execution_count": 9,
     "metadata": {},
     "output_type": "execute_result"
    }
   ],
   "source": [
    "# Describe numeric bank_data\n",
    "bank_data.describe()"
   ]
  },
  {
   "cell_type": "code",
   "execution_count": 10,
   "metadata": {},
   "outputs": [
    {
     "data": {
      "text/plain": [
       "admin.           10422\n",
       "blue-collar       9254\n",
       "technician        6743\n",
       "services          3969\n",
       "management        2924\n",
       "retired           1720\n",
       "entrepreneur      1456\n",
       "self-employed     1421\n",
       "housemaid         1060\n",
       "unemployed        1014\n",
       "student            875\n",
       "unknown            330\n",
       "Name: job, dtype: int64"
      ]
     },
     "execution_count": 10,
     "metadata": {},
     "output_type": "execute_result"
    }
   ],
   "source": [
    "# check the occurrence of each job in bank_data\n",
    "bank_data['job'].value_counts()"
   ]
  },
  {
   "cell_type": "markdown",
   "metadata": {},
   "source": [
    "### 3. Data Cleaning"
   ]
  },
  {
   "cell_type": "markdown",
   "metadata": {},
   "source": [
    "<img src='https://www.officedepot.com/resource/blob/60908/0f84e67038ac7cd8966cacaaab7f92fb/know-what--and-when--to-purge-data.gif' width='500'>"
   ]
  },
  {
   "cell_type": "markdown",
   "metadata": {},
   "source": [
    "#### *Check for Duplicates*"
   ]
  },
  {
   "cell_type": "code",
   "execution_count": 11,
   "metadata": {},
   "outputs": [
    {
     "data": {
      "text/plain": [
       "12"
      ]
     },
     "execution_count": 11,
     "metadata": {},
     "output_type": "execute_result"
    }
   ],
   "source": [
    "bank_data.duplicated().sum()"
   ]
  },
  {
   "cell_type": "markdown",
   "metadata": {},
   "source": [
    "#### *Check invalid or corrupt data and remove it*"
   ]
  },
  {
   "cell_type": "code",
   "execution_count": 12,
   "metadata": {},
   "outputs": [],
   "source": [
    "'''remove duplicated rows'''\n",
    "def clean_data(data):\n",
    "    clean_data = data.drop_duplicates()\n",
    "    return clean_data"
   ]
  },
  {
   "cell_type": "code",
   "execution_count": 13,
   "metadata": {},
   "outputs": [
    {
     "data": {
      "text/plain": [
       "(41176, 21)"
      ]
     },
     "execution_count": 13,
     "metadata": {},
     "output_type": "execute_result"
    }
   ],
   "source": [
    "clean_bank_data = clean_data(bank_data)\n",
    "clean_bank_data.shape"
   ]
  },
  {
   "cell_type": "code",
   "execution_count": 14,
   "metadata": {},
   "outputs": [
    {
     "name": "stdout",
     "output_type": "stream",
     "text": [
      "<class 'pandas.core.frame.DataFrame'>\n",
      "Int64Index: 41176 entries, 0 to 41187\n",
      "Data columns (total 21 columns):\n",
      "age               41176 non-null int64\n",
      "job               41176 non-null object\n",
      "marital           41176 non-null object\n",
      "education         41176 non-null object\n",
      "has_credit        41176 non-null object\n",
      "housing_loan      41176 non-null object\n",
      "personal_loan     41176 non-null object\n",
      "contact           41176 non-null object\n",
      "month             41176 non-null object\n",
      "day_of_week       41176 non-null object\n",
      "duration          41176 non-null int64\n",
      "campaign          41176 non-null int64\n",
      "pdays             41176 non-null int64\n",
      "previous          41176 non-null int64\n",
      "poutcome          41176 non-null object\n",
      "emp.var.rate      41176 non-null float64\n",
      "cons.price.idx    41176 non-null float64\n",
      "cons.conf.idx     41176 non-null float64\n",
      "euribor3m         41176 non-null float64\n",
      "nr.employed       41176 non-null float64\n",
      "subscribed        41176 non-null object\n",
      "dtypes: float64(5), int64(5), object(11)\n",
      "memory usage: 6.9+ MB\n"
     ]
    }
   ],
   "source": [
    "clean_bank_data.info()"
   ]
  },
  {
   "cell_type": "markdown",
   "metadata": {},
   "source": [
    "### 4. Exploratory Data Analysis"
   ]
  },
  {
   "cell_type": "markdown",
   "metadata": {},
   "source": [
    "<img src='http://piesiecreativity.com/wp-content/uploads/2018/02/Online-online.gif' width='500'>"
   ]
  },
  {
   "cell_type": "code",
   "execution_count": 15,
   "metadata": {},
   "outputs": [],
   "source": [
    "'''Divide varibles in categorical and numerical'''\n",
    "categorical_vars = [col for col in clean_bank_data.columns if (clean_bank_data[col].dtype == 'object') & (col != 'subscribed')]\n",
    "numeric_vars = ['age', 'duration','campaign','pdays','previous','emp.var.rate','cons.price.idx','cons.conf.idx','euribor3m','nr.employed']\n",
    "target_var = ['subscribed']"
   ]
  },
  {
   "cell_type": "code",
   "execution_count": 16,
   "metadata": {},
   "outputs": [],
   "source": [
    "# seperate feature and traget variables\n",
    "X = clean_bank_data.iloc[:,:-1]\n",
    "y = clean_bank_data.iloc[:,-1]"
   ]
  },
  {
   "cell_type": "markdown",
   "metadata": {},
   "source": [
    "#### Target Variable"
   ]
  },
  {
   "cell_type": "code",
   "execution_count": 17,
   "metadata": {},
   "outputs": [
    {
     "data": {
      "image/png": "[encoded data removed]",
      "text/plain": [
       "<Figure size 432x288 with 1 Axes>"
      ]
     },
     "metadata": {},
     "output_type": "display_data"
    }
   ],
   "source": [
    "# explore target variable data\n",
    "sns.set_style(\"whitegrid\")\n",
    "sns.countplot(x = 'subscribed', data = clean_bank_data)\n",
    "plt.title('Target Variable')\n",
    "plt.show()"
   ]
  },
  {
   "cell_type": "markdown",
   "metadata": {},
   "source": [
    "Target variable 'subscribed ‘is very imbalanced. In classification and evaluation, predictor variable should be balanced to not get any bias result. In above count plot, there is clear prediction with roughly 90% accuracy just by guessing none of the clients subscribed to the term deposit. Our main goal are focused only on the clients who said ‘yes’, but we have only 4639 total ‘yes’ values compare to 36537 ‘no’ values. Therefore, we have very less chances to get predictions. We will balance our data using SMOTE (Synthetic Minority Over-sampling Technique)"
   ]
  },
  {
   "cell_type": "code",
   "execution_count": 18,
   "metadata": {},
   "outputs": [
    {
     "data": {
      "image/png": "[encoded data removed]",
      "text/plain": [
       "<Figure size 432x288 with 1 Axes>"
      ]
     },
     "metadata": {},
     "output_type": "display_data"
    }
   ],
   "source": [
    "sns.countplot(x ='marital', hue = 'subscribed', data = clean_bank_data)\n",
    "plt.title('Marital Status Distribution')\n",
    "plt.show()"
   ]
  },
  {
   "cell_type": "markdown",
   "metadata": {},
   "source": [
    "#### *Summarize numeric variable*"
   ]
  },
  {
   "cell_type": "code",
   "execution_count": 19,
   "metadata": {},
   "outputs": [
    {
     "data": {
      "text/html": [
       "<div>\n",
       "<style scoped>\n",
       "    .dataframe tbody tr th:only-of-type {\n",
       "        vertical-align: middle;\n",
       "    }\n",
       "\n",
       "    .dataframe tbody tr th {\n",
       "        vertical-align: top;\n",
       "    }\n",
       "\n",
       "    .dataframe thead th {\n",
       "        text-align: right;\n",
       "    }\n",
       "</style>\n",
       "<table border=\"1\" class=\"dataframe\">\n",
       "  <thead>\n",
       "    <tr style=\"text-align: right;\">\n",
       "      <th></th>\n",
       "      <th>age</th>\n",
       "      <th>duration</th>\n",
       "      <th>campaign</th>\n",
       "      <th>pdays</th>\n",
       "      <th>previous</th>\n",
       "      <th>emp.var.rate</th>\n",
       "      <th>cons.price.idx</th>\n",
       "      <th>cons.conf.idx</th>\n",
       "      <th>euribor3m</th>\n",
       "      <th>nr.employed</th>\n",
       "    </tr>\n",
       "  </thead>\n",
       "  <tbody>\n",
       "    <tr>\n",
       "      <td>count</td>\n",
       "      <td>41176.00000</td>\n",
       "      <td>41176.000000</td>\n",
       "      <td>41176.000000</td>\n",
       "      <td>41176.000000</td>\n",
       "      <td>41176.000000</td>\n",
       "      <td>41176.000000</td>\n",
       "      <td>41176.000000</td>\n",
       "      <td>41176.000000</td>\n",
       "      <td>41176.000000</td>\n",
       "      <td>41176.000000</td>\n",
       "    </tr>\n",
       "    <tr>\n",
       "      <td>mean</td>\n",
       "      <td>40.02380</td>\n",
       "      <td>258.315815</td>\n",
       "      <td>2.567879</td>\n",
       "      <td>962.464810</td>\n",
       "      <td>0.173013</td>\n",
       "      <td>0.081922</td>\n",
       "      <td>93.575720</td>\n",
       "      <td>-40.502863</td>\n",
       "      <td>3.621293</td>\n",
       "      <td>5167.034870</td>\n",
       "    </tr>\n",
       "    <tr>\n",
       "      <td>std</td>\n",
       "      <td>10.42068</td>\n",
       "      <td>259.305321</td>\n",
       "      <td>2.770318</td>\n",
       "      <td>186.937102</td>\n",
       "      <td>0.494964</td>\n",
       "      <td>1.570883</td>\n",
       "      <td>0.578839</td>\n",
       "      <td>4.627860</td>\n",
       "      <td>1.734437</td>\n",
       "      <td>72.251364</td>\n",
       "    </tr>\n",
       "    <tr>\n",
       "      <td>min</td>\n",
       "      <td>17.00000</td>\n",
       "      <td>0.000000</td>\n",
       "      <td>1.000000</td>\n",
       "      <td>0.000000</td>\n",
       "      <td>0.000000</td>\n",
       "      <td>-3.400000</td>\n",
       "      <td>92.201000</td>\n",
       "      <td>-50.800000</td>\n",
       "      <td>0.634000</td>\n",
       "      <td>4963.600000</td>\n",
       "    </tr>\n",
       "    <tr>\n",
       "      <td>25%</td>\n",
       "      <td>32.00000</td>\n",
       "      <td>102.000000</td>\n",
       "      <td>1.000000</td>\n",
       "      <td>999.000000</td>\n",
       "      <td>0.000000</td>\n",
       "      <td>-1.800000</td>\n",
       "      <td>93.075000</td>\n",
       "      <td>-42.700000</td>\n",
       "      <td>1.344000</td>\n",
       "      <td>5099.100000</td>\n",
       "    </tr>\n",
       "    <tr>\n",
       "      <td>50%</td>\n",
       "      <td>38.00000</td>\n",
       "      <td>180.000000</td>\n",
       "      <td>2.000000</td>\n",
       "      <td>999.000000</td>\n",
       "      <td>0.000000</td>\n",
       "      <td>1.100000</td>\n",
       "      <td>93.749000</td>\n",
       "      <td>-41.800000</td>\n",
       "      <td>4.857000</td>\n",
       "      <td>5191.000000</td>\n",
       "    </tr>\n",
       "    <tr>\n",
       "      <td>75%</td>\n",
       "      <td>47.00000</td>\n",
       "      <td>319.000000</td>\n",
       "      <td>3.000000</td>\n",
       "      <td>999.000000</td>\n",
       "      <td>0.000000</td>\n",
       "      <td>1.400000</td>\n",
       "      <td>93.994000</td>\n",
       "      <td>-36.400000</td>\n",
       "      <td>4.961000</td>\n",
       "      <td>5228.100000</td>\n",
       "    </tr>\n",
       "    <tr>\n",
       "      <td>max</td>\n",
       "      <td>98.00000</td>\n",
       "      <td>4918.000000</td>\n",
       "      <td>56.000000</td>\n",
       "      <td>999.000000</td>\n",
       "      <td>7.000000</td>\n",
       "      <td>1.400000</td>\n",
       "      <td>94.767000</td>\n",
       "      <td>-26.900000</td>\n",
       "      <td>5.045000</td>\n",
       "      <td>5228.100000</td>\n",
       "    </tr>\n",
       "  </tbody>\n",
       "</table>\n",
       "</div>"
      ],
      "text/plain": [
       "               age      duration      campaign         pdays      previous  \\\n",
       "count  41176.00000  41176.000000  41176.000000  41176.000000  41176.000000   \n",
       "mean      40.02380    258.315815      2.567879    962.464810      0.173013   \n",
       "std       10.42068    259.305321      2.770318    186.937102      0.494964   \n",
       "min       17.00000      0.000000      1.000000      0.000000      0.000000   \n",
       "25%       32.00000    102.000000      1.000000    999.000000      0.000000   \n",
       "50%       38.00000    180.000000      2.000000    999.000000      0.000000   \n",
       "75%       47.00000    319.000000      3.000000    999.000000      0.000000   \n",
       "max       98.00000   4918.000000     56.000000    999.000000      7.000000   \n",
       "\n",
       "       emp.var.rate  cons.price.idx  cons.conf.idx     euribor3m   nr.employed  \n",
       "count  41176.000000    41176.000000   41176.000000  41176.000000  41176.000000  \n",
       "mean       0.081922       93.575720     -40.502863      3.621293   5167.034870  \n",
       "std        1.570883        0.578839       4.627860      1.734437     72.251364  \n",
       "min       -3.400000       92.201000     -50.800000      0.634000   4963.600000  \n",
       "25%       -1.800000       93.075000     -42.700000      1.344000   5099.100000  \n",
       "50%        1.100000       93.749000     -41.800000      4.857000   5191.000000  \n",
       "75%        1.400000       93.994000     -36.400000      4.961000   5228.100000  \n",
       "max        1.400000       94.767000     -26.900000      5.045000   5228.100000  "
      ]
     },
     "execution_count": 19,
     "metadata": {},
     "output_type": "execute_result"
    }
   ],
   "source": [
    "X.describe(include=[np.number])"
   ]
  },
  {
   "cell_type": "markdown",
   "metadata": {},
   "source": [
    "#### *summarize categorical variable*"
   ]
  },
  {
   "cell_type": "code",
   "execution_count": 20,
   "metadata": {},
   "outputs": [
    {
     "data": {
      "text/html": [
       "<div>\n",
       "<style scoped>\n",
       "    .dataframe tbody tr th:only-of-type {\n",
       "        vertical-align: middle;\n",
       "    }\n",
       "\n",
       "    .dataframe tbody tr th {\n",
       "        vertical-align: top;\n",
       "    }\n",
       "\n",
       "    .dataframe thead th {\n",
       "        text-align: right;\n",
       "    }\n",
       "</style>\n",
       "<table border=\"1\" class=\"dataframe\">\n",
       "  <thead>\n",
       "    <tr style=\"text-align: right;\">\n",
       "      <th></th>\n",
       "      <th>job</th>\n",
       "      <th>marital</th>\n",
       "      <th>education</th>\n",
       "      <th>has_credit</th>\n",
       "      <th>housing_loan</th>\n",
       "      <th>personal_loan</th>\n",
       "      <th>contact</th>\n",
       "      <th>month</th>\n",
       "      <th>day_of_week</th>\n",
       "      <th>poutcome</th>\n",
       "    </tr>\n",
       "  </thead>\n",
       "  <tbody>\n",
       "    <tr>\n",
       "      <td>count</td>\n",
       "      <td>41176</td>\n",
       "      <td>41176</td>\n",
       "      <td>41176</td>\n",
       "      <td>41176</td>\n",
       "      <td>41176</td>\n",
       "      <td>41176</td>\n",
       "      <td>41176</td>\n",
       "      <td>41176</td>\n",
       "      <td>41176</td>\n",
       "      <td>41176</td>\n",
       "    </tr>\n",
       "    <tr>\n",
       "      <td>unique</td>\n",
       "      <td>12</td>\n",
       "      <td>4</td>\n",
       "      <td>8</td>\n",
       "      <td>3</td>\n",
       "      <td>3</td>\n",
       "      <td>3</td>\n",
       "      <td>2</td>\n",
       "      <td>10</td>\n",
       "      <td>5</td>\n",
       "      <td>3</td>\n",
       "    </tr>\n",
       "    <tr>\n",
       "      <td>top</td>\n",
       "      <td>admin.</td>\n",
       "      <td>married</td>\n",
       "      <td>university.degree</td>\n",
       "      <td>no</td>\n",
       "      <td>yes</td>\n",
       "      <td>no</td>\n",
       "      <td>cellular</td>\n",
       "      <td>may</td>\n",
       "      <td>thu</td>\n",
       "      <td>nonexistent</td>\n",
       "    </tr>\n",
       "    <tr>\n",
       "      <td>freq</td>\n",
       "      <td>10419</td>\n",
       "      <td>24921</td>\n",
       "      <td>12164</td>\n",
       "      <td>32577</td>\n",
       "      <td>21571</td>\n",
       "      <td>33938</td>\n",
       "      <td>26135</td>\n",
       "      <td>13767</td>\n",
       "      <td>8618</td>\n",
       "      <td>35551</td>\n",
       "    </tr>\n",
       "  </tbody>\n",
       "</table>\n",
       "</div>"
      ],
      "text/plain": [
       "           job  marital          education has_credit housing_loan  \\\n",
       "count    41176    41176              41176      41176        41176   \n",
       "unique      12        4                  8          3            3   \n",
       "top     admin.  married  university.degree         no          yes   \n",
       "freq     10419    24921              12164      32577        21571   \n",
       "\n",
       "       personal_loan   contact  month day_of_week     poutcome  \n",
       "count          41176     41176  41176       41176        41176  \n",
       "unique             3         2     10           5            3  \n",
       "top               no  cellular    may         thu  nonexistent  \n",
       "freq           33938     26135  13767        8618        35551  "
      ]
     },
     "execution_count": 20,
     "metadata": {},
     "output_type": "execute_result"
    }
   ],
   "source": [
    "X.describe(include = ['O'])"
   ]
  },
  {
   "cell_type": "markdown",
   "metadata": {},
   "source": [
    "#### *Find Correction of variables*"
   ]
  },
  {
   "cell_type": "code",
   "execution_count": 21,
   "metadata": {},
   "outputs": [
    {
     "data": {
      "text/html": [
       "<div>\n",
       "<style scoped>\n",
       "    .dataframe tbody tr th:only-of-type {\n",
       "        vertical-align: middle;\n",
       "    }\n",
       "\n",
       "    .dataframe tbody tr th {\n",
       "        vertical-align: top;\n",
       "    }\n",
       "\n",
       "    .dataframe thead th {\n",
       "        text-align: right;\n",
       "    }\n",
       "</style>\n",
       "<table border=\"1\" class=\"dataframe\">\n",
       "  <thead>\n",
       "    <tr style=\"text-align: right;\">\n",
       "      <th></th>\n",
       "      <th>age</th>\n",
       "      <th>duration</th>\n",
       "      <th>campaign</th>\n",
       "      <th>pdays</th>\n",
       "      <th>previous</th>\n",
       "      <th>emp.var.rate</th>\n",
       "      <th>cons.price.idx</th>\n",
       "      <th>cons.conf.idx</th>\n",
       "      <th>euribor3m</th>\n",
       "      <th>nr.employed</th>\n",
       "    </tr>\n",
       "  </thead>\n",
       "  <tbody>\n",
       "    <tr>\n",
       "      <td>age</td>\n",
       "      <td>1.000000</td>\n",
       "      <td>-0.000808</td>\n",
       "      <td>0.004622</td>\n",
       "      <td>-0.034381</td>\n",
       "      <td>0.024379</td>\n",
       "      <td>-0.000242</td>\n",
       "      <td>0.001009</td>\n",
       "      <td>0.129075</td>\n",
       "      <td>0.010852</td>\n",
       "      <td>-0.017607</td>\n",
       "    </tr>\n",
       "    <tr>\n",
       "      <td>duration</td>\n",
       "      <td>-0.000808</td>\n",
       "      <td>1.000000</td>\n",
       "      <td>-0.071765</td>\n",
       "      <td>-0.047556</td>\n",
       "      <td>0.020600</td>\n",
       "      <td>-0.027941</td>\n",
       "      <td>0.005303</td>\n",
       "      <td>-0.008126</td>\n",
       "      <td>-0.032861</td>\n",
       "      <td>-0.044672</td>\n",
       "    </tr>\n",
       "    <tr>\n",
       "      <td>campaign</td>\n",
       "      <td>0.004622</td>\n",
       "      <td>-0.071765</td>\n",
       "      <td>1.000000</td>\n",
       "      <td>0.052606</td>\n",
       "      <td>-0.079182</td>\n",
       "      <td>0.150786</td>\n",
       "      <td>0.127826</td>\n",
       "      <td>-0.013657</td>\n",
       "      <td>0.135169</td>\n",
       "      <td>0.144129</td>\n",
       "    </tr>\n",
       "    <tr>\n",
       "      <td>pdays</td>\n",
       "      <td>-0.034381</td>\n",
       "      <td>-0.047556</td>\n",
       "      <td>0.052606</td>\n",
       "      <td>1.000000</td>\n",
       "      <td>-0.587508</td>\n",
       "      <td>0.271063</td>\n",
       "      <td>0.078920</td>\n",
       "      <td>-0.091374</td>\n",
       "      <td>0.296946</td>\n",
       "      <td>0.372659</td>\n",
       "    </tr>\n",
       "    <tr>\n",
       "      <td>previous</td>\n",
       "      <td>0.024379</td>\n",
       "      <td>0.020600</td>\n",
       "      <td>-0.079182</td>\n",
       "      <td>-0.587508</td>\n",
       "      <td>1.000000</td>\n",
       "      <td>-0.420587</td>\n",
       "      <td>-0.203197</td>\n",
       "      <td>-0.050929</td>\n",
       "      <td>-0.454571</td>\n",
       "      <td>-0.501411</td>\n",
       "    </tr>\n",
       "    <tr>\n",
       "      <td>emp.var.rate</td>\n",
       "      <td>-0.000242</td>\n",
       "      <td>-0.027941</td>\n",
       "      <td>0.150786</td>\n",
       "      <td>0.271063</td>\n",
       "      <td>-0.420587</td>\n",
       "      <td>1.000000</td>\n",
       "      <td>0.775293</td>\n",
       "      <td>0.196257</td>\n",
       "      <td>0.972244</td>\n",
       "      <td>0.906949</td>\n",
       "    </tr>\n",
       "    <tr>\n",
       "      <td>cons.price.idx</td>\n",
       "      <td>0.001009</td>\n",
       "      <td>0.005303</td>\n",
       "      <td>0.127826</td>\n",
       "      <td>0.078920</td>\n",
       "      <td>-0.203197</td>\n",
       "      <td>0.775293</td>\n",
       "      <td>1.000000</td>\n",
       "      <td>0.059170</td>\n",
       "      <td>0.688180</td>\n",
       "      <td>0.521945</td>\n",
       "    </tr>\n",
       "    <tr>\n",
       "      <td>cons.conf.idx</td>\n",
       "      <td>0.129075</td>\n",
       "      <td>-0.008126</td>\n",
       "      <td>-0.013657</td>\n",
       "      <td>-0.091374</td>\n",
       "      <td>-0.050929</td>\n",
       "      <td>0.196257</td>\n",
       "      <td>0.059170</td>\n",
       "      <td>1.000000</td>\n",
       "      <td>0.277864</td>\n",
       "      <td>0.100679</td>\n",
       "    </tr>\n",
       "    <tr>\n",
       "      <td>euribor3m</td>\n",
       "      <td>0.010852</td>\n",
       "      <td>-0.032861</td>\n",
       "      <td>0.135169</td>\n",
       "      <td>0.296946</td>\n",
       "      <td>-0.454571</td>\n",
       "      <td>0.972244</td>\n",
       "      <td>0.688180</td>\n",
       "      <td>0.277864</td>\n",
       "      <td>1.000000</td>\n",
       "      <td>0.945146</td>\n",
       "    </tr>\n",
       "    <tr>\n",
       "      <td>nr.employed</td>\n",
       "      <td>-0.017607</td>\n",
       "      <td>-0.044672</td>\n",
       "      <td>0.144129</td>\n",
       "      <td>0.372659</td>\n",
       "      <td>-0.501411</td>\n",
       "      <td>0.906949</td>\n",
       "      <td>0.521945</td>\n",
       "      <td>0.100679</td>\n",
       "      <td>0.945146</td>\n",
       "      <td>1.000000</td>\n",
       "    </tr>\n",
       "  </tbody>\n",
       "</table>\n",
       "</div>"
      ],
      "text/plain": [
       "                     age  duration  campaign     pdays  previous  \\\n",
       "age             1.000000 -0.000808  0.004622 -0.034381  0.024379   \n",
       "duration       -0.000808  1.000000 -0.071765 -0.047556  0.020600   \n",
       "campaign        0.004622 -0.071765  1.000000  0.052606 -0.079182   \n",
       "pdays          -0.034381 -0.047556  0.052606  1.000000 -0.587508   \n",
       "previous        0.024379  0.020600 -0.079182 -0.587508  1.000000   \n",
       "emp.var.rate   -0.000242 -0.027941  0.150786  0.271063 -0.420587   \n",
       "cons.price.idx  0.001009  0.005303  0.127826  0.078920 -0.203197   \n",
       "cons.conf.idx   0.129075 -0.008126 -0.013657 -0.091374 -0.050929   \n",
       "euribor3m       0.010852 -0.032861  0.135169  0.296946 -0.454571   \n",
       "nr.employed    -0.017607 -0.044672  0.144129  0.372659 -0.501411   \n",
       "\n",
       "                emp.var.rate  cons.price.idx  cons.conf.idx  euribor3m  \\\n",
       "age                -0.000242        0.001009       0.129075   0.010852   \n",
       "duration           -0.027941        0.005303      -0.008126  -0.032861   \n",
       "campaign            0.150786        0.127826      -0.013657   0.135169   \n",
       "pdays               0.271063        0.078920      -0.091374   0.296946   \n",
       "previous           -0.420587       -0.203197      -0.050929  -0.454571   \n",
       "emp.var.rate        1.000000        0.775293       0.196257   0.972244   \n",
       "cons.price.idx      0.775293        1.000000       0.059170   0.688180   \n",
       "cons.conf.idx       0.196257        0.059170       1.000000   0.277864   \n",
       "euribor3m           0.972244        0.688180       0.277864   1.000000   \n",
       "nr.employed         0.906949        0.521945       0.100679   0.945146   \n",
       "\n",
       "                nr.employed  \n",
       "age               -0.017607  \n",
       "duration          -0.044672  \n",
       "campaign           0.144129  \n",
       "pdays              0.372659  \n",
       "previous          -0.501411  \n",
       "emp.var.rate       0.906949  \n",
       "cons.price.idx     0.521945  \n",
       "cons.conf.idx      0.100679  \n",
       "euribor3m          0.945146  \n",
       "nr.employed        1.000000  "
      ]
     },
     "execution_count": 21,
     "metadata": {},
     "output_type": "execute_result"
    }
   ],
   "source": [
    "def get_correlation(data):\n",
    "    return data.corr()\n",
    "\n",
    "corr_data = get_correlation(X)\n",
    "corr_data"
   ]
  },
  {
   "cell_type": "markdown",
   "metadata": {},
   "source": [
    "### 5. Data Visualization"
   ]
  },
  {
   "cell_type": "markdown",
   "metadata": {},
   "source": [
    "<img src='https://media0.giphy.com/media/3oKIPEqDGUULpEU0aQ/giphy.gif' width='500'>"
   ]
  },
  {
   "cell_type": "code",
   "execution_count": 22,
   "metadata": {},
   "outputs": [
    {
     "data": {
      "image/png": "[encoded data removed]",
      "text/plain": [
       "<Figure size 1008x576 with 4 Axes>"
      ]
     },
     "metadata": {},
     "output_type": "display_data"
    }
   ],
   "source": [
    "plt.figure(figsize = (14, 8))\n",
    "plt.subplot(2,2,1)\n",
    "sns.boxplot(X.age, color='Orange')\n",
    "plt.subplot(2,2,2)\n",
    "sns.distplot(X.duration, color='green')\n",
    "plt.subplot(2,2,3)\n",
    "sns.distplot(X['pdays'], color='blue')\n",
    "plt.subplot(2,2,4)\n",
    "sns.distplot(X.campaign, color='red')\n",
    "plt.show()"
   ]
  },
  {
   "cell_type": "code",
   "execution_count": 23,
   "metadata": {},
   "outputs": [
    {
     "data": {
      "image/png": "[encoded data removed]",
      "text/plain": [
       "<Figure size 2520x1080 with 10 Axes>"
      ]
     },
     "metadata": {},
     "output_type": "display_data"
    }
   ],
   "source": [
    "# Visualize all numerical variables\n",
    "sns.set(style=\"darkgrid\")\n",
    "fig, ax = plt.subplots(2, 5, figsize=(35, 15))\n",
    "for variable, subplot in zip(numeric_vars, ax.flatten()):\n",
    "    sns.distplot(X[variable], ax=subplot, kde=False, hist=True,color='purple')\n",
    "    for label in subplot.get_xticklabels():\n",
    "        label.set_rotation(90)\n",
    "plt.subplots_adjust(wspace=0.45, hspace=0.8)"
   ]
  },
  {
   "cell_type": "code",
   "execution_count": 24,
   "metadata": {},
   "outputs": [
    {
     "data": {
      "image/png": "[encoded data removed]",
      "text/plain": [
       "<Figure size 2520x1080 with 10 Axes>"
      ]
     },
     "metadata": {},
     "output_type": "display_data"
    }
   ],
   "source": [
    "# Visualize all categorical variables\n",
    "sns.set(style=\"darkgrid\")\n",
    "fig, ax = plt.subplots(2, 5, figsize=(35, 15))\n",
    "for variable, subplot in zip(categorical_vars, ax.flatten()):\n",
    "    sns.countplot(X[variable], ax=subplot)\n",
    "    for label in subplot.get_xticklabels():\n",
    "        label.set_rotation(90)\n",
    "plt.subplots_adjust(wspace=0.45, hspace=0.8)\n"
   ]
  },
  {
   "cell_type": "code",
   "execution_count": 25,
   "metadata": {},
   "outputs": [
    {
     "data": {
      "image/png": "[encoded data removed]",
      "text/plain": [
       "<Figure size 2520x1080 with 10 Axes>"
      ]
     },
     "metadata": {},
     "output_type": "display_data"
    }
   ],
   "source": [
    "fig, ax = plt.subplots(2, 5, figsize=(35, 15))\n",
    "for variable, subplot in zip(categorical_vars, ax.flatten()):\n",
    "    sns.countplot(x=variable,hue='subscribed',data=clean_bank_data,ax=subplot)\n",
    "    for label in subplot.get_xticklabels():\n",
    "        label.set_rotation(90)\n",
    "plt.subplots_adjust(wspace=0.45, hspace=0.8)"
   ]
  },
  {
   "cell_type": "code",
   "execution_count": 26,
   "metadata": {},
   "outputs": [
    {
     "data": {
      "application/vnd.plotly.v1+json": {
       "config": {
        "linkText": "Export to plot.ly",
        "plotlyServerURL": "https://plot.ly",
        "showLink": false
       },
       "data": [
        {
         "marker": {
          "color": "#76D7C4"
         },
         "type": "bar",
         "x": [
          "married",
          "divorced",
          "single"
         ],
         "y": [
          24921,
          11564,
          4611,
          80
         ]
        }
       ],
       "layout": {
        "template": {
         "data": {
          "bar": [
           {
            "error_x": {
             "color": "#2a3f5f"
            },
            "error_y": {
             "color": "#2a3f5f"
            },
            "marker": {
             "line": {
              "color": "#E5ECF6",
              "width": 0.5
             }
            },
            "type": "bar"
           }
          ],
          "barpolar": [
           {
            "marker": {
             "line": {
              "color": "#E5ECF6",
              "width": 0.5
             }
            },
            "type": "barpolar"
           }
          ],
          "carpet": [
           {
            "aaxis": {
             "endlinecolor": "#2a3f5f",
             "gridcolor": "white",
             "linecolor": "white",
             "minorgridcolor": "white",
             "startlinecolor": "#2a3f5f"
            },
            "baxis": {
             "endlinecolor": "#2a3f5f",
             "gridcolor": "white",
             "linecolor": "white",
             "minorgridcolor": "white",
             "startlinecolor": "#2a3f5f"
            },
            "type": "carpet"
           }
          ],
          "choropleth": [
           {
            "colorbar": {
             "outlinewidth": 0,
             "ticks": ""
            },
            "type": "choropleth"
           }
          ],
          "contour": [
           {
            "colorbar": {
             "outlinewidth": 0,
             "ticks": ""
            },
            "colorscale": [
             [
              0,
              "#0d0887"
             ],
             [
              0.1111111111111111,
              "#46039f"
             ],
             [
              0.2222222222222222,
              "#7201a8"
             ],
             [
              0.3333333333333333,
              "#9c179e"
             ],
             [
              0.4444444444444444,
              "#bd3786"
             ],
             [
              0.5555555555555556,
              "#d8576b"
             ],
             [
              0.6666666666666666,
              "#ed7953"
             ],
             [
              0.7777777777777778,
              "#fb9f3a"
             ],
             [
              0.8888888888888888,
              "#fdca26"
             ],
             [
              1,
              "#f0f921"
             ]
            ],
            "type": "contour"
           }
          ],
          "contourcarpet": [
           {
            "colorbar": {
             "outlinewidth": 0,
             "ticks": ""
            },
            "type": "contourcarpet"
           }
          ],
          "heatmap": [
           {
            "colorbar": {
             "outlinewidth": 0,
             "ticks": ""
            },
            "colorscale": [
             [
              0,
              "#0d0887"
             ],
             [
              0.1111111111111111,
              "#46039f"
             ],
             [
              0.2222222222222222,
              "#7201a8"
             ],
             [
              0.3333333333333333,
              "#9c179e"
             ],
             [
              0.4444444444444444,
              "#bd3786"
             ],
             [
              0.5555555555555556,
              "#d8576b"
             ],
             [
              0.6666666666666666,
              "#ed7953"
             ],
             [
              0.7777777777777778,
              "#fb9f3a"
             ],
             [
              0.8888888888888888,
              "#fdca26"
             ],
             [
              1,
              "#f0f921"
             ]
            ],
            "type": "heatmap"
           }
          ],
          "heatmapgl": [
           {
            "colorbar": {
             "outlinewidth": 0,
             "ticks": ""
            },
            "colorscale": [
             [
              0,
              "#0d0887"
             ],
             [
              0.1111111111111111,
              "#46039f"
             ],
             [
              0.2222222222222222,
              "#7201a8"
             ],
             [
              0.3333333333333333,
              "#9c179e"
             ],
             [
              0.4444444444444444,
              "#bd3786"
             ],
             [
              0.5555555555555556,
              "#d8576b"
             ],
             [
              0.6666666666666666,
              "#ed7953"
             ],
             [
              0.7777777777777778,
              "#fb9f3a"
             ],
             [
              0.8888888888888888,
              "#fdca26"
             ],
             [
              1,
              "#f0f921"
             ]
            ],
            "type": "heatmapgl"
           }
          ],
          "histogram": [
           {
            "marker": {
             "colorbar": {
              "outlinewidth": 0,
              "ticks": ""
             }
            },
            "type": "histogram"
           }
          ],
          "histogram2d": [
           {
            "colorbar": {
             "outlinewidth": 0,
             "ticks": ""
            },
            "colorscale": [
             [
              0,
              "#0d0887"
             ],
             [
              0.1111111111111111,
              "#46039f"
             ],
             [
              0.2222222222222222,
              "#7201a8"
             ],
             [
              0.3333333333333333,
              "#9c179e"
             ],
             [
              0.4444444444444444,
              "#bd3786"
             ],
             [
              0.5555555555555556,
              "#d8576b"
             ],
             [
              0.6666666666666666,
              "#ed7953"
             ],
             [
              0.7777777777777778,
              "#fb9f3a"
             ],
             [
              0.8888888888888888,
              "#fdca26"
             ],
             [
              1,
              "#f0f921"
             ]
            ],
            "type": "histogram2d"
           }
          ],
          "histogram2dcontour": [
           {
            "colorbar": {
             "outlinewidth": 0,
             "ticks": ""
            },
            "colorscale": [
             [
              0,
              "#0d0887"
             ],
             [
              0.1111111111111111,
              "#46039f"
             ],
             [
              0.2222222222222222,
              "#7201a8"
             ],
             [
              0.3333333333333333,
              "#9c179e"
             ],
             [
              0.4444444444444444,
              "#bd3786"
             ],
             [
              0.5555555555555556,
              "#d8576b"
             ],
             [
              0.6666666666666666,
              "#ed7953"
             ],
             [
              0.7777777777777778,
              "#fb9f3a"
             ],
             [
              0.8888888888888888,
              "#fdca26"
             ],
             [
              1,
              "#f0f921"
             ]
            ],
            "type": "histogram2dcontour"
           }
          ],
          "mesh3d": [
           {
            "colorbar": {
             "outlinewidth": 0,
             "ticks": ""
            },
            "type": "mesh3d"
           }
          ],
          "parcoords": [
           {
            "line": {
             "colorbar": {
              "outlinewidth": 0,
              "ticks": ""
             }
            },
            "type": "parcoords"
           }
          ],
          "scatter": [
           {
            "marker": {
             "colorbar": {
              "outlinewidth": 0,
              "ticks": ""
             }
            },
            "type": "scatter"
           }
          ],
          "scatter3d": [
           {
            "line": {
             "colorbar": {
              "outlinewidth": 0,
              "ticks": ""
             }
            },
            "marker": {
             "colorbar": {
              "outlinewidth": 0,
              "ticks": ""
             }
            },
            "type": "scatter3d"
           }
          ],
          "scattercarpet": [
           {
            "marker": {
             "colorbar": {
              "outlinewidth": 0,
              "ticks": ""
             }
            },
            "type": "scattercarpet"
           }
          ],
          "scattergeo": [
           {
            "marker": {
             "colorbar": {
              "outlinewidth": 0,
              "ticks": ""
             }
            },
            "type": "scattergeo"
           }
          ],
          "scattergl": [
           {
            "marker": {
             "colorbar": {
              "outlinewidth": 0,
              "ticks": ""
             }
            },
            "type": "scattergl"
           }
          ],
          "scattermapbox": [
           {
            "marker": {
             "colorbar": {
              "outlinewidth": 0,
              "ticks": ""
             }
            },
            "type": "scattermapbox"
           }
          ],
          "scatterpolar": [
           {
            "marker": {
             "colorbar": {
              "outlinewidth": 0,
              "ticks": ""
             }
            },
            "type": "scatterpolar"
           }
          ],
          "scatterpolargl": [
           {
            "marker": {
             "colorbar": {
              "outlinewidth": 0,
              "ticks": ""
             }
            },
            "type": "scatterpolargl"
           }
          ],
          "scatterternary": [
           {
            "marker": {
             "colorbar": {
              "outlinewidth": 0,
              "ticks": ""
             }
            },
            "type": "scatterternary"
           }
          ],
          "surface": [
           {
            "colorbar": {
             "outlinewidth": 0,
             "ticks": ""
            },
            "colorscale": [
             [
              0,
              "#0d0887"
             ],
             [
              0.1111111111111111,
              "#46039f"
             ],
             [
              0.2222222222222222,
              "#7201a8"
             ],
             [
              0.3333333333333333,
              "#9c179e"
             ],
             [
              0.4444444444444444,
              "#bd3786"
             ],
             [
              0.5555555555555556,
              "#d8576b"
             ],
             [
              0.6666666666666666,
              "#ed7953"
             ],
             [
              0.7777777777777778,
              "#fb9f3a"
             ],
             [
              0.8888888888888888,
              "#fdca26"
             ],
             [
              1,
              "#f0f921"
             ]
            ],
            "type": "surface"
           }
          ],
          "table": [
           {
            "cells": {
             "fill": {
              "color": "#EBF0F8"
             },
             "line": {
              "color": "white"
             }
            },
            "header": {
             "fill": {
              "color": "#C8D4E3"
             },
             "line": {
              "color": "white"
             }
            },
            "type": "table"
           }
          ]
         },
         "layout": {
          "annotationdefaults": {
           "arrowcolor": "#2a3f5f",
           "arrowhead": 0,
           "arrowwidth": 1
          },
          "colorscale": {
           "diverging": [
            [
             0,
             "#8e0152"
            ],
            [
             0.1,
             "#c51b7d"
            ],
            [
             0.2,
             "#de77ae"
            ],
            [
             0.3,
             "#f1b6da"
            ],
            [
             0.4,
             "#fde0ef"
            ],
            [
             0.5,
             "#f7f7f7"
            ],
            [
             0.6,
             "#e6f5d0"
            ],
            [
             0.7,
             "#b8e186"
            ],
            [
             0.8,
             "#7fbc41"
            ],
            [
             0.9,
             "#4d9221"
            ],
            [
             1,
             "#276419"
            ]
           ],
           "sequential": [
            [
             0,
             "#0d0887"
            ],
            [
             0.1111111111111111,
             "#46039f"
            ],
            [
             0.2222222222222222,
             "#7201a8"
            ],
            [
             0.3333333333333333,
             "#9c179e"
            ],
            [
             0.4444444444444444,
             "#bd3786"
            ],
            [
             0.5555555555555556,
             "#d8576b"
            ],
            [
             0.6666666666666666,
             "#ed7953"
            ],
            [
             0.7777777777777778,
             "#fb9f3a"
            ],
            [
             0.8888888888888888,
             "#fdca26"
            ],
            [
             1,
             "#f0f921"
            ]
           ],
           "sequentialminus": [
            [
             0,
             "#0d0887"
            ],
            [
             0.1111111111111111,
             "#46039f"
            ],
            [
             0.2222222222222222,
             "#7201a8"
            ],
            [
             0.3333333333333333,
             "#9c179e"
            ],
            [
             0.4444444444444444,
             "#bd3786"
            ],
            [
             0.5555555555555556,
             "#d8576b"
            ],
            [
             0.6666666666666666,
             "#ed7953"
            ],
            [
             0.7777777777777778,
             "#fb9f3a"
            ],
            [
             0.8888888888888888,
             "#fdca26"
            ],
            [
             1,
             "#f0f921"
            ]
           ]
          },
          "colorway": [
           "#636efa",
           "#EF553B",
           "#00cc96",
           "#ab63fa",
           "#FFA15A",
           "#19d3f3",
           "#FF6692",
           "#B6E880",
           "#FF97FF",
           "#FECB52"
          ],
          "font": {
           "color": "#2a3f5f"
          },
          "geo": {
           "bgcolor": "white",
           "lakecolor": "white",
           "landcolor": "#E5ECF6",
           "showlakes": true,
           "showland": true,
           "subunitcolor": "white"
          },
          "hoverlabel": {
           "align": "left"
          },
          "hovermode": "closest",
          "mapbox": {
           "style": "light"
          },
          "paper_bgcolor": "white",
          "plot_bgcolor": "#E5ECF6",
          "polar": {
           "angularaxis": {
            "gridcolor": "white",
            "linecolor": "white",
            "ticks": ""
           },
           "bgcolor": "#E5ECF6",
           "radialaxis": {
            "gridcolor": "white",
            "linecolor": "white",
            "ticks": ""
           }
          },
          "scene": {
           "xaxis": {
            "backgroundcolor": "#E5ECF6",
            "gridcolor": "white",
            "gridwidth": 2,
            "linecolor": "white",
            "showbackground": true,
            "ticks": "",
            "zerolinecolor": "white"
           },
           "yaxis": {
            "backgroundcolor": "#E5ECF6",
            "gridcolor": "white",
            "gridwidth": 2,
            "linecolor": "white",
            "showbackground": true,
            "ticks": "",
            "zerolinecolor": "white"
           },
           "zaxis": {
            "backgroundcolor": "#E5ECF6",
            "gridcolor": "white",
            "gridwidth": 2,
            "linecolor": "white",
            "showbackground": true,
            "ticks": "",
            "zerolinecolor": "white"
           }
          },
          "shapedefaults": {
           "line": {
            "color": "#2a3f5f"
           }
          },
          "ternary": {
           "aaxis": {
            "gridcolor": "white",
            "linecolor": "white",
            "ticks": ""
           },
           "baxis": {
            "gridcolor": "white",
            "linecolor": "white",
            "ticks": ""
           },
           "bgcolor": "#E5ECF6",
           "caxis": {
            "gridcolor": "white",
            "linecolor": "white",
            "ticks": ""
           }
          },
          "title": {
           "x": 0.05
          },
          "xaxis": {
           "automargin": true,
           "gridcolor": "white",
           "linecolor": "white",
           "ticks": "",
           "zerolinecolor": "white",
           "zerolinewidth": 2
          },
          "yaxis": {
           "automargin": true,
           "gridcolor": "white",
           "linecolor": "white",
           "ticks": "",
           "zerolinecolor": "white",
           "zerolinewidth": 2
          }
         }
        },
        "title": {
         "text": "Count by Marital Status"
        }
       }
      },
      "text/html": [
       "<div>\n",
       "        \n",
       "        \n",
       "            <div id=\"6e903f1b-ab21-461c-9d5c-4b340464d55d\" class=\"plotly-graph-div\" style=\"height:525px; width:100%;\"></div>\n",
       "            <script type=\"text/javascript\">\n",
       "                require([\"plotly\"], function(Plotly) {\n",
       "                    window.PLOTLYENV=window.PLOTLYENV || {};\n",
       "                    \n",
       "                if (document.getElementById(\"6e903f1b-ab21-461c-9d5c-4b340464d55d\")) {\n",
       "                    Plotly.newPlot(\n",
       "                        '6e903f1b-ab21-461c-9d5c-4b340464d55d',\n",
       "                        [{\"marker\": {\"color\": \"#76D7C4\"}, \"type\": \"bar\", \"x\": [\"married\", \"divorced\", \"single\"], \"y\": [24921, 11564, 4611, 80]}],\n",
       "                        {\"template\": {\"data\": {\"bar\": [{\"error_x\": {\"color\": \"#2a3f5f\"}, \"error_y\": {\"color\": \"#2a3f5f\"}, \"marker\": {\"line\": {\"color\": \"#E5ECF6\", \"width\": 0.5}}, \"type\": \"bar\"}], \"barpolar\": [{\"marker\": {\"line\": {\"color\": \"#E5ECF6\", \"width\": 0.5}}, \"type\": \"barpolar\"}], \"carpet\": [{\"aaxis\": {\"endlinecolor\": \"#2a3f5f\", \"gridcolor\": \"white\", \"linecolor\": \"white\", \"minorgridcolor\": \"white\", \"startlinecolor\": \"#2a3f5f\"}, \"baxis\": {\"endlinecolor\": \"#2a3f5f\", \"gridcolor\": \"white\", \"linecolor\": \"white\", \"minorgridcolor\": \"white\", \"startlinecolor\": \"#2a3f5f\"}, \"type\": \"carpet\"}], \"choropleth\": [{\"colorbar\": {\"outlinewidth\": 0, \"ticks\": \"\"}, \"type\": \"choropleth\"}], \"contour\": [{\"colorbar\": {\"outlinewidth\": 0, \"ticks\": \"\"}, \"colorscale\": [[0.0, \"#0d0887\"], [0.1111111111111111, \"#46039f\"], [0.2222222222222222, \"#7201a8\"], [0.3333333333333333, \"#9c179e\"], [0.4444444444444444, \"#bd3786\"], [0.5555555555555556, \"#d8576b\"], [0.6666666666666666, \"#ed7953\"], [0.7777777777777778, \"#fb9f3a\"], [0.8888888888888888, \"#fdca26\"], [1.0, \"#f0f921\"]], \"type\": \"contour\"}], \"contourcarpet\": [{\"colorbar\": {\"outlinewidth\": 0, \"ticks\": \"\"}, \"type\": \"contourcarpet\"}], \"heatmap\": [{\"colorbar\": {\"outlinewidth\": 0, \"ticks\": \"\"}, \"colorscale\": [[0.0, \"#0d0887\"], [0.1111111111111111, \"#46039f\"], [0.2222222222222222, \"#7201a8\"], [0.3333333333333333, \"#9c179e\"], [0.4444444444444444, \"#bd3786\"], [0.5555555555555556, \"#d8576b\"], [0.6666666666666666, \"#ed7953\"], [0.7777777777777778, \"#fb9f3a\"], [0.8888888888888888, \"#fdca26\"], [1.0, \"#f0f921\"]], \"type\": \"heatmap\"}], \"heatmapgl\": [{\"colorbar\": {\"outlinewidth\": 0, \"ticks\": \"\"}, \"colorscale\": [[0.0, \"#0d0887\"], [0.1111111111111111, \"#46039f\"], [0.2222222222222222, \"#7201a8\"], [0.3333333333333333, \"#9c179e\"], [0.4444444444444444, \"#bd3786\"], [0.5555555555555556, \"#d8576b\"], [0.6666666666666666, \"#ed7953\"], [0.7777777777777778, \"#fb9f3a\"], [0.8888888888888888, \"#fdca26\"], [1.0, \"#f0f921\"]], \"type\": \"heatmapgl\"}], \"histogram\": [{\"marker\": {\"colorbar\": {\"outlinewidth\": 0, \"ticks\": \"\"}}, \"type\": \"histogram\"}], \"histogram2d\": [{\"colorbar\": {\"outlinewidth\": 0, \"ticks\": \"\"}, \"colorscale\": [[0.0, \"#0d0887\"], [0.1111111111111111, \"#46039f\"], [0.2222222222222222, \"#7201a8\"], [0.3333333333333333, \"#9c179e\"], [0.4444444444444444, \"#bd3786\"], [0.5555555555555556, \"#d8576b\"], [0.6666666666666666, \"#ed7953\"], [0.7777777777777778, \"#fb9f3a\"], [0.8888888888888888, \"#fdca26\"], [1.0, \"#f0f921\"]], \"type\": \"histogram2d\"}], \"histogram2dcontour\": [{\"colorbar\": {\"outlinewidth\": 0, \"ticks\": \"\"}, \"colorscale\": [[0.0, \"#0d0887\"], [0.1111111111111111, \"#46039f\"], [0.2222222222222222, \"#7201a8\"], [0.3333333333333333, \"#9c179e\"], [0.4444444444444444, \"#bd3786\"], [0.5555555555555556, \"#d8576b\"], [0.6666666666666666, \"#ed7953\"], [0.7777777777777778, \"#fb9f3a\"], [0.8888888888888888, \"#fdca26\"], [1.0, \"#f0f921\"]], \"type\": \"histogram2dcontour\"}], \"mesh3d\": [{\"colorbar\": {\"outlinewidth\": 0, \"ticks\": \"\"}, \"type\": \"mesh3d\"}], \"parcoords\": [{\"line\": {\"colorbar\": {\"outlinewidth\": 0, \"ticks\": \"\"}}, \"type\": \"parcoords\"}], \"scatter\": [{\"marker\": {\"colorbar\": {\"outlinewidth\": 0, \"ticks\": \"\"}}, \"type\": \"scatter\"}], \"scatter3d\": [{\"line\": {\"colorbar\": {\"outlinewidth\": 0, \"ticks\": \"\"}}, \"marker\": {\"colorbar\": {\"outlinewidth\": 0, \"ticks\": \"\"}}, \"type\": \"scatter3d\"}], \"scattercarpet\": [{\"marker\": {\"colorbar\": {\"outlinewidth\": 0, \"ticks\": \"\"}}, \"type\": \"scattercarpet\"}], \"scattergeo\": [{\"marker\": {\"colorbar\": {\"outlinewidth\": 0, \"ticks\": \"\"}}, \"type\": \"scattergeo\"}], \"scattergl\": [{\"marker\": {\"colorbar\": {\"outlinewidth\": 0, \"ticks\": \"\"}}, \"type\": \"scattergl\"}], \"scattermapbox\": [{\"marker\": {\"colorbar\": {\"outlinewidth\": 0, \"ticks\": \"\"}}, \"type\": \"scattermapbox\"}], \"scatterpolar\": [{\"marker\": {\"colorbar\": {\"outlinewidth\": 0, \"ticks\": \"\"}}, \"type\": \"scatterpolar\"}], \"scatterpolargl\": [{\"marker\": {\"colorbar\": {\"outlinewidth\": 0, \"ticks\": \"\"}}, \"type\": \"scatterpolargl\"}], \"scatterternary\": [{\"marker\": {\"colorbar\": {\"outlinewidth\": 0, \"ticks\": \"\"}}, \"type\": \"scatterternary\"}], \"surface\": [{\"colorbar\": {\"outlinewidth\": 0, \"ticks\": \"\"}, \"colorscale\": [[0.0, \"#0d0887\"], [0.1111111111111111, \"#46039f\"], [0.2222222222222222, \"#7201a8\"], [0.3333333333333333, \"#9c179e\"], [0.4444444444444444, \"#bd3786\"], [0.5555555555555556, \"#d8576b\"], [0.6666666666666666, \"#ed7953\"], [0.7777777777777778, \"#fb9f3a\"], [0.8888888888888888, \"#fdca26\"], [1.0, \"#f0f921\"]], \"type\": \"surface\"}], \"table\": [{\"cells\": {\"fill\": {\"color\": \"#EBF0F8\"}, \"line\": {\"color\": \"white\"}}, \"header\": {\"fill\": {\"color\": \"#C8D4E3\"}, \"line\": {\"color\": \"white\"}}, \"type\": \"table\"}]}, \"layout\": {\"annotationdefaults\": {\"arrowcolor\": \"#2a3f5f\", \"arrowhead\": 0, \"arrowwidth\": 1}, \"colorscale\": {\"diverging\": [[0, \"#8e0152\"], [0.1, \"#c51b7d\"], [0.2, \"#de77ae\"], [0.3, \"#f1b6da\"], [0.4, \"#fde0ef\"], [0.5, \"#f7f7f7\"], [0.6, \"#e6f5d0\"], [0.7, \"#b8e186\"], [0.8, \"#7fbc41\"], [0.9, \"#4d9221\"], [1, \"#276419\"]], \"sequential\": [[0.0, \"#0d0887\"], [0.1111111111111111, \"#46039f\"], [0.2222222222222222, \"#7201a8\"], [0.3333333333333333, \"#9c179e\"], [0.4444444444444444, \"#bd3786\"], [0.5555555555555556, \"#d8576b\"], [0.6666666666666666, \"#ed7953\"], [0.7777777777777778, \"#fb9f3a\"], [0.8888888888888888, \"#fdca26\"], [1.0, \"#f0f921\"]], \"sequentialminus\": [[0.0, \"#0d0887\"], [0.1111111111111111, \"#46039f\"], [0.2222222222222222, \"#7201a8\"], [0.3333333333333333, \"#9c179e\"], [0.4444444444444444, \"#bd3786\"], [0.5555555555555556, \"#d8576b\"], [0.6666666666666666, \"#ed7953\"], [0.7777777777777778, \"#fb9f3a\"], [0.8888888888888888, \"#fdca26\"], [1.0, \"#f0f921\"]]}, \"colorway\": [\"#636efa\", \"#EF553B\", \"#00cc96\", \"#ab63fa\", \"#FFA15A\", \"#19d3f3\", \"#FF6692\", \"#B6E880\", \"#FF97FF\", \"#FECB52\"], \"font\": {\"color\": \"#2a3f5f\"}, \"geo\": {\"bgcolor\": \"white\", \"lakecolor\": \"white\", \"landcolor\": \"#E5ECF6\", \"showlakes\": true, \"showland\": true, \"subunitcolor\": \"white\"}, \"hoverlabel\": {\"align\": \"left\"}, \"hovermode\": \"closest\", \"mapbox\": {\"style\": \"light\"}, \"paper_bgcolor\": \"white\", \"plot_bgcolor\": \"#E5ECF6\", \"polar\": {\"angularaxis\": {\"gridcolor\": \"white\", \"linecolor\": \"white\", \"ticks\": \"\"}, \"bgcolor\": \"#E5ECF6\", \"radialaxis\": {\"gridcolor\": \"white\", \"linecolor\": \"white\", \"ticks\": \"\"}}, \"scene\": {\"xaxis\": {\"backgroundcolor\": \"#E5ECF6\", \"gridcolor\": \"white\", \"gridwidth\": 2, \"linecolor\": \"white\", \"showbackground\": true, \"ticks\": \"\", \"zerolinecolor\": \"white\"}, \"yaxis\": {\"backgroundcolor\": \"#E5ECF6\", \"gridcolor\": \"white\", \"gridwidth\": 2, \"linecolor\": \"white\", \"showbackground\": true, \"ticks\": \"\", \"zerolinecolor\": \"white\"}, \"zaxis\": {\"backgroundcolor\": \"#E5ECF6\", \"gridcolor\": \"white\", \"gridwidth\": 2, \"linecolor\": \"white\", \"showbackground\": true, \"ticks\": \"\", \"zerolinecolor\": \"white\"}}, \"shapedefaults\": {\"line\": {\"color\": \"#2a3f5f\"}}, \"ternary\": {\"aaxis\": {\"gridcolor\": \"white\", \"linecolor\": \"white\", \"ticks\": \"\"}, \"baxis\": {\"gridcolor\": \"white\", \"linecolor\": \"white\", \"ticks\": \"\"}, \"bgcolor\": \"#E5ECF6\", \"caxis\": {\"gridcolor\": \"white\", \"linecolor\": \"white\", \"ticks\": \"\"}}, \"title\": {\"x\": 0.05}, \"xaxis\": {\"automargin\": true, \"gridcolor\": \"white\", \"linecolor\": \"white\", \"ticks\": \"\", \"zerolinecolor\": \"white\", \"zerolinewidth\": 2}, \"yaxis\": {\"automargin\": true, \"gridcolor\": \"white\", \"linecolor\": \"white\", \"ticks\": \"\", \"zerolinecolor\": \"white\", \"zerolinewidth\": 2}}}, \"title\": {\"text\": \"Count by Marital Status\"}},\n",
       "                        {\"responsive\": true}\n",
       "                    ).then(function(){\n",
       "                            \n",
       "var gd = document.getElementById('6e903f1b-ab21-461c-9d5c-4b340464d55d');\n",
       "var x = new MutationObserver(function (mutations, observer) {{\n",
       "        var display = window.getComputedStyle(gd).display;\n",
       "        if (!display || display === 'none') {{\n",
       "            console.log([gd, 'removed!']);\n",
       "            Plotly.purge(gd);\n",
       "            observer.disconnect();\n",
       "        }}\n",
       "}});\n",
       "\n",
       "// Listen for the removal of the full notebook cells\n",
       "var notebookContainer = gd.closest('#notebook-container');\n",
       "if (notebookContainer) {{\n",
       "    x.observe(notebookContainer, {childList: true});\n",
       "}}\n",
       "\n",
       "// Listen for the clearing of the current output cell\n",
       "var outputEl = gd.closest('.output');\n",
       "if (outputEl) {{\n",
       "    x.observe(outputEl, {childList: true});\n",
       "}}\n",
       "\n",
       "                        })\n",
       "                };\n",
       "                });\n",
       "            </script>\n",
       "        </div>"
      ]
     },
     "metadata": {},
     "output_type": "display_data"
    }
   ],
   "source": [
    "vals = X['marital'].value_counts().tolist()\n",
    "labels = ['married', 'divorced', 'single']\n",
    "\n",
    "data = [go.Bar(x=labels, y=vals, marker=dict(color=\"#76D7C4\"))]\n",
    "\n",
    "layout = go.Layout(title=\"Count by Marital Status\",)\n",
    "\n",
    "fig = go.Figure(data=data, layout=layout)\n",
    "\n",
    "iplot(fig, filename='marital bar')"
   ]
  },
  {
   "cell_type": "code",
   "execution_count": 27,
   "metadata": {},
   "outputs": [
    {
     "data": {
      "image/png": "[encoded data removed]",
      "text/plain": [
       "<Figure size 720x504 with 2 Axes>"
      ]
     },
     "metadata": {},
     "output_type": "display_data"
    }
   ],
   "source": [
    "sns.set_context(\"notebook\",font_scale = 1.0, rc = {\"lines.linewidth\":2.5})\n",
    "plt.figure(figsize = (10,7))\n",
    "a = sns.heatmap(corr_data, annot = True, fmt = \".2f\")"
   ]
  },
  {
   "cell_type": "markdown",
   "metadata": {
    "collapsed": true
   },
   "source": [
    "### 6. Machine Learning: Classification"
   ]
  },
  {
   "cell_type": "markdown",
   "metadata": {},
   "source": [
    "<img src='https://cdn-images-1.medium.com/max/1600/0*NbQlrmQFOsjPFB-f.gif' width='500'>"
   ]
  },
  {
   "cell_type": "code",
   "execution_count": 28,
   "metadata": {},
   "outputs": [
    {
     "data": {
      "text/html": [
       "<div>\n",
       "<style scoped>\n",
       "    .dataframe tbody tr th:only-of-type {\n",
       "        vertical-align: middle;\n",
       "    }\n",
       "\n",
       "    .dataframe tbody tr th {\n",
       "        vertical-align: top;\n",
       "    }\n",
       "\n",
       "    .dataframe thead th {\n",
       "        text-align: right;\n",
       "    }\n",
       "</style>\n",
       "<table border=\"1\" class=\"dataframe\">\n",
       "  <thead>\n",
       "    <tr style=\"text-align: right;\">\n",
       "      <th></th>\n",
       "      <th>age</th>\n",
       "      <th>job</th>\n",
       "      <th>marital</th>\n",
       "      <th>education</th>\n",
       "      <th>has_credit</th>\n",
       "      <th>housing_loan</th>\n",
       "      <th>personal_loan</th>\n",
       "      <th>contact</th>\n",
       "      <th>month</th>\n",
       "      <th>day_of_week</th>\n",
       "      <th>duration</th>\n",
       "      <th>campaign</th>\n",
       "      <th>pdays</th>\n",
       "      <th>previous</th>\n",
       "      <th>poutcome</th>\n",
       "      <th>emp.var.rate</th>\n",
       "      <th>cons.price.idx</th>\n",
       "      <th>cons.conf.idx</th>\n",
       "      <th>euribor3m</th>\n",
       "      <th>nr.employed</th>\n",
       "    </tr>\n",
       "  </thead>\n",
       "  <tbody>\n",
       "    <tr>\n",
       "      <td>0</td>\n",
       "      <td>39</td>\n",
       "      <td>3</td>\n",
       "      <td>1</td>\n",
       "      <td>0</td>\n",
       "      <td>0</td>\n",
       "      <td>0</td>\n",
       "      <td>0</td>\n",
       "      <td>1</td>\n",
       "      <td>6</td>\n",
       "      <td>1</td>\n",
       "      <td>261</td>\n",
       "      <td>0</td>\n",
       "      <td>26</td>\n",
       "      <td>0</td>\n",
       "      <td>1</td>\n",
       "      <td>8</td>\n",
       "      <td>18</td>\n",
       "      <td>16</td>\n",
       "      <td>287</td>\n",
       "      <td>8</td>\n",
       "    </tr>\n",
       "    <tr>\n",
       "      <td>1</td>\n",
       "      <td>40</td>\n",
       "      <td>7</td>\n",
       "      <td>1</td>\n",
       "      <td>3</td>\n",
       "      <td>1</td>\n",
       "      <td>0</td>\n",
       "      <td>0</td>\n",
       "      <td>1</td>\n",
       "      <td>6</td>\n",
       "      <td>1</td>\n",
       "      <td>149</td>\n",
       "      <td>0</td>\n",
       "      <td>26</td>\n",
       "      <td>0</td>\n",
       "      <td>1</td>\n",
       "      <td>8</td>\n",
       "      <td>18</td>\n",
       "      <td>16</td>\n",
       "      <td>287</td>\n",
       "      <td>8</td>\n",
       "    </tr>\n",
       "    <tr>\n",
       "      <td>2</td>\n",
       "      <td>20</td>\n",
       "      <td>7</td>\n",
       "      <td>1</td>\n",
       "      <td>3</td>\n",
       "      <td>0</td>\n",
       "      <td>2</td>\n",
       "      <td>0</td>\n",
       "      <td>1</td>\n",
       "      <td>6</td>\n",
       "      <td>1</td>\n",
       "      <td>226</td>\n",
       "      <td>0</td>\n",
       "      <td>26</td>\n",
       "      <td>0</td>\n",
       "      <td>1</td>\n",
       "      <td>8</td>\n",
       "      <td>18</td>\n",
       "      <td>16</td>\n",
       "      <td>287</td>\n",
       "      <td>8</td>\n",
       "    </tr>\n",
       "    <tr>\n",
       "      <td>3</td>\n",
       "      <td>23</td>\n",
       "      <td>0</td>\n",
       "      <td>1</td>\n",
       "      <td>1</td>\n",
       "      <td>0</td>\n",
       "      <td>0</td>\n",
       "      <td>0</td>\n",
       "      <td>1</td>\n",
       "      <td>6</td>\n",
       "      <td>1</td>\n",
       "      <td>151</td>\n",
       "      <td>0</td>\n",
       "      <td>26</td>\n",
       "      <td>0</td>\n",
       "      <td>1</td>\n",
       "      <td>8</td>\n",
       "      <td>18</td>\n",
       "      <td>16</td>\n",
       "      <td>287</td>\n",
       "      <td>8</td>\n",
       "    </tr>\n",
       "    <tr>\n",
       "      <td>4</td>\n",
       "      <td>39</td>\n",
       "      <td>7</td>\n",
       "      <td>1</td>\n",
       "      <td>3</td>\n",
       "      <td>0</td>\n",
       "      <td>0</td>\n",
       "      <td>2</td>\n",
       "      <td>1</td>\n",
       "      <td>6</td>\n",
       "      <td>1</td>\n",
       "      <td>307</td>\n",
       "      <td>0</td>\n",
       "      <td>26</td>\n",
       "      <td>0</td>\n",
       "      <td>1</td>\n",
       "      <td>8</td>\n",
       "      <td>18</td>\n",
       "      <td>16</td>\n",
       "      <td>287</td>\n",
       "      <td>8</td>\n",
       "    </tr>\n",
       "  </tbody>\n",
       "</table>\n",
       "</div>"
      ],
      "text/plain": [
       "   age  job  marital  education  has_credit  housing_loan  personal_loan  \\\n",
       "0   39    3        1          0           0             0              0   \n",
       "1   40    7        1          3           1             0              0   \n",
       "2   20    7        1          3           0             2              0   \n",
       "3   23    0        1          1           0             0              0   \n",
       "4   39    7        1          3           0             0              2   \n",
       "\n",
       "   contact  month  day_of_week  duration  campaign  pdays  previous  poutcome  \\\n",
       "0        1      6            1       261         0     26         0         1   \n",
       "1        1      6            1       149         0     26         0         1   \n",
       "2        1      6            1       226         0     26         0         1   \n",
       "3        1      6            1       151         0     26         0         1   \n",
       "4        1      6            1       307         0     26         0         1   \n",
       "\n",
       "   emp.var.rate  cons.price.idx  cons.conf.idx  euribor3m  nr.employed  \n",
       "0             8              18             16        287            8  \n",
       "1             8              18             16        287            8  \n",
       "2             8              18             16        287            8  \n",
       "3             8              18             16        287            8  \n",
       "4             8              18             16        287            8  "
      ]
     },
     "execution_count": 28,
     "metadata": {},
     "output_type": "execute_result"
    }
   ],
   "source": [
    "# import LabelEncoder and instantiate object\n",
    "from sklearn.preprocessing import LabelEncoder\n",
    "le = LabelEncoder()\n",
    "\n",
    "# apply LabelEncoder object on categorical columns\n",
    "X = X.apply(le.fit_transform)\n",
    "X.head()"
   ]
  },
  {
   "cell_type": "code",
   "execution_count": 29,
   "metadata": {},
   "outputs": [
    {
     "name": "stderr",
     "output_type": "stream",
     "text": [
      "/Users/suroor/Documents/anaconda3/lib/python3.7/site-packages/sklearn/preprocessing/_encoders.py:415: FutureWarning:\n",
      "\n",
      "The handling of integer data will change in version 0.22. Currently, the categories are determined based on the range [0, max(values)], while in the future they will be determined based on the unique values.\n",
      "If you want the future behaviour and silence this warning, you can specify \"categories='auto'\".\n",
      "In case you used a LabelEncoder before this OneHotEncoder to convert the categories to integers, then you can now use the OneHotEncoder directly.\n",
      "\n"
     ]
    },
    {
     "data": {
      "text/plain": [
       "(41176, 2141)"
      ]
     },
     "execution_count": 29,
     "metadata": {},
     "output_type": "execute_result"
    }
   ],
   "source": [
    "#import OneHotEncoder and instantiate object\n",
    "from sklearn.preprocessing import OneHotEncoder\n",
    "\n",
    "ohe = OneHotEncoder()\n",
    "ohe.fit(X)\n",
    "X = ohe.transform(X).toarray()\n",
    "X.shape"
   ]
  },
  {
   "cell_type": "code",
   "execution_count": 30,
   "metadata": {},
   "outputs": [
    {
     "data": {
      "text/plain": [
       "array([[0., 0., 0., ..., 1., 0., 0.],\n",
       "       [0., 0., 0., ..., 1., 0., 0.],\n",
       "       [0., 0., 0., ..., 1., 0., 0.],\n",
       "       ...,\n",
       "       [0., 0., 0., ..., 0., 0., 0.],\n",
       "       [0., 0., 0., ..., 0., 0., 0.],\n",
       "       [0., 0., 0., ..., 0., 0., 0.]])"
      ]
     },
     "execution_count": 30,
     "metadata": {},
     "output_type": "execute_result"
    }
   ],
   "source": [
    "X"
   ]
  },
  {
   "cell_type": "code",
   "execution_count": 31,
   "metadata": {},
   "outputs": [
    {
     "data": {
      "text/plain": [
       "(41176, 2141)"
      ]
     },
     "execution_count": 31,
     "metadata": {},
     "output_type": "execute_result"
    }
   ],
   "source": [
    "X.shape"
   ]
  },
  {
   "cell_type": "code",
   "execution_count": 32,
   "metadata": {},
   "outputs": [
    {
     "data": {
      "text/plain": [
       "array([0, 0, 0, ..., 0, 1, 0])"
      ]
     },
     "execution_count": 32,
     "metadata": {},
     "output_type": "execute_result"
    }
   ],
   "source": [
    "y, unique = pd.factorize(y)\n",
    "y"
   ]
  },
  {
   "cell_type": "code",
   "execution_count": 33,
   "metadata": {},
   "outputs": [],
   "source": [
    "X = pd.DataFrame(X)\n",
    "y = pd.DataFrame(y)\n"
   ]
  },
  {
   "cell_type": "code",
   "execution_count": 34,
   "metadata": {},
   "outputs": [],
   "source": [
    " #onehotlabels1 = pd.get_dummies(X)\n",
    " #onehotlabels1.shape"
   ]
  },
  {
   "cell_type": "code",
   "execution_count": 35,
   "metadata": {},
   "outputs": [],
   "source": [
    "# Using Skicit-learn to split data into training and testing sets\n",
    "from sklearn.model_selection import train_test_split\n",
    "\n",
    "# Split the data into training and testing sets\n",
    "X_train, X_test, y_train, y_test = train_test_split(X, y, test_size = 0.30, random_state = 10)"
   ]
  },
  {
   "cell_type": "markdown",
   "metadata": {},
   "source": [
    "#### Balance dataset using SMOTE: Synthetic Minority Over-sampling Technique"
   ]
  },
  {
   "cell_type": "code",
   "execution_count": 36,
   "metadata": {},
   "outputs": [],
   "source": [
    "from imblearn.over_sampling import SMOTE\n",
    "smote = SMOTE(random_state=0)"
   ]
  },
  {
   "cell_type": "code",
   "execution_count": 37,
   "metadata": {},
   "outputs": [
    {
     "name": "stderr",
     "output_type": "stream",
     "text": [
      "/Users/suroor/Documents/anaconda3/lib/python3.7/site-packages/sklearn/utils/validation.py:724: DataConversionWarning:\n",
      "\n",
      "A column-vector y was passed when a 1d array was expected. Please change the shape of y to (n_samples, ), for example using ravel().\n",
      "\n"
     ]
    },
    {
     "name": "stdout",
     "output_type": "stream",
     "text": [
      "length of oversampled data is  51024\n",
      "Number of no subscription in oversampled data 25512\n",
      "Number of subscription 25512\n",
      "Proportion of no subscription data in oversampled data is  0.5\n",
      "Proportion of subscription data in oversampled data is  0.5\n"
     ]
    }
   ],
   "source": [
    "columns = X_train.columns\n",
    "smote_X, smote_y = smote.fit_sample(X_train, y_train)\n",
    "smote_X = pd.DataFrame(data=smote_X,columns=columns )\n",
    "smote_y= pd.DataFrame(data=smote_y,columns=['subscribed'])\n",
    "# we can Check the numbers of our data\n",
    "print(\"length of oversampled data is \",len(smote_X))\n",
    "print(\"Number of no subscription in oversampled data\",len(smote_y[smote_y['subscribed']==0]))\n",
    "print(\"Number of subscription\",len(smote_y[smote_y['subscribed']==1]))\n",
    "print(\"Proportion of no subscription data in oversampled data is \",len(smote_y[smote_y['subscribed']==0])/len(smote_X))\n",
    "print(\"Proportion of subscription data in oversampled data is \",len(smote_y[smote_y['subscribed']==1])/len(smote_X))"
   ]
  },
  {
   "cell_type": "code",
   "execution_count": 38,
   "metadata": {},
   "outputs": [],
   "source": [
    "from sklearn.preprocessing import StandardScaler\n",
    "\n",
    "sc = StandardScaler()\n",
    "X_train = sc.fit_transform(X_train)\n",
    "X_test = sc.transform(X_test)"
   ]
  },
  {
   "cell_type": "code",
   "execution_count": 39,
   "metadata": {},
   "outputs": [],
   "source": [
    "X= smote_X\n",
    "y= smote_y"
   ]
  },
  {
   "cell_type": "code",
   "execution_count": 40,
   "metadata": {},
   "outputs": [],
   "source": [
    "X_train, X_test, y_train, y_test = train_test_split(X, y, test_size=0.3, random_state=42)\n",
    "columns = X_train.columns"
   ]
  },
  {
   "cell_type": "code",
   "execution_count": 41,
   "metadata": {},
   "outputs": [
    {
     "name": "stdout",
     "output_type": "stream",
     "text": [
      "Training Features Shape: (35716, 2141)\n",
      "Training test Shape: (15308, 2141)\n",
      "Testing Features Shape: (35716, 1)\n",
      "Testing test Shape: (15308, 1)\n"
     ]
    }
   ],
   "source": [
    "print('Training Features Shape:', X_train.shape)\n",
    "print('Training test Shape:', X_test.shape)\n",
    "print('Testing Features Shape:', y_train.shape)\n",
    "print('Testing test Shape:', y_test.shape)"
   ]
  },
  {
   "cell_type": "code",
   "execution_count": 42,
   "metadata": {},
   "outputs": [
    {
     "name": "stderr",
     "output_type": "stream",
     "text": [
      "/Users/suroor/Documents/anaconda3/lib/python3.7/site-packages/sklearn/linear_model/logistic.py:432: FutureWarning:\n",
      "\n",
      "Default solver will be changed to 'lbfgs' in 0.22. Specify a solver to silence this warning.\n",
      "\n",
      "/Users/suroor/Documents/anaconda3/lib/python3.7/site-packages/sklearn/utils/validation.py:724: DataConversionWarning:\n",
      "\n",
      "A column-vector y was passed when a 1d array was expected. Please change the shape of y to (n_samples, ), for example using ravel().\n",
      "\n"
     ]
    },
    {
     "name": "stdout",
     "output_type": "stream",
     "text": [
      "LR :  0.9191272537235432\n"
     ]
    },
    {
     "name": "stderr",
     "output_type": "stream",
     "text": [
      "/Users/suroor/Documents/anaconda3/lib/python3.7/site-packages/sklearn/utils/validation.py:724: DataConversionWarning:\n",
      "\n",
      "A column-vector y was passed when a 1d array was expected. Please change the shape of y to (n_samples, ), for example using ravel().\n",
      "\n"
     ]
    },
    {
     "name": "stdout",
     "output_type": "stream",
     "text": [
      "NB :  0.8238176117062974\n",
      "DT :  0.9310164619806637\n"
     ]
    }
   ],
   "source": [
    "from sklearn.linear_model import LogisticRegression\n",
    "#from sklearn.naive_bayes import GaussiaNB\n",
    "from sklearn.naive_bayes import GaussianNB\n",
    "from sklearn.svm import SVC\n",
    "from sklearn.neighbors import KNeighborsClassifier\n",
    "from sklearn.tree import DecisionTreeClassifier\n",
    "from sklearn.ensemble import RandomForestClassifier\n",
    "models = [\n",
    "     ('LR',LogisticRegression()),\n",
    "     ('NB',GaussianNB()),\n",
    "     ('DT',DecisionTreeClassifier())\n",
    "     ]\n",
    "for name, model in models:\n",
    "    clf = model\n",
    "    clf.fit(X_train,y_train)\n",
    "    accuracy = clf.score(X_test,y_test)\n",
    "    print(name,': ',accuracy)"
   ]
  },
  {
   "cell_type": "code",
   "execution_count": 43,
   "metadata": {},
   "outputs": [
    {
     "name": "stderr",
     "output_type": "stream",
     "text": [
      "/Users/suroor/Documents/anaconda3/lib/python3.7/site-packages/ipykernel_launcher.py:8: DataConversionWarning:\n",
      "\n",
      "A column-vector y was passed when a 1d array was expected. Please change the shape of y to (n_samples,), for example using ravel().\n",
      "\n"
     ]
    }
   ],
   "source": [
    "# Import the model we are using\n",
    "from sklearn.ensemble import RandomForestClassifier\n",
    "# Instantiate model with 50 decision trees\n",
    "rf = RandomForestClassifier(n_estimators = 100, max_depth=100, min_samples_leaf=3,min_samples_split=8\n",
    "                            , random_state = 42, n_jobs=1)\n",
    "\n",
    "# Train the model on training data\n",
    "rf.fit(X_train, y_train);\n",
    "\n",
    "# Use the forest's predict method on the test data\n",
    "y_predict = rf.predict(X_test)"
   ]
  },
  {
   "cell_type": "code",
   "execution_count": 44,
   "metadata": {},
   "outputs": [
    {
     "name": "stdout",
     "output_type": "stream",
     "text": [
      "Accuracy: 0.9174287954010975\n",
      "Mean Absolute Error 0.083\n",
      "Confusion Matrix:\n",
      "[[7050  576]\n",
      " [ 688 6994]]\n",
      "Classification Report:\n",
      "              precision    recall  f1-score   support\n",
      "\n",
      "           0       0.91      0.92      0.92      7626\n",
      "           1       0.92      0.91      0.92      7682\n",
      "\n",
      "    accuracy                           0.92     15308\n",
      "   macro avg       0.92      0.92      0.92     15308\n",
      "weighted avg       0.92      0.92      0.92     15308\n",
      "\n"
     ]
    }
   ],
   "source": [
    "from sklearn.metrics import classification_report, accuracy_score, confusion_matrix\n",
    "from sklearn.metrics import mean_absolute_error\n",
    "# Model Accuracy, how often is the classifier correct?\n",
    "accuracy = accuracy_score(y_test, y_predict)\n",
    "print(\"Accuracy:\", accuracy)\n",
    "\n",
    "# Print out the mean absolute error (mae)\n",
    "print('Mean Absolute Error {:0.3f}'.format(mean_absolute_error(y_test, y_predict)))\n",
    "\n",
    "#acc_random_forest = round(rf.score(X_train, y_train) * 100, 2)\n",
    "#print(round(acc_random_forest,2,), \"%\")\n",
    "\n",
    "print(\"Confusion Matrix:\")\n",
    "print(confusion_matrix(y_test,y_predict))\n",
    "\n",
    "print(\"Classification Report:\")\n",
    "print(classification_report(y_test, y_predict))"
   ]
  },
  {
   "cell_type": "markdown",
   "metadata": {},
   "source": [
    "### Cross Validation (K-fold)"
   ]
  },
  {
   "cell_type": "code",
   "execution_count": 45,
   "metadata": {},
   "outputs": [],
   "source": [
    "from sklearn.model_selection import KFold, cross_val_score\n",
    "K_fold = KFold (n_splits=10, shuffle=True,random_state=0)"
   ]
  },
  {
   "cell_type": "code",
   "execution_count": 46,
   "metadata": {},
   "outputs": [
    {
     "name": "stderr",
     "output_type": "stream",
     "text": [
      "/Users/suroor/Documents/anaconda3/lib/python3.7/site-packages/sklearn/model_selection/_validation.py:516: DataConversionWarning:\n",
      "\n",
      "A column-vector y was passed when a 1d array was expected. Please change the shape of y to (n_samples,), for example using ravel().\n",
      "\n",
      "/Users/suroor/Documents/anaconda3/lib/python3.7/site-packages/sklearn/model_selection/_validation.py:516: DataConversionWarning:\n",
      "\n",
      "A column-vector y was passed when a 1d array was expected. Please change the shape of y to (n_samples,), for example using ravel().\n",
      "\n",
      "/Users/suroor/Documents/anaconda3/lib/python3.7/site-packages/sklearn/model_selection/_validation.py:516: DataConversionWarning:\n",
      "\n",
      "A column-vector y was passed when a 1d array was expected. Please change the shape of y to (n_samples,), for example using ravel().\n",
      "\n",
      "/Users/suroor/Documents/anaconda3/lib/python3.7/site-packages/sklearn/model_selection/_validation.py:516: DataConversionWarning:\n",
      "\n",
      "A column-vector y was passed when a 1d array was expected. Please change the shape of y to (n_samples,), for example using ravel().\n",
      "\n",
      "/Users/suroor/Documents/anaconda3/lib/python3.7/site-packages/sklearn/model_selection/_validation.py:516: DataConversionWarning:\n",
      "\n",
      "A column-vector y was passed when a 1d array was expected. Please change the shape of y to (n_samples,), for example using ravel().\n",
      "\n"
     ]
    },
    {
     "data": {
      "text/plain": [
       "array([0.90303624, 0.91312867, 0.90329958, 0.90427965, 0.8990526 ])"
      ]
     },
     "execution_count": 46,
     "metadata": {},
     "output_type": "execute_result"
    }
   ],
   "source": [
    "clf = RandomForestClassifier(n_estimators = 10)\n",
    "score = cross_val_score(clf,X_test,y_test,cv=5,n_jobs=1,scoring='accuracy')\n",
    "score"
   ]
  },
  {
   "cell_type": "code",
   "execution_count": 47,
   "metadata": {},
   "outputs": [
    {
     "data": {
      "text/plain": [
       "90.46"
      ]
     },
     "execution_count": 47,
     "metadata": {},
     "output_type": "execute_result"
    }
   ],
   "source": [
    "round(np.mean(score)*100,2)"
   ]
  },
  {
   "cell_type": "code",
   "execution_count": 48,
   "metadata": {},
   "outputs": [
    {
     "name": "stdout",
     "output_type": "stream",
     "text": [
      "Parameters currently in use:\n",
      "\n",
      "{'bootstrap': True,\n",
      " 'class_weight': None,\n",
      " 'criterion': 'gini',\n",
      " 'max_depth': 100,\n",
      " 'max_features': 'auto',\n",
      " 'max_leaf_nodes': None,\n",
      " 'min_impurity_decrease': 0.0,\n",
      " 'min_impurity_split': None,\n",
      " 'min_samples_leaf': 3,\n",
      " 'min_samples_split': 8,\n",
      " 'min_weight_fraction_leaf': 0.0,\n",
      " 'n_estimators': 100,\n",
      " 'n_jobs': 1,\n",
      " 'oob_score': False,\n",
      " 'random_state': 42,\n",
      " 'verbose': 0,\n",
      " 'warm_start': False}\n"
     ]
    }
   ],
   "source": [
    "from pprint import pprint\n",
    "# Look at parameters used by our current forest\n",
    "print('Parameters currently in use:\\n')\n",
    "pprint(rf.get_params())"
   ]
  },
  {
   "cell_type": "code",
   "execution_count": 49,
   "metadata": {},
   "outputs": [
    {
     "name": "stdout",
     "output_type": "stream",
     "text": [
      "{'bootstrap': [True, False],\n",
      " 'max_depth': [10, 20, 30, 40, 50, 60, 70, 80, 90, 100, 110, None],\n",
      " 'max_features': ['auto', 'sqrt'],\n",
      " 'min_samples_leaf': [1, 2, 4],\n",
      " 'min_samples_split': [2, 5, 10],\n",
      " 'n_estimators': [20, 73, 126, 180, 233, 286, 340, 393, 446, 500]}\n"
     ]
    }
   ],
   "source": [
    "from sklearn.model_selection import RandomizedSearchCV\n",
    "# Number of trees in random forest\n",
    "n_estimators = [int(x) for x in np.linspace(start = 20, stop = 500, num = 10)]\n",
    "# Number of features to consider at every split\n",
    "max_features = ['auto', 'sqrt']\n",
    "# Maximum number of levels in tree\n",
    "max_depth = [int(x) for x in np.linspace(10, 110, num = 11)]\n",
    "max_depth.append(None)\n",
    "# Minimum number of samples required to split a node\n",
    "min_samples_split = [2, 5, 10]\n",
    "# Minimum number of samples required at each leaf node\n",
    "min_samples_leaf = [1, 2, 4]\n",
    "# Method of selecting samples for training each tree\n",
    "bootstrap = [True, False]\n",
    "# Create the random grid\n",
    "random_grid = {'n_estimators': n_estimators,\n",
    "               'max_features': max_features,\n",
    "               'max_depth': max_depth,\n",
    "               'min_samples_split': min_samples_split,\n",
    "               'min_samples_leaf': min_samples_leaf,\n",
    "               'bootstrap': bootstrap}\n",
    "pprint(random_grid)\n"
   ]
  },
  {
   "cell_type": "code",
   "execution_count": 50,
   "metadata": {},
   "outputs": [],
   "source": [
    "from sklearn.model_selection import GridSearchCV \n",
    "from sklearn.ensemble import RandomForestClassifier\n",
    "# Create the parameter grid based on the results of random search \n",
    "param_grid = {\n",
    "    'bootstrap': [True],\n",
    "    'max_depth': [80, 90, 100, 110],\n",
    "    'max_features': [2, 3],\n",
    "    'min_samples_leaf': [3, 4, 5],\n",
    "    'min_samples_split': [8, 10, 12],\n",
    "    'n_estimators': [100, 150, 180, 200]\n",
    "}\n",
    "# Create a based model\n",
    "rf1 = RandomForestClassifier()\n",
    "# Instantiate the grid search model\n",
    "grid_search = GridSearchCV(estimator = rf1, param_grid = param_grid, \n",
    "                          cv = 3, n_jobs = -1, verbose = 2)"
   ]
  },
  {
   "cell_type": "code",
   "execution_count": 51,
   "metadata": {},
   "outputs": [
    {
     "name": "stdout",
     "output_type": "stream",
     "text": [
      "Fitting 3 folds for each of 288 candidates, totalling 864 fits\n"
     ]
    },
    {
     "name": "stderr",
     "output_type": "stream",
     "text": [
      "[Parallel(n_jobs=-1)]: Using backend LokyBackend with 4 concurrent workers.\n",
      "[Parallel(n_jobs=-1)]: Done  33 tasks      | elapsed:  3.0min\n",
      "[Parallel(n_jobs=-1)]: Done 154 tasks      | elapsed: 13.3min\n",
      "[Parallel(n_jobs=-1)]: Done 357 tasks      | elapsed: 38.2min\n",
      "[Parallel(n_jobs=-1)]: Done 640 tasks      | elapsed: 64.9min\n",
      "[Parallel(n_jobs=-1)]: Done 864 out of 864 | elapsed: 76.3min finished\n",
      "/Users/suroor/Documents/anaconda3/lib/python3.7/site-packages/sklearn/model_selection/_search.py:715: DataConversionWarning:\n",
      "\n",
      "A column-vector y was passed when a 1d array was expected. Please change the shape of y to (n_samples,), for example using ravel().\n",
      "\n"
     ]
    },
    {
     "data": {
      "text/plain": [
       "GridSearchCV(cv=3, error_score='raise-deprecating',\n",
       "             estimator=RandomForestClassifier(bootstrap=True, class_weight=None,\n",
       "                                              criterion='gini', max_depth=None,\n",
       "                                              max_features='auto',\n",
       "                                              max_leaf_nodes=None,\n",
       "                                              min_impurity_decrease=0.0,\n",
       "                                              min_impurity_split=None,\n",
       "                                              min_samples_leaf=1,\n",
       "                                              min_samples_split=2,\n",
       "                                              min_weight_fraction_leaf=0.0,\n",
       "                                              n_estimators='warn', n_jobs=None,\n",
       "                                              oob_score=False,\n",
       "                                              random_state=None, verbose=0,\n",
       "                                              warm_start=False),\n",
       "             iid='warn', n_jobs=-1,\n",
       "             param_grid={'bootstrap': [True], 'max_depth': [80, 90, 100, 110],\n",
       "                         'max_features': [2, 3], 'min_samples_leaf': [3, 4, 5],\n",
       "                         'min_samples_split': [8, 10, 12],\n",
       "                         'n_estimators': [100, 150, 180, 200]},\n",
       "             pre_dispatch='2*n_jobs', refit=True, return_train_score=False,\n",
       "             scoring=None, verbose=2)"
      ]
     },
     "execution_count": 51,
     "metadata": {},
     "output_type": "execute_result"
    }
   ],
   "source": [
    "grid_search.fit(X_train, y_train)\n",
    "#grid_search.best_params_\n",
    "\n",
    "#======Output will be below=======\n",
    "#{'bootstrap': True,\n",
    "# 'max_depth': 100,\n",
    "# 'max_features': 3,\n",
    "# 'min_samples_leaf': 3,\n",
    "# 'min_samples_split': 8,\n",
    "# 'n_estimators': 100}"
   ]
  },
  {
   "cell_type": "code",
   "execution_count": 52,
   "metadata": {},
   "outputs": [
    {
     "name": "stdout",
     "output_type": "stream",
     "text": [
      "RandomForestClassifier(bootstrap=True, class_weight=None, criterion='gini',\n",
      "                       max_depth=80, max_features=2, max_leaf_nodes=None,\n",
      "                       min_impurity_decrease=0.0, min_impurity_split=None,\n",
      "                       min_samples_leaf=3, min_samples_split=8,\n",
      "                       min_weight_fraction_leaf=0.0, n_estimators=100,\n",
      "                       n_jobs=None, oob_score=False, random_state=None,\n",
      "                       verbose=0, warm_start=False)\n",
      "0.9174287954010975\n",
      "Improvement of 0.00%.\n"
     ]
    }
   ],
   "source": [
    "best_grid = grid_search.best_estimator_\n",
    "print(best_grid)\n",
    "grid_accuracy = accuracy_score(y_test, y_predict)\n",
    "print(grid_accuracy)\n",
    "print('Improvement of {:0.2f}%.'.format( 100 * (grid_accuracy - accuracy) / accuracy))\n",
    " "
   ]
  },
  {
   "cell_type": "code",
   "execution_count": 53,
   "metadata": {},
   "outputs": [
    {
     "name": "stdout",
     "output_type": "stream",
     "text": [
      "0 = 1.3398790081967916e-07\n",
      "1 = 6.893084019353078e-05\n",
      "2 = 0.0001487694475800302\n",
      "3 = 9.634740979835778e-05\n",
      "4 = 0.00019324463666677848\n",
      "5 = 0.0004250467207399577\n",
      "6 = 0.0009392832601874253\n",
      "7 = 0.0009177766642973682\n",
      "8 = 0.0010620884283057193\n",
      "9 = 0.0016014470333708618\n",
      "10 = 0.0015288948553700565\n",
      "11 = 0.0021192978056588196\n",
      "12 = 0.0031719342243930154\n",
      "13 = 0.003332249219033785\n",
      "14 = 0.00574073258849937\n",
      "15 = 0.0038884694464225004\n",
      "16 = 0.003935693552622251\n",
      "17 = 0.005161932089514642\n",
      "18 = 0.004639559975420156\n",
      "19 = 0.003940290908317004\n",
      "20 = 0.0032758483468537853\n",
      "21 = 0.0031636284486753962\n",
      "22 = 0.003954745342862121\n",
      "23 = 0.002413492121747614\n",
      "24 = 0.002425579300784288\n",
      "25 = 0.002472920020494686\n",
      "26 = 0.002763311351906883\n",
      "27 = 0.002334439679718677\n",
      "28 = 0.0030886161197129407\n",
      "29 = 0.0019369528806929158\n",
      "30 = 0.0012436998494728888\n",
      "31 = 0.001782738858590417\n",
      "32 = 0.0010104440312037964\n",
      "33 = 0.0015246088709144681\n",
      "34 = 0.0009700518699767963\n",
      "35 = 0.0013225974466067267\n",
      "36 = 0.0009978041917948668\n",
      "37 = 0.0011177890424909013\n",
      "38 = 0.0010412754404314894\n",
      "39 = 0.0010312193439260652\n",
      "40 = 0.0014505193112332687\n",
      "41 = 0.001183336943627328\n",
      "42 = 0.0007748987860907529\n",
      "43 = 0.000716991840032521\n",
      "44 = 0.00022437968273578552\n",
      "45 = 0.0001036049635053886\n",
      "46 = 0.00018479787639605948\n",
      "47 = 0.0002555713620113727\n",
      "48 = 8.860961439450498e-05\n",
      "49 = 0.00013285782412889081\n",
      "50 = 6.454467185294296e-05\n",
      "51 = 7.098216210799144e-05\n",
      "52 = 5.767967224503245e-05\n",
      "53 = 0.00013115808708130748\n",
      "54 = 0.000268599057047264\n",
      "55 = 6.4452147496954e-05\n",
      "56 = 7.491203734428255e-05\n",
      "57 = 0.0001112860548648229\n",
      "58 = 9.715894474006136e-05\n",
      "59 = 7.951127540128411e-05\n",
      "60 = 4.4735805803461606e-05\n",
      "61 = 0.00012420020250758287\n",
      "62 = 1.0096151590713768e-05\n",
      "63 = 8.042678710141844e-05\n",
      "64 = 3.350808621289089e-05\n",
      "65 = 2.3355337129495276e-05\n",
      "66 = 2.8341689416972314e-05\n",
      "67 = 5.056367053132321e-06\n",
      "68 = 9.835202449857675e-05\n",
      "69 = 8.341017404019339e-06\n",
      "70 = 0.0\n",
      "71 = 7.90383346589694e-05\n",
      "72 = 5.219164928339304e-06\n",
      "73 = 0.0\n",
      "74 = 2.24720867188657e-06\n",
      "75 = 0.0\n",
      "76 = 0.0\n",
      "77 = 5.893767005577732e-09\n",
      "78 = 0.01210457057650701\n",
      "79 = 0.016500006662976213\n",
      "80 = 0.002622453874330678\n",
      "81 = 0.0012556838227401218\n",
      "82 = 0.00557259746407408\n",
      "83 = 0.007859001425124608\n",
      "84 = 0.00223365593974062\n",
      "85 = 0.0076041510096274975\n",
      "86 = 0.004844053663927394\n",
      "87 = 0.00727215915633807\n",
      "88 = 0.00113083569725226\n",
      "89 = 0.0005497203510526803\n",
      "90 = 0.009582750732354182\n",
      "91 = 0.012959540332867241\n",
      "92 = 0.010920514252908069\n",
      "93 = 0.00022182022178522532\n",
      "94 = 0.005810165728477885\n",
      "95 = 0.003835913077026379\n",
      "96 = 0.011483765855361117\n",
      "97 = 0.009715737992906853\n",
      "98 = 5.861140948184754e-05\n",
      "99 = 0.00952310382800919\n",
      "100 = 0.018079940174895386\n",
      "101 = 0.0027394920133026173\n",
      "102 = 0.019130853044655182\n",
      "103 = 0.019705471085591245\n",
      "104 = 0.0\n",
      "105 = 0.008914204417215577\n",
      "106 = 0.000860092734218585\n",
      "107 = 0.010540977409818141\n",
      "108 = 0.00957548988148139\n",
      "109 = 0.0006902840659488871\n",
      "110 = 0.010915282192591722\n",
      "111 = 0.02559649943429264\n",
      "112 = 0.013311925792520518\n",
      "113 = 0.0023023326539665686\n",
      "114 = 0.0021492586274822244\n",
      "115 = 0.0006578670151990775\n",
      "116 = 0.0025960523683577473\n",
      "117 = 0.001575031432371139\n",
      "118 = 0.0030102397831030464\n",
      "119 = 0.012554643354247039\n",
      "120 = 0.0025015842385291056\n",
      "121 = 0.0026635861820929357\n",
      "122 = 0.002581974430144926\n",
      "123 = 0.00576854932041401\n",
      "124 = 0.0070815307830070385\n",
      "125 = 0.00590945784624691\n",
      "126 = 0.004698449151007502\n",
      "127 = 0.007243504364611468\n",
      "128 = 0.0\n",
      "129 = 0.0\n",
      "130 = 0.0\n",
      "131 = 0.0\n",
      "132 = 0.0\n",
      "133 = 0.0\n",
      "134 = 1.6420390090265735e-05\n",
      "135 = 8.017440398360152e-06\n",
      "136 = 7.821012155368861e-06\n",
      "137 = 1.253933227639062e-05\n",
      "138 = 1.4807614342238193e-06\n",
      "139 = 2.0328502365431658e-06\n",
      "140 = 5.5726320644110414e-06\n",
      "141 = 3.8258186105784134e-07\n",
      "142 = 4.2015827212732377e-07\n",
      "143 = 1.1848912446473994e-06\n",
      "144 = 1.731901536350346e-07\n",
      "145 = 6.571523975372383e-07\n",
      "146 = 9.698761062786555e-06\n",
      "147 = 0.0\n",
      "148 = 1.190265118985495e-07\n",
      "149 = 4.477884614005566e-07\n",
      "150 = 4.421915472820691e-06\n",
      "151 = 6.40432750220109e-06\n",
      "152 = 5.719895571285038e-07\n",
      "153 = 4.682159993375889e-06\n",
      "154 = 2.4463499576276106e-07\n",
      "155 = 1.5441869256452686e-07\n",
      "156 = 4.115771346375813e-08\n",
      "157 = 0.0\n",
      "158 = 0.0\n",
      "159 = 4.985790577755428e-08\n",
      "160 = 7.444044602580781e-07\n",
      "161 = 0.0\n",
      "162 = 2.8616655592264575e-07\n",
      "163 = 2.483334665075903e-07\n",
      "164 = 1.0869686393371483e-06\n",
      "165 = 1.0764563594969954e-05\n",
      "166 = 0.0\n",
      "167 = 0.0\n",
      "168 = 5.6088953774632765e-06\n",
      "169 = 8.328680955459379e-06\n",
      "170 = 1.3400268171049104e-06\n",
      "171 = 7.640113458386808e-06\n",
      "172 = 9.513008815125893e-06\n",
      "173 = 8.149620903758307e-07\n",
      "174 = 0.0\n",
      "175 = 0.0\n",
      "176 = 1.5641245521809597e-05\n",
      "177 = 1.4969342942301083e-06\n",
      "178 = 1.1438856638078831e-05\n",
      "179 = 8.772139100193537e-06\n",
      "180 = 1.1018151233022395e-06\n",
      "181 = 4.443479221640832e-07\n",
      "182 = 7.27789157611386e-06\n",
      "183 = 1.7641024663911536e-07\n",
      "184 = 1.0910956014356855e-05\n",
      "185 = 7.715338154670316e-07\n",
      "186 = 2.931981426831666e-05\n",
      "187 = 8.657040736998557e-07\n",
      "188 = 3.685108800339099e-06\n",
      "189 = 4.554453158640945e-06\n",
      "190 = 1.2035908668409567e-06\n",
      "191 = 3.318521940324014e-05\n",
      "192 = 3.712596400407971e-05\n",
      "193 = 1.1906322208725347e-05\n",
      "194 = 2.65306209229159e-06\n",
      "195 = 3.3054379158202283e-06\n",
      "196 = 1.476602185916762e-05\n",
      "197 = 1.1379355066558158e-05\n",
      "198 = 1.3124584486409011e-05\n",
      "199 = 1.4052516030218918e-06\n",
      "200 = 8.771550816463341e-06\n",
      "201 = 2.9223382972596132e-05\n",
      "202 = 5.5449884455283315e-06\n",
      "203 = 1.1483390008792688e-05\n",
      "204 = 0.00010485464492207788\n",
      "205 = 4.601659881825097e-05\n",
      "206 = 5.429740880293481e-05\n",
      "207 = 2.1417141904415104e-05\n",
      "208 = 1.233724444126826e-05\n",
      "209 = 1.0664382426437582e-05\n",
      "210 = 4.2192436667531234e-05\n",
      "211 = 1.1345201936957106e-05\n",
      "212 = 7.928171571076966e-05\n",
      "213 = 1.672638215681233e-05\n",
      "214 = 1.4153542011503808e-05\n",
      "215 = 2.244495069682221e-05\n",
      "216 = 3.6297313957276906e-05\n",
      "217 = 4.380731213289619e-05\n",
      "218 = 2.3202413755947095e-05\n",
      "219 = 7.9798716370739e-05\n",
      "220 = 3.716142447000158e-05\n",
      "221 = 8.969167809115584e-06\n",
      "222 = 5.0837951382616284e-05\n",
      "223 = 5.996556852454803e-05\n",
      "224 = 0.00011907144173358057\n",
      "225 = 2.387960721965503e-05\n",
      "226 = 7.624064515965332e-05\n",
      "227 = 3.853745109663202e-05\n",
      "228 = 1.0240854654701926e-05\n",
      "229 = 2.7868553406794807e-05\n",
      "230 = 6.259804227932514e-05\n",
      "231 = 4.779311566588599e-05\n",
      "232 = 1.668180463669337e-05\n",
      "233 = 8.623376300333726e-06\n",
      "234 = 3.184895001399953e-05\n",
      "235 = 3.868381349923375e-05\n",
      "236 = 7.638694413239158e-05\n",
      "237 = 4.4397196750094355e-05\n",
      "238 = 6.438209357574006e-05\n",
      "239 = 5.0081530366506007e-05\n",
      "240 = 1.036745835918555e-05\n",
      "241 = 8.993615536901322e-05\n",
      "242 = 2.683515429800551e-05\n",
      "243 = 2.6787002653919212e-05\n",
      "244 = 6.541132859115247e-05\n",
      "245 = 7.369368863612917e-06\n",
      "246 = 9.392390729062518e-06\n",
      "247 = 4.897932324144045e-05\n",
      "248 = 2.4948043758888605e-05\n",
      "249 = 4.974685269522361e-05\n",
      "250 = 2.4547842130784375e-05\n",
      "251 = 9.559349414829376e-06\n",
      "252 = 4.066354599190939e-05\n",
      "253 = 3.1616490731362864e-05\n",
      "254 = 4.575495878710806e-05\n",
      "255 = 2.1801491545667298e-05\n",
      "256 = 1.8761550728244474e-05\n",
      "257 = 8.627881597143215e-05\n",
      "258 = 1.7532178279447975e-05\n",
      "259 = 5.5810285202366236e-05\n",
      "260 = 3.6774936354506095e-07\n",
      "261 = 6.892256137268886e-05\n",
      "262 = 2.9849713739161542e-05\n",
      "263 = 4.971658427112773e-05\n",
      "264 = 4.8639531894620545e-05\n",
      "265 = 3.5190487943489745e-05\n",
      "266 = 2.1581117248902653e-05\n",
      "267 = 9.680815670745028e-05\n",
      "268 = 3.553267513354007e-05\n",
      "269 = 1.501912643709855e-05\n",
      "270 = 1.5351755531941727e-05\n",
      "271 = 1.9931470089646113e-05\n",
      "272 = 5.349446112542565e-05\n",
      "273 = 3.7621858214300215e-05\n",
      "274 = 2.4903615173796203e-05\n",
      "275 = 2.9352043473157884e-05\n",
      "276 = 3.451715036073743e-05\n",
      "277 = 1.670473340639744e-05\n",
      "278 = 6.113683947466432e-05\n",
      "279 = 8.555357721627341e-06\n",
      "280 = 1.0014708813119067e-05\n",
      "281 = 8.39414292357207e-06\n",
      "282 = 2.5856227339976045e-05\n",
      "283 = 2.7193733226222443e-05\n",
      "284 = 8.243397015140724e-05\n",
      "285 = 8.745743409004372e-05\n",
      "286 = 0.00012566179960513336\n",
      "287 = 1.6626828614665136e-05\n",
      "288 = 3.2556197452985994e-05\n",
      "289 = 5.472161331228624e-05\n",
      "290 = 3.586084420265943e-05\n",
      "291 = 4.6651913910584097e-05\n",
      "292 = 5.1454842552113486e-05\n",
      "293 = 3.940208473145674e-05\n",
      "294 = 9.938514816497411e-06\n",
      "295 = 0.00010428975265301182\n",
      "296 = 3.599316486316385e-05\n",
      "297 = 4.34283626050096e-05\n",
      "298 = 3.0482506895967553e-05\n",
      "299 = 6.678465045920291e-05\n",
      "300 = 2.2784957457555992e-05\n",
      "301 = 1.6089843645012307e-05\n",
      "302 = 4.104715061321505e-05\n",
      "303 = 2.8194223717725817e-05\n",
      "304 = 3.426943728287122e-05\n",
      "305 = 3.689933028674366e-05\n",
      "306 = 2.162547736580789e-05\n",
      "307 = 6.772817998954158e-05\n",
      "308 = 3.0192723653093013e-05\n",
      "309 = 8.616941503392574e-06\n",
      "310 = 0.00031162526843913247\n",
      "311 = 1.1568171512012224e-05\n",
      "312 = 2.7493970836515508e-05\n",
      "313 = 1.7687435076832067e-05\n",
      "314 = 1.1198456836096149e-05\n",
      "315 = 2.443082263659231e-05\n",
      "316 = 1.5107762333973574e-05\n",
      "317 = 4.1039600849514014e-05\n",
      "318 = 3.4368104588993906e-05\n",
      "319 = 4.419446687673451e-06\n",
      "320 = 2.4291998267378196e-05\n",
      "321 = 0.00011226930963426715\n",
      "322 = 4.015754018247156e-05\n",
      "323 = 6.492877179000053e-05\n",
      "324 = 8.879762579801288e-06\n",
      "325 = 3.07779898624011e-05\n",
      "326 = 2.762515134095334e-05\n",
      "327 = 4.241913481960149e-05\n",
      "328 = 9.995674436322238e-05\n",
      "329 = 0.00010264041610340062\n",
      "330 = 1.8138145792386693e-05\n",
      "331 = 1.8251973778855784e-05\n",
      "332 = 6.729594118463794e-05\n",
      "333 = 3.3788288339604555e-05\n",
      "334 = 7.511163715613114e-05\n",
      "335 = 2.9770737765063062e-05\n",
      "336 = 1.2222024970620567e-05\n",
      "337 = 5.287746058223642e-05\n",
      "338 = 1.976559909428448e-05\n",
      "339 = 5.6299092621313076e-05\n",
      "340 = 6.153569965598798e-05\n",
      "341 = 2.880494520884904e-05\n",
      "342 = 2.1721883823606062e-05\n",
      "343 = 5.791553179997948e-05\n",
      "344 = 3.169264234352704e-05\n",
      "345 = 2.42829828706125e-05\n",
      "346 = 1.1844601401413325e-05\n",
      "347 = 3.623693586585398e-05\n",
      "348 = 2.2850902310807987e-05\n",
      "349 = 1.3319550045310303e-05\n",
      "350 = 5.361916580777224e-06\n",
      "351 = 5.642448065003141e-05\n",
      "352 = 3.696152946176871e-05\n",
      "353 = 3.5454473791994844e-05\n",
      "354 = 0.000199899710841481\n",
      "355 = 3.6146304690405924e-05\n",
      "356 = 6.542579664583114e-05\n",
      "357 = 7.413134186540653e-05\n",
      "358 = 3.055925745879361e-05\n",
      "359 = 1.8771236618117942e-05\n",
      "360 = 2.5448946201334065e-05\n",
      "361 = 1.711443540818306e-05\n",
      "362 = 8.211672123789857e-05\n",
      "363 = 6.226998384560626e-05\n",
      "364 = 2.766049403087382e-05\n",
      "365 = 3.43631153511856e-05\n",
      "366 = 4.6669467324965356e-05\n",
      "367 = 3.320851317348769e-05\n",
      "368 = 4.8326720739869734e-05\n",
      "369 = 2.4462006366961206e-05\n",
      "370 = 8.405279396317109e-06\n",
      "371 = 4.8356940250412396e-05\n",
      "372 = 1.260753520855383e-05\n",
      "373 = 8.537916305269268e-05\n",
      "374 = 1.1670632409291086e-06\n",
      "375 = 3.3949016408823376e-06\n",
      "376 = 3.497077602501421e-05\n",
      "377 = 1.4313695702464213e-05\n",
      "378 = 5.112094999235763e-05\n",
      "379 = 9.173334004658248e-05\n",
      "380 = 2.8712905252459614e-05\n",
      "381 = 4.5835363708828264e-05\n",
      "382 = 3.969227829218743e-05\n",
      "383 = 9.69794441453029e-05\n",
      "384 = 1.507841663176586e-05\n",
      "385 = 2.6590664135334812e-05\n",
      "386 = 2.6010609416899943e-05\n",
      "387 = 2.1036584192838225e-05\n",
      "388 = 1.723399169800403e-05\n",
      "389 = 1.7014757800350994e-05\n",
      "390 = 2.4073402304315453e-05\n",
      "391 = 1.4235700654491403e-05\n",
      "392 = 2.3374960277773274e-05\n",
      "393 = 2.0438630676846745e-05\n",
      "394 = 3.9205024480283186e-05\n",
      "395 = 4.253069149597552e-05\n",
      "396 = 4.613669916850859e-05\n",
      "397 = 3.042124914130096e-05\n",
      "398 = 1.3985047446434444e-05\n",
      "399 = 0.00019105096120832938\n",
      "400 = 1.4777424350594383e-05\n",
      "401 = 1.1186454060211799e-05\n",
      "402 = 1.146312446415954e-05\n",
      "403 = 1.1010873559485776e-05\n",
      "404 = 0.00010155621300632376\n",
      "405 = 1.4109573608112121e-05\n",
      "406 = 1.963171217139005e-05\n",
      "407 = 1.5745865498371803e-05\n",
      "408 = 8.696139909322714e-07\n",
      "409 = 1.0457229968672331e-05\n",
      "410 = 1.975780664081073e-05\n",
      "411 = 9.750996043432967e-06\n",
      "412 = 2.6141584642172937e-05\n",
      "413 = 0.0001443099351664207\n",
      "414 = 2.0524485803400324e-05\n",
      "415 = 1.9332871985515245e-05\n",
      "416 = 3.7015624031575495e-05\n",
      "417 = 1.4728245669940857e-05\n",
      "418 = 1.8247973534756834e-05\n",
      "419 = 3.1058186162067003e-06\n",
      "420 = 1.5354875484285656e-05\n",
      "421 = 0.00011284490269624548\n",
      "422 = 4.782647226245259e-05\n",
      "423 = 1.2274751262162966e-05\n",
      "424 = 1.502543006607449e-05\n",
      "425 = 3.716655907117671e-06\n",
      "426 = 1.5217757416679867e-05\n",
      "427 = 6.8582576840073254e-06\n",
      "428 = 2.9388926186041903e-05\n",
      "429 = 9.772503567087941e-05\n",
      "430 = 3.1704025666630396e-06\n",
      "431 = 6.40093757115737e-05\n",
      "432 = 3.490684034553947e-06\n",
      "433 = 3.6182286054625144e-05\n",
      "434 = 2.2690144738287966e-05\n",
      "435 = 2.617967012087869e-05\n",
      "436 = 4.4048797164900966e-05\n",
      "437 = 3.308613604370222e-05\n",
      "438 = 1.6635273901444612e-05\n",
      "439 = 3.485961178038115e-05\n",
      "440 = 1.4133580995429657e-05\n",
      "441 = 2.3972813015464413e-05\n",
      "442 = 0.00011141140417027604\n",
      "443 = 2.4528219764431736e-05\n",
      "444 = 5.2870444108846446e-05\n",
      "445 = 3.221652515833513e-05\n",
      "446 = 1.206481136042079e-05\n",
      "447 = 4.753806124593716e-05\n",
      "448 = 5.7273799433788086e-06\n",
      "449 = 1.6727072679277328e-05\n",
      "450 = 0.0\n",
      "451 = 1.2975537914734892e-05\n",
      "452 = 5.858234601666045e-05\n",
      "453 = 5.13186692101658e-05\n",
      "454 = 3.949367981630092e-05\n",
      "455 = 3.8418058048454604e-05\n",
      "456 = 3.5936206899490626e-05\n",
      "457 = 4.9941451664724546e-06\n",
      "458 = 1.4373321679000122e-05\n",
      "459 = 0.00021735689143794889\n",
      "460 = 1.533762022457654e-05\n",
      "461 = 4.239500372813308e-05\n",
      "462 = 4.680656467503117e-06\n",
      "463 = 9.221098370998732e-06\n",
      "464 = 4.16457548285235e-06\n",
      "465 = 8.704920677951607e-06\n",
      "466 = 2.7332680391768722e-05\n",
      "467 = 1.7403943297039009e-06\n",
      "468 = 4.14237877844165e-05\n",
      "469 = 2.1633601805841837e-06\n",
      "470 = 3.4406508222716944e-05\n",
      "471 = 2.3814104203685575e-06\n",
      "472 = 2.042636980527081e-05\n",
      "473 = 0.00010334520934154495\n",
      "474 = 8.451767622881545e-06\n",
      "475 = 2.9535418929943837e-05\n",
      "476 = 1.974584672615085e-06\n",
      "477 = 5.4429750045046894e-05\n",
      "478 = 3.205143363290983e-05\n",
      "479 = 2.9319618806624766e-06\n",
      "480 = 2.4174990495951474e-06\n",
      "481 = 0.00015188243870622398\n",
      "482 = 2.4343679550749982e-05\n",
      "483 = 4.2935242533942163e-05\n",
      "484 = 5.7925820923783993e-05\n",
      "485 = 6.720251507731824e-07\n",
      "486 = 1.838403407936023e-05\n",
      "487 = 8.488783767412856e-05\n",
      "488 = 2.172540408358384e-06\n",
      "489 = 6.63965191635811e-06\n",
      "490 = 3.6025596249507825e-07\n",
      "491 = 5.57984401764625e-05\n",
      "492 = 2.4555996495158103e-05\n",
      "493 = 8.376339578196756e-05\n",
      "494 = 0.00011292326474888311\n",
      "495 = 2.24521543930398e-05\n",
      "496 = 1.8450193381282505e-05\n",
      "497 = 6.0367554864526944e-05\n",
      "498 = 0.00011775746595010205\n",
      "499 = 8.172504081718726e-06\n",
      "500 = 9.016710851100993e-05\n",
      "501 = 7.274984283570323e-06\n",
      "502 = 9.339219920945206e-05\n",
      "503 = 4.017275838462506e-05\n",
      "504 = 4.313034811183931e-06\n",
      "505 = 9.049617629328922e-06\n",
      "506 = 1.3611701156413976e-05\n",
      "507 = 0.0\n",
      "508 = 1.0273620819745983e-05\n",
      "509 = 3.9237770660451433e-05\n",
      "510 = 4.4314881696899454e-05\n",
      "511 = 3.074720764730463e-05\n",
      "512 = 0.0003938394882918457\n",
      "513 = 1.4323098908304744e-06\n",
      "514 = 1.3187278515028361e-05\n",
      "515 = 4.1390113563661034e-05\n",
      "516 = 2.8377007363571426e-06\n",
      "517 = 5.7242160395108655e-06\n",
      "518 = 0.00023770892202592747\n",
      "519 = 2.32754384189061e-05\n",
      "520 = 8.46478776514986e-06\n",
      "521 = 4.860894265209626e-06\n",
      "522 = 0.0002473456599170463\n",
      "523 = 0.0005727482425871185\n",
      "524 = 9.029203154989041e-05\n",
      "525 = 2.6161369145128398e-05\n",
      "526 = 2.8640440521546995e-05\n",
      "527 = 0.00011085858107811534\n",
      "528 = 9.1765767134699e-05\n",
      "529 = 5.374297352810994e-05\n",
      "530 = 0.0\n",
      "531 = 4.704995572441842e-06\n",
      "532 = 5.576224631018913e-05\n",
      "533 = 7.39661021043971e-06\n",
      "534 = 8.775737480144499e-05\n",
      "535 = 2.7417465337075566e-05\n",
      "536 = 8.9137708276354e-06\n",
      "537 = 0.00010396996763721759\n",
      "538 = 4.959739538116417e-05\n",
      "539 = 5.468845344913421e-06\n",
      "540 = 0.0001954029906572158\n",
      "541 = 0.0\n",
      "542 = 4.5590321630235664e-05\n",
      "543 = 2.6850593997738243e-05\n",
      "544 = 8.577119991759051e-05\n",
      "545 = 5.3615351759414064e-06\n",
      "546 = 3.8316958770442586e-05\n",
      "547 = 3.815943958540233e-05\n",
      "548 = 9.932545607808073e-07\n",
      "549 = 1.94846036630001e-05\n",
      "550 = 3.099572294345682e-05\n",
      "551 = 2.3175724378455578e-06\n",
      "552 = 2.6008465511776014e-05\n",
      "553 = 9.657726175291523e-07\n",
      "554 = 0.00030333915631262725\n",
      "555 = 6.11823585955384e-05\n",
      "556 = 0.0\n",
      "557 = 7.257345050265331e-05\n",
      "558 = 0.00015812290255876822\n",
      "559 = 0.00020502659105056456\n",
      "560 = 6.521816586898869e-06\n",
      "561 = 1.0863679207894923e-06\n",
      "562 = 1.0081010386446268e-05\n",
      "563 = 4.8109335031847544e-05\n",
      "564 = 2.081026366696298e-06\n",
      "565 = 3.9319751696129096e-05\n",
      "566 = 2.9103774526930763e-06\n",
      "567 = 8.554222022286043e-05\n",
      "568 = 4.235516359021309e-05\n",
      "569 = 1.643025424107668e-05\n",
      "570 = 0.00019415266101141887\n",
      "571 = 1.2672662466311502e-06\n",
      "572 = 0.0002265650689700231\n",
      "573 = 8.484769957912438e-05\n",
      "574 = 0.0\n",
      "575 = 2.439345696027939e-06\n",
      "576 = 0.0\n",
      "577 = 0.000127514165460768\n",
      "578 = 0.0\n",
      "579 = 1.9501880575730726e-05\n",
      "580 = 0.00020758673674614827\n",
      "581 = 1.1358684937706186e-05\n",
      "582 = 0.00012378952523552092\n",
      "583 = 6.722403453633088e-07\n",
      "584 = 5.9474694761600586e-05\n",
      "585 = 1.244745649105748e-07\n",
      "586 = 0.0004702488463796059\n",
      "587 = 4.3508850301836216e-05\n",
      "588 = 0.00011195687125970536\n",
      "589 = 0.0004834142018807646\n",
      "590 = 8.008607413083203e-05\n",
      "591 = 6.892564988945974e-06\n",
      "592 = 1.183545754192094e-05\n",
      "593 = 6.298780056499467e-05\n",
      "594 = 5.07850410198105e-05\n",
      "595 = 0.0004214103443100668\n",
      "596 = 0.0\n",
      "597 = 0.0\n",
      "598 = 0.00010651174672192875\n",
      "599 = 1.4303057548972144e-05\n",
      "600 = 0.0001736644042165417\n",
      "601 = 0.0001870478493505297\n",
      "602 = 2.5262905710457716e-05\n",
      "603 = 3.5514065999098742e-06\n",
      "604 = 0.00028842873805346516\n",
      "605 = 8.988089067239467e-06\n",
      "606 = 9.262813387202694e-08\n",
      "607 = 0.00032606883967599865\n",
      "608 = 1.0247768587488735e-05\n",
      "609 = 0.00019814537215979627\n",
      "610 = 0.00027317648593535497\n",
      "611 = 0.00010778090730864319\n",
      "612 = 2.4855452109488167e-06\n",
      "613 = 2.4105104619600035e-05\n",
      "614 = 0.0002595239853375555\n",
      "615 = 0.00010177867282177274\n",
      "616 = 4.463843938304759e-05\n",
      "617 = 0.0\n",
      "618 = 9.138331253729185e-05\n",
      "619 = 0.00019420071172111298\n",
      "620 = 2.6337227772049095e-07\n",
      "621 = 5.1313675819515464e-05\n",
      "622 = 5.878915330143888e-05\n",
      "623 = 5.273844444378176e-06\n",
      "624 = 2.9296235881109552e-05\n",
      "625 = 0.0\n",
      "626 = 0.00022596398409777243\n",
      "627 = 1.2611711299936959e-05\n",
      "628 = 9.396584437323992e-05\n",
      "629 = 5.911199197709177e-05\n",
      "630 = 6.731364031237923e-05\n",
      "631 = 4.036524981675522e-06\n",
      "632 = 0.0001889853881790523\n",
      "633 = 1.5420090494294432e-05\n",
      "634 = 0.00017323413303637337\n",
      "635 = 0.0004136672248922444\n",
      "636 = 9.062527147867672e-05\n",
      "637 = 5.136717088097749e-06\n",
      "638 = 1.2872651233527774e-05\n",
      "639 = 2.237225553962373e-05\n",
      "640 = 0.0003129067538245832\n",
      "641 = 0.0004207220053902281\n",
      "642 = 3.9531595769617286e-05\n",
      "643 = 0.000119969624839432\n",
      "644 = 5.468387868295766e-07\n",
      "645 = 0.0\n",
      "646 = 8.755747417991284e-05\n",
      "647 = 0.00024373797748558485\n",
      "648 = 1.3652110148550844e-05\n",
      "649 = 0.0002242298606353852\n",
      "650 = 5.222858742625671e-06\n",
      "651 = 0.00021721784245364638\n",
      "652 = 0.0\n",
      "653 = 9.284282123791517e-06\n",
      "654 = 0.0002169126604227484\n",
      "655 = 3.4869689013073764e-06\n",
      "656 = 0.0002941286317962606\n",
      "657 = 4.1143435387360126e-05\n",
      "658 = 0.00026295878489165795\n",
      "659 = 0.0004469466089911649\n",
      "660 = 0.00017597697039378694\n",
      "661 = 5.713067727318881e-05\n",
      "662 = 5.885629841707123e-05\n",
      "663 = 4.041881583579773e-05\n",
      "664 = 0.00046209952247755405\n",
      "665 = 3.859257595690265e-09\n",
      "666 = 6.197075758601094e-05\n",
      "667 = 0.00034749900298501\n",
      "668 = 7.491421496757542e-07\n",
      "669 = 9.644862184432706e-05\n",
      "670 = 5.693988075393636e-05\n",
      "671 = 0.0005653159629387763\n",
      "672 = 1.4509584887871786e-05\n",
      "673 = 6.363569356359379e-05\n",
      "674 = 3.9246571237836184e-05\n",
      "675 = 0.0\n",
      "676 = 6.820080724244317e-05\n",
      "677 = 0.00014524272670711716\n",
      "678 = 7.003757525908594e-05\n",
      "679 = 3.510111501245392e-05\n",
      "680 = 0.0004641592949468351\n",
      "681 = 0.000275765275761521\n",
      "682 = 0.00011667952958376613\n",
      "683 = 0.00028058302235921067\n",
      "684 = 0.0007159642226078225\n",
      "685 = 1.1193881468111123e-05\n",
      "686 = 0.00023043802782609133\n",
      "687 = 1.9509022902166497e-05\n",
      "688 = 0.0003854273195584654\n",
      "689 = 0.00013498095720974938\n",
      "690 = 0.00023248850133709934\n",
      "691 = 0.00032115992283068416\n",
      "692 = 0.0\n",
      "693 = 0.0004116182291880458\n",
      "694 = 0.00025719479785744\n",
      "695 = 0.00012517220242369678\n",
      "696 = 0.00017080887485488184\n",
      "697 = 2.375806228331142e-05\n",
      "698 = 0.0004594586756069238\n",
      "699 = 0.0\n",
      "700 = 0.00015852743122919222\n",
      "701 = 2.0338070821759465e-06\n",
      "702 = 0.00025868607674788766\n",
      "703 = 7.414395369464067e-06\n",
      "704 = 0.0005565207043616146\n",
      "705 = 9.120923641255722e-05\n",
      "706 = 2.5889167238261463e-05\n",
      "707 = 0.0005486699334624518\n",
      "708 = 9.22828457753629e-05\n",
      "709 = 0.0\n",
      "710 = 9.678138648753178e-05\n",
      "711 = 0.00040095146270312086\n",
      "712 = 4.00594854545635e-05\n",
      "713 = 0.0001453453545590025\n",
      "714 = 5.8729525728342336e-05\n",
      "715 = 0.00010922447363017121\n",
      "716 = 9.460011019518162e-05\n",
      "717 = 3.8074548323257616e-05\n",
      "718 = 0.00044869673315985276\n",
      "719 = 6.140541280065693e-06\n",
      "720 = 7.479796228255523e-06\n",
      "721 = 0.00013960932602021612\n",
      "722 = 5.9403129810613586e-05\n",
      "723 = 1.0214010617231653e-05\n",
      "724 = 4.263057590321477e-06\n",
      "725 = 0.0001104678052370235\n",
      "726 = 1.7014880545469994e-07\n",
      "727 = 0.0\n",
      "728 = 8.063550032651442e-05\n",
      "729 = 0.0\n",
      "730 = 0.0\n",
      "731 = 4.039067321218248e-06\n",
      "732 = 1.5363556316461744e-05\n",
      "733 = 9.137691378483898e-05\n",
      "734 = 0.00010932244244683123\n",
      "735 = 0.00046764770116626434\n",
      "736 = 3.8539975884226366e-05\n",
      "737 = 0.00028273967108489935\n",
      "738 = 0.00022741100332695967\n",
      "739 = 0.00037309601074561426\n",
      "740 = 6.97312047576759e-05\n",
      "741 = 0.0\n",
      "742 = 0.00015778347664792213\n",
      "743 = 9.233683319011711e-05\n",
      "744 = 0.00021750725022907463\n",
      "745 = 4.494901573981247e-05\n",
      "746 = 0.0004137268796935588\n",
      "747 = 0.0001729468859294004\n",
      "748 = 4.863968418086884e-07\n",
      "749 = 3.855699201895828e-05\n",
      "750 = 1.9738293770587232e-05\n",
      "751 = 0.0002820176554310824\n",
      "752 = 3.3030012215906497e-06\n",
      "753 = 0.00011198013362598287\n",
      "754 = 0.0\n",
      "755 = 0.0\n",
      "756 = 0.0001543913304815514\n",
      "757 = 0.00023101067169504087\n",
      "758 = 0.00016014029070105803\n",
      "759 = 7.388131872516068e-05\n",
      "760 = 9.149182792476886e-06\n",
      "761 = 0.00012507197310038535\n",
      "762 = 0.00039072423242358164\n",
      "763 = 0.0\n",
      "764 = 6.247514342470125e-05\n",
      "765 = 0.00014471293972940068\n",
      "766 = 0.0004974945483142164\n",
      "767 = 2.2717264487530164e-05\n"
     ]
    },
    {
     "name": "stdout",
     "output_type": "stream",
     "text": [
      "768 = 0.00011446343783312745\n",
      "769 = 0.00025315216288606377\n",
      "770 = 3.2938096758625283e-06\n",
      "771 = 0.0\n",
      "772 = 0.0\n",
      "773 = 0.00040454252001607813\n",
      "774 = 0.00016711110357920652\n",
      "775 = 6.208347169370615e-06\n",
      "776 = 0.00020219906490187228\n",
      "777 = 0.0003640584333175234\n",
      "778 = 0.00016173531790733824\n",
      "779 = 0.00040304625696944437\n",
      "780 = 8.286021028490027e-05\n",
      "781 = 0.00031621620209113194\n",
      "782 = 0.0001417490501037599\n",
      "783 = 0.0\n",
      "784 = 4.6706105206886326e-06\n",
      "785 = 0.00021354979340143531\n",
      "786 = 0.00032615098984817796\n",
      "787 = 0.00022889701369517237\n",
      "788 = 0.0\n",
      "789 = 4.4781250814125223e-05\n",
      "790 = 0.0002493880864688448\n",
      "791 = 0.0002420756315156353\n",
      "792 = 0.0005574071071024812\n",
      "793 = 2.6353282127531683e-07\n",
      "794 = 2.8220219842342384e-05\n",
      "795 = 0.00024280389707137618\n",
      "796 = 1.2339318194936654e-05\n",
      "797 = 0.00015978476290559845\n",
      "798 = 0.00017834170519253706\n",
      "799 = 3.389132165474744e-05\n",
      "800 = 0.00010420452524040848\n",
      "801 = 0.000181237149318775\n",
      "802 = 4.2318089697366326e-05\n",
      "803 = 0.0\n",
      "804 = 0.00013924421436005863\n",
      "805 = 0.0001942295923867399\n",
      "806 = 1.7073967379032756e-06\n",
      "807 = 0.0004362438438695178\n",
      "808 = 0.0\n",
      "809 = 0.0002928844552725331\n",
      "810 = 6.480330030276277e-07\n",
      "811 = 0.0002563233509661828\n",
      "812 = 0.0\n",
      "813 = 9.492716733276384e-05\n",
      "814 = 0.00028301438199099715\n",
      "815 = 0.0001269044108974046\n",
      "816 = 2.582783412728546e-05\n",
      "817 = 0.00016373915174230192\n",
      "818 = 2.207004579006702e-05\n",
      "819 = 0.00037874450590041133\n",
      "820 = 3.3498439466949075e-05\n",
      "821 = 0.0003073466208932703\n",
      "822 = 3.441505750325615e-05\n",
      "823 = 0.00040317717172118247\n",
      "824 = 5.965223341465276e-05\n",
      "825 = 0.00024713117685441825\n",
      "826 = 0.0\n",
      "827 = 0.00014601124355629518\n",
      "828 = 0.0003682005937511488\n",
      "829 = 0.0001145591121384989\n",
      "830 = 0.0\n",
      "831 = 2.5380323274482515e-05\n",
      "832 = 7.800640967442626e-05\n",
      "833 = 0.0001312592241336586\n",
      "834 = 6.563167167244867e-05\n",
      "835 = 9.879326077388574e-05\n",
      "836 = 0.0\n",
      "837 = 0.0002121430762331376\n",
      "838 = 0.00022655210783241908\n",
      "839 = 1.6578230046551042e-05\n",
      "840 = 1.3543116541186273e-05\n",
      "841 = 4.937550010650569e-06\n",
      "842 = 0.0\n",
      "843 = 1.9603766785300616e-06\n",
      "844 = 0.0007844939137410417\n",
      "845 = 2.819217808785082e-05\n",
      "846 = 0.00031439886734351696\n",
      "847 = 0.0001007348923259757\n",
      "848 = 0.0005583069044620921\n",
      "849 = 2.9314050549289578e-05\n",
      "850 = 0.00021911819934941103\n",
      "851 = 0.00016598927284073255\n",
      "852 = 0.00016543989214042601\n",
      "853 = 1.5483152659499638e-07\n",
      "854 = 1.3269213288989195e-05\n",
      "855 = 0.00023418104820333065\n",
      "856 = 0.0001528764903146439\n",
      "857 = 9.917957042741064e-05\n",
      "858 = 0.00015520668341370797\n",
      "859 = 0.0005053271796484525\n",
      "860 = 0.00035909000174204\n",
      "861 = 0.00025012793196466316\n",
      "862 = 4.7231128187640545e-05\n",
      "863 = 0.00011118230080382622\n",
      "864 = 4.122608897331106e-05\n",
      "865 = 2.7932985254505344e-05\n",
      "866 = 0.0\n",
      "867 = 0.0001650294690204261\n",
      "868 = 0.0005970053182029094\n",
      "869 = 0.00012118648178328163\n",
      "870 = 0.00023052551493404826\n",
      "871 = 1.3553097724964313e-05\n",
      "872 = 0.00021875328609135284\n",
      "873 = 9.64223569383619e-05\n",
      "874 = 0.00010917695584956265\n",
      "875 = 0.0002348329357410515\n",
      "876 = 0.0003691582406496273\n",
      "877 = 9.064513480870999e-06\n",
      "878 = 3.3403135684214906e-05\n",
      "879 = 0.00019796024969823974\n",
      "880 = 0.0\n",
      "881 = 5.926781861513825e-06\n",
      "882 = 1.0840960856070037e-05\n",
      "883 = 9.234525766634121e-05\n",
      "884 = 0.0001431641569817823\n",
      "885 = 0.00012086429894222095\n",
      "886 = 0.0002489616429697741\n",
      "887 = 4.11870317225941e-06\n",
      "888 = 1.998020960807815e-05\n",
      "889 = 0.0003554960493589542\n",
      "890 = 0.0004863758794862305\n",
      "891 = 0.0008426511338631139\n",
      "892 = 8.836832403021975e-05\n",
      "893 = 5.292776481580923e-05\n",
      "894 = 5.930872030557689e-05\n",
      "895 = 7.875545301690021e-05\n",
      "896 = 0.00023063477422034359\n",
      "897 = 0.0\n",
      "898 = 0.0\n",
      "899 = 1.7177962952187603e-06\n",
      "900 = 0.00017605393678337352\n",
      "901 = 0.00029680357425469105\n",
      "902 = 0.0\n",
      "903 = 6.976634002080917e-05\n",
      "904 = 2.3640172375991967e-05\n",
      "905 = 8.533877001028969e-05\n",
      "906 = 0.0\n",
      "907 = 2.600324614639632e-05\n",
      "908 = 3.5528252365857476e-05\n",
      "909 = 0.0003510778584638593\n",
      "910 = 0.0\n",
      "911 = 0.00025633007785569057\n",
      "912 = 0.00045700268585262266\n",
      "913 = 4.484511181890689e-05\n",
      "914 = 0.0\n",
      "915 = 0.00013874156466477523\n",
      "916 = 0.00037816199437544354\n",
      "917 = 0.0\n",
      "918 = 0.0\n",
      "919 = 0.00042505728426004135\n",
      "920 = 2.2575797160849e-05\n",
      "921 = 0.0\n",
      "922 = 3.720105122574529e-05\n",
      "923 = 0.00015757928369663186\n",
      "924 = 0.00044364622383926\n",
      "925 = 0.0\n",
      "926 = 0.0\n",
      "927 = 6.421706877351486e-05\n",
      "928 = 1.427885289512013e-06\n",
      "929 = 0.00023763208146382661\n",
      "930 = 0.00010003606363404975\n",
      "931 = 0.0004752445475725494\n",
      "932 = 0.0\n",
      "933 = 9.018699951040789e-05\n",
      "934 = 3.2370445887873246e-07\n",
      "935 = 0.0\n",
      "936 = 0.00022566184217749259\n",
      "937 = 0.0004981101129827551\n",
      "938 = 1.3245689898110824e-06\n",
      "939 = 9.664080829618138e-06\n",
      "940 = 0.00012449528153750305\n",
      "941 = 0.00038916563263357526\n",
      "942 = 0.00018359895160614643\n",
      "943 = 0.00030407786804792226\n",
      "944 = 3.5416100357616546e-05\n",
      "945 = 6.468114675108771e-05\n",
      "946 = 0.0\n",
      "947 = 0.0003624604737340182\n",
      "948 = 1.179470218705447e-05\n",
      "949 = 0.0\n",
      "950 = 0.0\n",
      "951 = 0.0\n",
      "952 = 0.0\n",
      "953 = 9.748402263788606e-08\n",
      "954 = 0.0\n",
      "955 = 7.902956300173303e-05\n",
      "956 = 8.835691826454914e-05\n",
      "957 = 0.00040704729039008444\n",
      "958 = 0.0001349501805537173\n",
      "959 = 5.054584584585764e-05\n",
      "960 = 0.00030113480710300004\n",
      "961 = 2.889521269086977e-06\n",
      "962 = 1.7905306295917332e-05\n",
      "963 = 0.00015461313708016634\n",
      "964 = 0.0003496312640466476\n",
      "965 = 0.0003846646356168427\n",
      "966 = 0.00027942965302108896\n",
      "967 = 0.0\n",
      "968 = 2.2023413619925266e-05\n",
      "969 = 8.975594403264437e-07\n",
      "970 = 0.00010232752796695067\n",
      "971 = 7.790183545061805e-05\n",
      "972 = 0.0\n",
      "973 = 0.0002716699352489856\n",
      "974 = 0.0\n",
      "975 = 0.00052593315053158\n",
      "976 = 7.080653097362423e-05\n",
      "977 = 0.00010892088232249913\n",
      "978 = 8.53363448715334e-06\n",
      "979 = 0.0\n",
      "980 = 0.0\n",
      "981 = 0.000195039055271077\n",
      "982 = 0.0003384443935171973\n",
      "983 = 1.8999415397410848e-05\n",
      "984 = 0.000552355142217045\n",
      "985 = 0.00027183682846679855\n",
      "986 = 0.0\n",
      "987 = 0.00020179773214532782\n",
      "988 = 1.0409156775754967e-06\n",
      "989 = 0.00021259962159184728\n",
      "990 = 8.337784243385202e-05\n",
      "991 = 0.0003728704604552112\n",
      "992 = 0.0\n",
      "993 = 0.0\n",
      "994 = 0.000245547832870751\n",
      "995 = 0.0\n",
      "996 = 0.00010791977507068062\n",
      "997 = 5.7418949615850694e-05\n",
      "998 = 0.00015756026491389863\n",
      "999 = 0.0\n",
      "1000 = 0.00014264341557403005\n",
      "1001 = 0.0002415201973276668\n",
      "1002 = 0.0002728111684784696\n",
      "1003 = 4.1033316094878397e-07\n",
      "1004 = 9.999096995864846e-05\n",
      "1005 = 0.00014027761991099082\n",
      "1006 = 0.0\n",
      "1007 = 0.00029429579726317375\n",
      "1008 = 4.830652140334978e-05\n",
      "1009 = 0.00031139766950956946\n",
      "1010 = 0.0\n",
      "1011 = 0.0002787554392287434\n",
      "1012 = 3.098172432148908e-05\n",
      "1013 = 0.0002193195177057803\n",
      "1014 = 2.739973982941544e-05\n",
      "1015 = 3.720262755310371e-05\n",
      "1016 = 7.35225470982376e-05\n",
      "1017 = 0.00019857983980643763\n",
      "1018 = 0.0\n",
      "1019 = 0.00041627696860553067\n",
      "1020 = 0.00012660285099119154\n",
      "1021 = 7.340509857965601e-05\n",
      "1022 = 5.205267826136444e-06\n",
      "1023 = 0.00011957160996639734\n",
      "1024 = 3.573593804857354e-05\n",
      "1025 = 1.2082253882866875e-05\n",
      "1026 = 1.6926560827537363e-06\n",
      "1027 = 0.0004870263129191355\n",
      "1028 = 3.080218311644408e-05\n",
      "1029 = 0.00023673249837783374\n",
      "1030 = 0.0003207386864652408\n",
      "1031 = 8.364342178624737e-05\n",
      "1032 = 0.0\n",
      "1033 = 0.0\n",
      "1034 = 4.421695180432506e-05\n",
      "1035 = 0.0\n",
      "1036 = 0.0001484917152285466\n",
      "1037 = 0.000265044506714372\n",
      "1038 = 9.910047748318528e-05\n",
      "1039 = 0.0\n",
      "1040 = 4.388869119878402e-05\n",
      "1041 = 0.0\n",
      "1042 = 9.836523303883068e-05\n",
      "1043 = 3.0735973312526884e-06\n",
      "1044 = 7.435895469076725e-05\n",
      "1045 = 0.000364062840560898\n",
      "1046 = 2.2973531069640485e-05\n",
      "1047 = 0.0005414579097444356\n",
      "1048 = 4.1159682449307904e-05\n",
      "1049 = 0.0003509646947246815\n",
      "1050 = 0.00015766309099364374\n",
      "1051 = 0.00020835999788786642\n",
      "1052 = 0.00019745439115003975\n",
      "1053 = 0.0\n",
      "1054 = 8.585730194347344e-05\n",
      "1055 = 1.594150096662153e-05\n",
      "1056 = 2.7712796652559613e-05\n",
      "1057 = 0.00010905133648226212\n",
      "1058 = 5.1478224702781315e-05\n",
      "1059 = 6.209116827305458e-06\n",
      "1060 = 0.0004445289782104287\n",
      "1061 = 6.06285028488285e-05\n",
      "1062 = 0.0\n",
      "1063 = 0.0006180207956046588\n",
      "1064 = 1.1563694596890875e-05\n",
      "1065 = 0.000268668831303378\n",
      "1066 = 0.0\n",
      "1067 = 8.9940563553115e-07\n",
      "1068 = 6.599895603692529e-05\n",
      "1069 = 2.626345576360679e-07\n",
      "1070 = 0.00038133777894573136\n",
      "1071 = 5.426280067354381e-05\n",
      "1072 = 0.00030903559614527235\n",
      "1073 = 5.6545500662058024e-05\n",
      "1074 = 0.0\n",
      "1075 = 6.364384571724407e-05\n",
      "1076 = 4.6420243817784084e-05\n",
      "1077 = 0.0\n",
      "1078 = 6.842071323247181e-06\n",
      "1079 = 3.6025367176535245e-05\n",
      "1080 = 0.00036243005471912746\n",
      "1081 = 0.00014176722162709398\n",
      "1082 = 5.8125857714313057e-05\n",
      "1083 = 0.0\n",
      "1084 = 0.0\n",
      "1085 = 5.149897875947214e-05\n",
      "1086 = 0.0\n",
      "1087 = 0.0\n",
      "1088 = 2.1050172087671403e-06\n",
      "1089 = 0.0\n",
      "1090 = 0.00017352471779839666\n",
      "1091 = 0.0003081453126563369\n",
      "1092 = 1.3236290044133637e-05\n",
      "1093 = 0.0\n",
      "1094 = 0.0\n",
      "1095 = 1.0960677796733036e-05\n",
      "1096 = 0.0\n",
      "1097 = 0.00041946176914335034\n",
      "1098 = 8.600442131700705e-05\n",
      "1099 = 0.0\n",
      "1100 = 0.0\n",
      "1101 = 0.0\n",
      "1102 = 9.78622292036219e-05\n",
      "1103 = 0.00021823021172443066\n",
      "1104 = 0.0\n",
      "1105 = 0.0002334691843394489\n",
      "1106 = 0.00011205288681187597\n",
      "1107 = 0.00027428588409106737\n",
      "1108 = 0.0007250632019234843\n",
      "1109 = 8.426914347271345e-05\n",
      "1110 = 0.0\n",
      "1111 = 0.0\n",
      "1112 = 7.66252610837255e-05\n",
      "1113 = 0.0\n",
      "1114 = 0.0\n",
      "1115 = 0.0001528071860912811\n",
      "1116 = 0.00010590499569320904\n",
      "1117 = 0.00014307795532170962\n",
      "1118 = 8.460009200742614e-05\n",
      "1119 = 7.689096606374508e-05\n",
      "1120 = 5.843936471032568e-05\n",
      "1121 = 0.00014373816135312305\n",
      "1122 = 0.000220678457060741\n",
      "1123 = 0.0004945610526571814\n",
      "1124 = 0.00030542710835817366\n",
      "1125 = 0.00012664423877116503\n",
      "1126 = 0.0\n",
      "1127 = 0.0\n",
      "1128 = 0.0\n",
      "1129 = 1.996643153064344e-06\n",
      "1130 = 8.862555550318404e-06\n",
      "1131 = 0.0\n",
      "1132 = 3.087087415619267e-05\n",
      "1133 = 0.0003252849000375164\n",
      "1134 = 0.0\n",
      "1135 = 6.637889422773265e-05\n",
      "1136 = 0.00019642038339494933\n",
      "1137 = 3.96228174276087e-05\n",
      "1138 = 0.00011691717130697011\n",
      "1139 = 3.6499323410673386e-06\n",
      "1140 = 2.4822603634948518e-05\n",
      "1141 = 0.0\n",
      "1142 = 0.0\n",
      "1143 = 7.864512768777301e-05\n",
      "1144 = 3.926405391636551e-06\n",
      "1145 = 0.00010564741322991737\n",
      "1146 = 0.0\n",
      "1147 = 9.40860978086001e-05\n",
      "1148 = 0.00027551570041926663\n",
      "1149 = 0.0\n",
      "1150 = 0.00023348454964672375\n",
      "1151 = 0.0\n",
      "1152 = 0.0001515956891302142\n",
      "1153 = 4.491767260697591e-05\n",
      "1154 = 3.213962624170296e-05\n",
      "1155 = 0.00015250168792967645\n",
      "1156 = 0.0002674637881840828\n",
      "1157 = 9.061401969007571e-05\n",
      "1158 = 0.0003239617946175132\n",
      "1159 = 0.00020898370784293456\n",
      "1160 = 0.0\n",
      "1161 = 0.0\n",
      "1162 = 0.00014197625166653403\n",
      "1163 = 0.0\n",
      "1164 = 0.0001961430284006301\n",
      "1165 = 0.00043088402441611635\n",
      "1166 = 2.1387101664523934e-05\n",
      "1167 = 4.536416005440846e-05\n",
      "1168 = 2.4248463082830214e-07\n",
      "1169 = 5.91630548331714e-06\n",
      "1170 = 0.00010333764802146706\n",
      "1171 = 0.0\n",
      "1172 = 0.00012838040811986498\n",
      "1173 = 0.0\n",
      "1174 = 7.155723336281733e-05\n",
      "1175 = 8.774547186989214e-05\n",
      "1176 = 9.716898475810887e-05\n",
      "1177 = 0.00013629507905310598\n",
      "1178 = 0.00014664079694551248\n",
      "1179 = 0.00031441024037386555\n",
      "1180 = 3.3686475392071156e-05\n",
      "1181 = 0.00016037059751753045\n",
      "1182 = 0.00024136219637240373\n",
      "1183 = 8.13261711441565e-05\n",
      "1184 = 9.981099208726394e-05\n",
      "1185 = 5.236574673593201e-05\n",
      "1186 = 0.0\n",
      "1187 = 0.00018789542930524794\n",
      "1188 = 0.0\n",
      "1189 = 0.00023570691982047312\n",
      "1190 = 0.0\n",
      "1191 = 0.0002726492686538035\n",
      "1192 = 2.177883045687612e-05\n",
      "1193 = 2.219509858882568e-05\n",
      "1194 = 7.863257834367241e-05\n",
      "1195 = 0.000239090076219647\n",
      "1196 = 0.0\n",
      "1197 = 0.0\n",
      "1198 = 0.00012789647709563878\n",
      "1199 = 8.388840062804161e-05\n",
      "1200 = 4.483559447826075e-05\n",
      "1201 = 0.0\n",
      "1202 = 6.946303548743853e-05\n",
      "1203 = 0.00010038926399174336\n",
      "1204 = 0.0\n",
      "1205 = 3.783098858423809e-05\n",
      "1206 = 0.0001356017496778708\n",
      "1207 = 1.5842845852972424e-05\n",
      "1208 = 4.347442236287361e-05\n",
      "1209 = 0.0\n",
      "1210 = 0.0\n",
      "1211 = 0.00012381141100207567\n",
      "1212 = 9.31124151878283e-05\n",
      "1213 = 0.0\n",
      "1214 = 0.00018507902724430351\n",
      "1215 = 0.00022622543629088768\n",
      "1216 = 0.0\n",
      "1217 = 0.0\n",
      "1218 = 8.043578847039042e-05\n",
      "1219 = 0.0\n",
      "1220 = 0.0\n",
      "1221 = 5.689585279410669e-07\n",
      "1222 = 0.0\n",
      "1223 = 0.0\n",
      "1224 = 0.0\n",
      "1225 = 6.010700149666958e-05\n",
      "1226 = 4.263262505723553e-06\n",
      "1227 = 0.00010759760463927938\n",
      "1228 = 3.330980812749721e-05\n",
      "1229 = 0.0\n",
      "1230 = 0.0\n",
      "1231 = 0.0\n",
      "1232 = 2.2594064090009647e-05\n",
      "1233 = 7.035509506809072e-05\n",
      "1234 = 0.0\n",
      "1235 = 0.0\n",
      "1236 = 8.383949260813085e-06\n",
      "1237 = 1.3593072808876353e-05\n",
      "1238 = 0.00040911195362490114\n",
      "1239 = 0.0\n",
      "1240 = 0.0002527274592087203\n",
      "1241 = 0.0\n",
      "1242 = 6.937863914569375e-05\n",
      "1243 = 8.483522189095507e-06\n",
      "1244 = 0.0\n",
      "1245 = 0.00019316314110316962\n",
      "1246 = 7.05259990384607e-05\n",
      "1247 = 2.2060251798240372e-05\n",
      "1248 = 4.954990179640438e-06\n",
      "1249 = 7.437926048778305e-05\n",
      "1250 = 4.10315263314624e-05\n",
      "1251 = 0.0\n",
      "1252 = 0.00011342040018882676\n",
      "1253 = 0.0\n",
      "1254 = 0.00037296769690951104\n",
      "1255 = 0.0\n",
      "1256 = 3.531688832177287e-05\n",
      "1257 = 0.0\n",
      "1258 = 0.0\n",
      "1259 = 0.0\n",
      "1260 = 2.4537729077620906e-06\n",
      "1261 = 0.0002295481011172239\n",
      "1262 = 7.335059648073268e-05\n",
      "1263 = 0.0\n",
      "1264 = 1.8760793904105494e-05\n",
      "1265 = 0.00022944003012921032\n",
      "1266 = 0.0\n",
      "1267 = 9.043926831686361e-07\n",
      "1268 = 1.4459407929873265e-06\n",
      "1269 = 0.0\n",
      "1270 = 0.0\n",
      "1271 = 0.0\n",
      "1272 = 0.0\n",
      "1273 = 0.0\n",
      "1274 = 0.0\n",
      "1275 = 4.767135788450606e-05\n",
      "1276 = 0.0\n",
      "1277 = 5.129167474675048e-05\n",
      "1278 = 6.74087629523989e-05\n",
      "1279 = 0.0\n",
      "1280 = 2.0977918361667568e-05\n",
      "1281 = 4.913865826254018e-05\n",
      "1282 = 5.103239016794359e-05\n",
      "1283 = 3.493283997064542e-05\n",
      "1284 = 1.8935475405488736e-05\n",
      "1285 = 4.4874570028599746e-05\n",
      "1286 = 0.0\n",
      "1287 = 0.0\n",
      "1288 = 0.0\n",
      "1289 = 0.0\n",
      "1290 = 5.807384928782581e-05\n",
      "1291 = 8.61347863694567e-06\n",
      "1292 = 0.0\n",
      "1293 = 0.0\n",
      "1294 = 2.5652898105153957e-05\n",
      "1295 = 0.0\n",
      "1296 = 0.0\n",
      "1297 = 0.0\n",
      "1298 = 0.00017519955053489178\n",
      "1299 = 0.0\n",
      "1300 = 0.00013139853157220034\n",
      "1301 = 4.419524890494748e-06\n",
      "1302 = 0.0\n",
      "1303 = 1.9264713150550238e-05\n",
      "1304 = 0.00021183199126198666\n",
      "1305 = 9.857142023636688e-05\n",
      "1306 = 0.00019013396603129306\n",
      "1307 = 9.157039006409929e-05\n",
      "1308 = 7.648023484987699e-05\n",
      "1309 = 0.0\n",
      "1310 = 8.827745180128929e-05\n",
      "1311 = 0.0\n",
      "1312 = 0.0\n",
      "1313 = 0.0\n",
      "1314 = 0.0\n",
      "1315 = 2.6809870253065964e-05\n",
      "1316 = 4.03351340790227e-05\n",
      "1317 = 0.0\n",
      "1318 = 0.0004347440133369799\n",
      "1319 = 0.0\n",
      "1320 = 0.0\n",
      "1321 = 0.00015112176028509778\n",
      "1322 = 0.00012435052401819547\n",
      "1323 = 0.0002051401726619519\n",
      "1324 = 5.78163148214339e-05\n",
      "1325 = 0.0\n",
      "1326 = 0.0\n",
      "1327 = 0.00021738474347301112\n",
      "1328 = 9.793524507201263e-05\n",
      "1329 = 5.390188935708922e-05\n",
      "1330 = 0.0\n",
      "1331 = 0.0\n",
      "1332 = 0.0\n",
      "1333 = 2.3358273426934288e-05\n",
      "1334 = 0.00016227171748503275\n",
      "1335 = 0.00013965839132308605\n",
      "1336 = 0.0\n",
      "1337 = 0.0\n",
      "1338 = 2.060603018527518e-06\n",
      "1339 = 0.0001712988872163966\n",
      "1340 = 3.078721119972899e-05\n",
      "1341 = 0.00013269969745336477\n",
      "1342 = 0.0\n",
      "1343 = 2.686354808616909e-05\n",
      "1344 = 0.0\n",
      "1345 = 4.811289325018162e-05\n",
      "1346 = 0.00012616799464933688\n",
      "1347 = 3.048897974736842e-05\n",
      "1348 = 0.0\n",
      "1349 = 0.0\n",
      "1350 = 0.0002963465808760198\n",
      "1351 = 0.0\n",
      "1352 = 0.0\n",
      "1353 = 9.95584631341793e-06\n",
      "1354 = 0.0\n",
      "1355 = 0.0003918981278164313\n",
      "1356 = 3.980287355444335e-05\n",
      "1357 = 1.983768441121285e-06\n",
      "1358 = 0.0\n",
      "1359 = 0.0\n",
      "1360 = 8.110562576667943e-05\n",
      "1361 = 4.589149945600492e-06\n",
      "1362 = 0.00018507113743857422\n",
      "1363 = 0.0\n",
      "1364 = 0.00011307421304630512\n",
      "1365 = 0.0\n",
      "1366 = 0.0\n",
      "1367 = 0.0\n",
      "1368 = 0.0\n",
      "1369 = 0.00019167820286188216\n",
      "1370 = 0.0\n",
      "1371 = 0.0\n",
      "1372 = 0.00013185609464716756\n",
      "1373 = 0.00014792453444026625\n",
      "1374 = 8.720576180660154e-05\n",
      "1375 = 0.00019680226409102397\n",
      "1376 = 0.0\n",
      "1377 = 0.0\n",
      "1378 = 4.918959876674984e-05\n",
      "1379 = 0.0\n",
      "1380 = 7.178247353305383e-05\n",
      "1381 = 4.4316558648206187e-05\n",
      "1382 = 0.0\n",
      "1383 = 0.00010505345491254643\n",
      "1384 = 4.663102729145602e-05\n",
      "1385 = 0.0\n",
      "1386 = 0.0001419797361357313\n",
      "1387 = 0.00011885310238891482\n",
      "1388 = 2.6271059905987387e-05\n",
      "1389 = 0.00018219459334587216\n",
      "1390 = 0.0\n",
      "1391 = 0.00014098719592450394\n",
      "1392 = 0.00013450469356630278\n",
      "1393 = 0.0\n",
      "1394 = 0.0\n",
      "1395 = 0.0\n",
      "1396 = 0.0001340206210435767\n",
      "1397 = 2.9809851671290548e-05\n",
      "1398 = 0.0003178532955725448\n",
      "1399 = 0.00016400891871390795\n",
      "1400 = 0.0\n",
      "1401 = 0.0\n",
      "1402 = 0.00020945646718246373\n",
      "1403 = 9.824329246573934e-05\n",
      "1404 = 2.433805671579576e-06\n",
      "1405 = 0.0004433263073031679\n",
      "1406 = 0.0\n",
      "1407 = 0.00018998708045677215\n",
      "1408 = 0.0\n",
      "1409 = 1.1352474001787259e-05\n",
      "1410 = 0.0004383374113197867\n",
      "1411 = 5.666943988023001e-05\n",
      "1412 = 8.942049966649687e-06\n",
      "1413 = 0.0\n",
      "1414 = 0.00016848709571210107\n",
      "1415 = 5.8810917416649465e-05\n",
      "1416 = 0.0001881336029936492\n",
      "1417 = 0.0\n",
      "1418 = 1.9779640912461925e-05\n",
      "1419 = 0.0\n",
      "1420 = 5.263779212662986e-05\n",
      "1421 = 0.0\n",
      "1422 = 0.0\n",
      "1423 = 5.302845726165843e-05\n",
      "1424 = 4.952867068313176e-06\n",
      "1425 = 0.0\n",
      "1426 = 4.435673580174262e-05\n",
      "1427 = 0.00010814518538710545\n",
      "1428 = 0.0\n",
      "1429 = 0.0\n",
      "1430 = 0.0\n",
      "1431 = 0.0\n",
      "1432 = 0.0\n",
      "1433 = 0.0\n",
      "1434 = 1.7824056426929245e-05\n",
      "1435 = 0.0005186970680987138\n",
      "1436 = 9.480565722396514e-08\n",
      "1437 = 0.0001882199335574636\n",
      "1438 = 1.351630192278248e-05\n",
      "1439 = 0.0\n",
      "1440 = 0.0\n",
      "1441 = 2.663649702412022e-06\n",
      "1442 = 0.0\n",
      "1443 = 3.476528647461191e-05\n",
      "1444 = 0.0\n",
      "1445 = 0.0\n",
      "1446 = 0.0\n",
      "1447 = 0.0\n",
      "1448 = 0.000320583931225625\n",
      "1449 = 0.00012617239315062807\n",
      "1450 = 0.00010946961744711383\n",
      "1451 = 0.0\n",
      "1452 = 8.35403171609394e-05\n",
      "1453 = 0.0\n",
      "1454 = 0.0\n",
      "1455 = 1.8281276015394846e-06\n",
      "1456 = 3.0053516360626012e-05\n",
      "1457 = 0.0\n",
      "1458 = 0.00011679346253256554\n",
      "1459 = 1.0232712210813189e-06\n",
      "1460 = 1.2325323301232382e-05\n",
      "1461 = 0.0003767769639284387\n",
      "1462 = 0.0\n",
      "1463 = 7.896418437224033e-05\n",
      "1464 = 0.0\n",
      "1465 = 7.954425244045875e-06\n",
      "1466 = 0.0001172220125767562\n",
      "1467 = 0.0\n",
      "1468 = 0.0\n",
      "1469 = 0.0\n",
      "1470 = 7.61304399147785e-06\n",
      "1471 = 0.0\n",
      "1472 = 0.000236150980012758\n",
      "1473 = 2.1142198941650888e-05\n",
      "1474 = 0.0001876147748832139\n",
      "1475 = 0.0\n",
      "1476 = 0.0\n",
      "1477 = 0.0\n",
      "1478 = 0.0\n",
      "1479 = 0.0\n",
      "1480 = 9.640065349119806e-05\n",
      "1481 = 0.0\n",
      "1482 = 0.0\n",
      "1483 = 4.296865565424978e-05\n",
      "1484 = 8.451695689706601e-06\n",
      "1485 = 5.767126428341964e-05\n",
      "1486 = 0.0\n",
      "1487 = 4.406433311075262e-05\n",
      "1488 = 0.0\n",
      "1489 = 3.9929750706010996e-05\n",
      "1490 = 0.0004966497132331361\n",
      "1491 = 1.8344843794926247e-05\n",
      "1492 = 2.365031439783288e-05\n",
      "1493 = 0.0\n",
      "1494 = 0.0\n",
      "1495 = 2.295111814305461e-05\n",
      "1496 = 7.585793893391356e-05\n",
      "1497 = 5.032783253225459e-05\n",
      "1498 = 4.4040261611595416e-05\n",
      "1499 = 0.0\n",
      "1500 = 3.18508509561e-05\n",
      "1501 = 0.0\n",
      "1502 = 8.11182672452073e-06\n",
      "1503 = 4.862708072867472e-05\n",
      "1504 = 8.614891379233273e-05\n",
      "1505 = 0.0\n",
      "1506 = 0.00035155372030098254\n",
      "1507 = 7.18752029083925e-07\n",
      "1508 = 0.0002593018597924279\n",
      "1509 = 0.0\n",
      "1510 = 0.0\n",
      "1511 = 0.0\n",
      "1512 = 2.488872969099707e-05\n",
      "1513 = 4.711477252495864e-05\n",
      "1514 = 2.241612972780091e-06\n",
      "1515 = 0.0\n",
      "1516 = 0.0\n",
      "1517 = 0.0\n",
      "1518 = 0.0\n",
      "1519 = 0.0\n",
      "1520 = 2.226951367196505e-05\n",
      "1521 = 0.0\n",
      "1522 = 2.0198432193752482e-05\n",
      "1523 = 0.00025179999785137085\n",
      "1524 = 0.0\n",
      "1525 = 9.937195203139772e-05\n",
      "1526 = 0.0\n",
      "1527 = 0.0\n",
      "1528 = 4.991294059033383e-05\n",
      "1529 = 0.0\n",
      "1530 = 1.7572822590633636e-06\n",
      "1531 = 2.4712161368383357e-05\n",
      "1532 = 1.670846180935736e-05\n",
      "1533 = 3.1719519209310954e-05\n",
      "1534 = 4.062144604125696e-07\n",
      "1535 = 0.0\n",
      "1536 = 1.8595024359058032e-05\n",
      "1537 = 0.0\n",
      "1538 = 8.277978016186285e-05\n",
      "1539 = 0.00012740020363049447\n",
      "1540 = 0.0\n",
      "1541 = 7.636407995211232e-05\n",
      "1542 = 0.0001091135392904059\n",
      "1543 = 0.0\n",
      "1544 = 0.0001795964885057914\n",
      "1545 = 1.3801113607676639e-05\n",
      "1546 = 0.0\n",
      "1547 = 0.0\n",
      "1548 = 0.00014159590409931668\n",
      "1549 = 4.918073915301016e-05\n",
      "1550 = 0.0\n",
      "1551 = 0.00011648338399061902\n",
      "1552 = 0.0\n",
      "1553 = 0.0\n",
      "1554 = 4.0724945766589344e-05\n",
      "1555 = 0.0\n",
      "1556 = 0.00012362811423270834\n",
      "1557 = 0.00010088335972573721\n",
      "1558 = 9.020297994999355e-05\n",
      "1559 = 7.601603017265107e-05\n",
      "1560 = 6.235747163075192e-05\n",
      "1561 = 5.4062814336270705e-06\n",
      "1562 = 9.338751382540789e-05\n",
      "1563 = 0.0\n",
      "1564 = 3.0791208335356356e-07\n",
      "1565 = 0.00020381852328622038\n",
      "1566 = 3.556886717221988e-06\n",
      "1567 = 0.00020247182874944737\n",
      "1568 = 1.9251678273590667e-05\n",
      "1569 = 0.0\n",
      "1570 = 0.0\n",
      "1571 = 0.0\n",
      "1572 = 0.0\n",
      "1573 = 7.655741596362172e-05\n",
      "1574 = 0.0\n",
      "1575 = 0.0\n",
      "1576 = 0.0\n",
      "1577 = 0.0\n",
      "1578 = 0.0\n",
      "1579 = 1.0763200267316363e-05\n",
      "1580 = 0.0\n",
      "1581 = 0.0\n",
      "1582 = 7.461354187807041e-06\n",
      "1583 = 0.0\n",
      "1584 = 9.156227016613262e-05\n",
      "1585 = 0.0\n",
      "1586 = 0.00010610238915027171\n",
      "1587 = 2.1217586594265936e-05\n",
      "1588 = 2.2774757380242455e-05\n",
      "1589 = 1.9698831332836674e-05\n",
      "1590 = 9.618343289115749e-05\n",
      "1591 = 5.9112658773130385e-09\n",
      "1592 = 0.0\n",
      "1593 = 7.685720858851973e-05\n",
      "1594 = 0.00015452630324367444\n",
      "1595 = 0.0\n",
      "1596 = 0.00012793018024099677\n",
      "1597 = 0.0\n",
      "1598 = 0.0\n",
      "1599 = 0.0\n",
      "1600 = 1.3075121096105383e-05\n",
      "1601 = 0.0\n",
      "1602 = 0.0\n",
      "1603 = 0.0\n",
      "1604 = 3.2207806082712764e-05\n",
      "1605 = 7.033967596816822e-07\n",
      "1606 = 0.0\n",
      "1607 = 1.353012724519904e-05\n",
      "1608 = 2.3713902819028705e-05\n",
      "1609 = 3.718890732397108e-05\n",
      "1610 = 0.00024190382636522277\n",
      "1611 = 0.0\n",
      "1612 = 0.0\n",
      "1613 = 0.0\n",
      "1614 = 0.00016462953214401558\n",
      "1615 = 6.541772894896644e-06\n",
      "1616 = 0.0\n",
      "1617 = 4.3798004781496064e-05\n",
      "1618 = 4.762992659142791e-06\n",
      "1619 = 0.0\n",
      "1620 = 0.0\n",
      "1621 = 0.0\n",
      "1622 = 0.0\n",
      "1623 = 0.0\n",
      "1624 = 0.0\n",
      "1625 = 0.00027687119805645084\n",
      "1626 = 4.471386365839234e-05\n",
      "1627 = 0.00010250229224439477\n",
      "1628 = 0.0\n",
      "1629 = 0.0\n",
      "1630 = 8.63049128736839e-06\n",
      "1631 = 4.134265272792725e-06\n",
      "1632 = 0.0\n",
      "1633 = 0.0\n",
      "1634 = 0.0\n",
      "1635 = 0.0\n",
      "1636 = 0.0\n",
      "1637 = 0.0\n",
      "1638 = 1.795823729050309e-06\n",
      "1639 = 0.0\n",
      "1640 = 0.0\n",
      "1641 = 6.355714648659458e-05\n",
      "1642 = 8.769565409870643e-05\n",
      "1643 = 0.0\n",
      "1644 = 1.177050204908511e-05\n",
      "1645 = 7.883738651437456e-05\n",
      "1646 = 0.00011478997225117176\n",
      "1647 = 0.0\n",
      "1648 = 0.00017738227563099285\n",
      "1649 = 0.00011223044250878339\n",
      "1650 = 0.0\n",
      "1651 = 5.049713005645415e-05\n",
      "1652 = 0.0\n",
      "1653 = 0.00010219372644932682\n",
      "1654 = 0.0\n",
      "1655 = 0.0\n",
      "1656 = 0.0\n",
      "1657 = 3.002542362729392e-06\n",
      "1658 = 0.0\n",
      "1659 = 2.935455554436131e-05\n",
      "1660 = 2.2166582807966456e-05\n",
      "1661 = 0.0\n",
      "1662 = 0.0\n",
      "1663 = 0.0\n",
      "1664 = 0.0\n",
      "1665 = 0.0\n",
      "1666 = 0.0\n",
      "1667 = 0.0\n",
      "1668 = 3.679247020329786e-05\n",
      "1669 = 0.0\n",
      "1670 = 0.0\n",
      "1671 = 0.0\n",
      "1672 = 0.02560342449280721\n",
      "1673 = 0.013909394843425304\n",
      "1674 = 0.008895826853622163\n",
      "1675 = 0.005225207229064391\n",
      "1676 = 0.003321368230455905\n",
      "1677 = 0.001721718832676671\n",
      "1678 = 0.0007371681647994696\n",
      "1679 = 0.00031752268428716213\n",
      "1680 = 0.0008084640915576889\n",
      "1681 = 0.0003572022655954724\n",
      "1682 = 0.0002894840161768908\n",
      "1683 = 0.00010357520809013964\n",
      "1684 = 7.567531684908593e-05\n",
      "1685 = 3.762825925306899e-05\n",
      "1686 = 2.9301035711954206e-05\n",
      "1687 = 7.473290395775502e-07\n",
      "1688 = 0.000119511878246922\n",
      "1689 = 0.0\n",
      "1690 = 1.2844990697875703e-08\n",
      "1691 = 5.546382143955262e-07\n",
      "1692 = 6.329780219164128e-07\n",
      "1693 = 1.0348644840834094e-07\n",
      "1694 = 4.1791383031564874e-05\n",
      "1695 = 0.0\n",
      "1696 = 0.0\n",
      "1697 = 0.0\n",
      "1698 = 0.0\n",
      "1699 = 0.0\n",
      "1700 = 0.0\n",
      "1701 = 0.0\n",
      "1702 = 0.0\n",
      "1703 = 0.0\n",
      "1704 = 0.0\n",
      "1705 = 0.0\n",
      "1706 = 0.0\n",
      "1707 = 0.0\n",
      "1708 = 0.0\n",
      "1709 = 0.0\n",
      "1710 = 0.0\n",
      "1711 = 0.0\n",
      "1712 = 0.0\n",
      "1713 = 0.0\n",
      "1714 = 1.47668258068755e-05\n",
      "1715 = 0.0001102520992446465\n",
      "1716 = 7.794179258639478e-05\n",
      "1717 = 0.006278337119109679\n",
      "1718 = 0.00024514780885221484\n",
      "1719 = 0.00011410256348290843\n",
      "1720 = 0.007551021128763314\n",
      "1721 = 9.534792945078457e-05\n",
      "1722 = 3.326132651028164e-05\n",
      "1723 = 0.0001261153179382622\n",
      "1724 = 0.0001128662665013402\n",
      "1725 = 5.4625794107649876e-05\n",
      "1726 = 0.00020132684782919567\n",
      "1727 = 3.306285853284575e-05\n",
      "1728 = 1.7431664040501635e-05\n",
      "1729 = 3.1927599765470294e-05\n",
      "1730 = 1.4512648817773102e-05\n",
      "1731 = 1.4831336856264988e-06\n",
      "1732 = 1.8368353770342733e-08\n",
      "1733 = 5.365048472059106e-06\n",
      "1734 = 0.0\n",
      "1735 = 0.0\n",
      "1736 = 1.3834956391363864e-06\n",
      "1737 = 0.0\n",
      "1738 = 1.1995680948210946e-07\n",
      "1739 = 1.0936091833984652e-06\n",
      "1740 = 0.017645823033027485\n",
      "1741 = 0.008785682046270123\n",
      "1742 = 0.007061628419617228\n",
      "1743 = 0.004204081436980834\n",
      "1744 = 0.0014521941816967674\n",
      "1745 = 7.009647108866634e-05\n",
      "1746 = 3.325057733341916e-05\n",
      "1747 = 1.2890273153332778e-06\n",
      "1748 = 0.0\n",
      "1749 = 0.007821729278463365\n",
      "1750 = 0.01223834357925018\n",
      "1751 = 0.024156193927608413\n",
      "1752 = 0.003591805431517546\n",
      "1753 = 0.0007802435794727554\n",
      "1754 = 0.007310477673862332\n",
      "1755 = 0.005117706801242259\n",
      "1756 = 0.005722196184879864\n",
      "1757 = 0.003538810174914896\n",
      "1758 = 0.0\n",
      "1759 = 0.005153324534580766\n",
      "1760 = 0.006030426168089225\n",
      "1761 = 0.02473978940743414\n",
      "1762 = 0.001453451887881812\n",
      "1763 = 0.00031506846005576003\n",
      "1764 = 0.0007406951229926059\n",
      "1765 = 0.00028317284938677743\n",
      "1766 = 0.000753213430919902\n",
      "1767 = 0.0006643142528173232\n",
      "1768 = 0.0\n",
      "1769 = 0.0019281246723158085\n",
      "1770 = 0.003863573074740203\n",
      "1771 = 0.0023566649268063856\n",
      "1772 = 0.0017221778860394882\n",
      "1773 = 0.005598346792422734\n",
      "1774 = 0.0018977204504096548\n",
      "1775 = 0.0046107290180634345\n",
      "1776 = 0.0005421129985174468\n",
      "1777 = 0.0008617251293673683\n",
      "1778 = 0.001533673214323347\n",
      "1779 = 0.003725951117274449\n",
      "1780 = 0.008923949456928508\n",
      "1781 = 0.0003535561285561034\n",
      "1782 = 0.0004158924924828687\n",
      "1783 = 0.0009593021777282812\n",
      "1784 = 0.0007393011703830917\n",
      "1785 = 0.0036216341140783252\n",
      "1786 = 0.00014636140151649777\n",
      "1787 = 0.00016455156033440496\n",
      "1788 = 0.00012292578709368704\n",
      "1789 = 0.001404608984888226\n",
      "1790 = 0.00021399315559653332\n",
      "1791 = 0.002047992234120602\n",
      "1792 = 0.004701516909462185\n",
      "1793 = 0.0\n",
      "1794 = 0.004720614737716623\n",
      "1795 = 0.00594523254953759\n",
      "1796 = 0.002823116933184707\n",
      "1797 = 0.0016021394023347307\n",
      "1798 = 0.000969526405670949\n",
      "1799 = 0.0011331008284665624\n",
      "1800 = 0.001425627782620374\n",
      "1801 = 0.0006234680184352342\n",
      "1802 = 0.0006799354133611316\n",
      "1803 = 0.0005815464838437286\n",
      "1804 = 0.01256492067690237\n",
      "1805 = 0.0034604743785516955\n",
      "1806 = 0.0010224215242695034\n",
      "1807 = 0.0006370130022316404\n",
      "1808 = 0.00031640324857206185\n",
      "1809 = 0.0004427618370502227\n",
      "1810 = 0.000960106982390605\n",
      "1811 = 0.0005605232969983047\n",
      "1812 = 0.0003734627237754017\n",
      "1813 = 0.0007436722723602377\n",
      "1814 = 8.306841483211478e-07\n",
      "1815 = 0.000191359472016086\n",
      "1816 = 1.7432994758627523e-05\n",
      "1817 = 1.206338757135344e-05\n",
      "1818 = 3.970837939392582e-06\n",
      "1819 = 9.772185824671281e-06\n",
      "1820 = 2.0794706173777956e-05\n",
      "1821 = 0.0001173022707795836\n",
      "1822 = 2.110373482478616e-05\n",
      "1823 = 4.3933435671942276e-05\n",
      "1824 = 4.3015629595569385e-05\n",
      "1825 = 0.0002526618008041624\n",
      "1826 = 5.467324823173533e-07\n",
      "1827 = 1.5183078635620786e-05\n",
      "1828 = 2.9045886061895288e-06\n",
      "1829 = 7.714062993384738e-05\n",
      "1830 = 3.566780836741303e-05\n",
      "1831 = 7.898578062591954e-05\n",
      "1832 = 0.00022348668218004838\n",
      "1833 = 1.829615717260298e-05\n",
      "1834 = 2.037161060055825e-05\n",
      "1835 = 2.390881113190975e-05\n",
      "1836 = 2.901282874504832e-05\n",
      "1837 = 9.767613824484061e-06\n",
      "1838 = 0.00016228353997884426\n",
      "1839 = 3.80163254438872e-05\n",
      "1840 = 2.7133883563668044e-05\n",
      "1841 = 9.401225435895481e-06\n",
      "1842 = 1.4016839368565378e-05\n",
      "1843 = 1.035723096550174e-07\n",
      "1844 = 5.981230926654171e-06\n",
      "1845 = 5.474639005969314e-06\n",
      "1846 = 9.094384979322574e-05\n",
      "1847 = 0.0001465634084811601\n",
      "1848 = 0.0\n",
      "1849 = 1.4187172098014006e-05\n",
      "1850 = 1.1713199377899923e-05\n",
      "1851 = 1.6686703552162282e-06\n",
      "1852 = 4.19598223979677e-05\n",
      "1853 = 1.671930865046335e-05\n",
      "1854 = 1.7933283918278078e-05\n",
      "1855 = 2.8413493601760513e-05\n",
      "1856 = 3.3436374830175107e-07\n",
      "1857 = 4.849936725726688e-06\n",
      "1858 = 9.329771388805955e-06\n",
      "1859 = 6.172828013574286e-06\n",
      "1860 = 0.00040683790400365466\n",
      "1861 = 0.0007185216653190034\n",
      "1862 = 6.45773212544959e-05\n",
      "1863 = 4.390815076759112e-05\n",
      "1864 = 6.430589748740478e-05\n",
      "1865 = 0.0001276399833783125\n",
      "1866 = 0.0003747170413562739\n",
      "1867 = 9.63213881573796e-06\n",
      "1868 = 0.00027469415020550545\n",
      "1869 = 7.5373726675875504e-06\n",
      "1870 = 0.00010624550763254323\n",
      "1871 = 4.6712959552792524e-07\n",
      "1872 = 6.091621536045408e-05\n",
      "1873 = 3.4787762035794496e-05\n",
      "1874 = 7.989924302574955e-05\n",
      "1875 = 9.349435397406798e-06\n",
      "1876 = 0.0\n",
      "1877 = 1.9921681374563144e-05\n",
      "1878 = 0.00010900570646817632\n",
      "1879 = 5.2018082111590025e-05\n",
      "1880 = 0.00014948968251646865\n",
      "1881 = 0.00013530613875856523\n",
      "1882 = 2.637557427564037e-05\n",
      "1883 = 0.00022194465519287808\n",
      "1884 = 5.836663962468502e-07\n",
      "1885 = 1.0914000586247189e-05\n",
      "1886 = 3.226124856446702e-05\n",
      "1887 = 6.397546628935081e-06\n",
      "1888 = 4.333357247277588e-07\n",
      "1889 = 0.0\n",
      "1890 = 9.151029970891858e-06\n",
      "1891 = 9.112120750253182e-05\n",
      "1892 = 5.0033289291272436e-05\n",
      "1893 = 5.738036061203333e-05\n",
      "1894 = 9.443944964845364e-06\n",
      "1895 = 1.329251174727822e-06\n",
      "1896 = 5.890850321149273e-05\n",
      "1897 = 2.6621850975421285e-05\n",
      "1898 = 1.3787768220444768e-05\n",
      "1899 = 5.585866281714519e-06\n",
      "1900 = 2.3618658256595238e-05\n",
      "1901 = 2.532869500235785e-05\n",
      "1902 = 1.0492426533857325e-05\n",
      "1903 = 2.7737518949146495e-05\n",
      "1904 = 4.6586111838387405e-05\n",
      "1905 = 7.445522511221086e-05\n",
      "1906 = 1.1417080674846121e-05\n",
      "1907 = 0.00011421437071361366\n",
      "1908 = 2.2613165589884356e-05\n",
      "1909 = 6.54966159904665e-05\n",
      "1910 = 8.56937117560364e-06\n",
      "1911 = 3.533921615891057e-05\n",
      "1912 = 2.020815210061675e-05\n",
      "1913 = 5.768322321146047e-05\n",
      "1914 = 5.515739976241619e-05\n",
      "1915 = 1.163732888332983e-05\n",
      "1916 = 6.76874456473586e-05\n",
      "1917 = 5.214398282813993e-05\n",
      "1918 = 1.310163151467788e-05\n",
      "1919 = 2.9355379928652875e-05\n",
      "1920 = 1.6580108270215785e-05\n",
      "1921 = 3.251605426157743e-05\n",
      "1922 = 6.368061573714573e-05\n",
      "1923 = 4.39190967649652e-05\n",
      "1924 = 3.92627924745318e-05\n",
      "1925 = 2.6376293854659904e-05\n",
      "1926 = 2.2527784740310388e-05\n"
     ]
    },
    {
     "name": "stdout",
     "output_type": "stream",
     "text": [
      "1927 = 7.484683091437457e-05\n",
      "1928 = 9.573763526570536e-05\n",
      "1929 = 0.0001344430394950568\n",
      "1930 = 8.989297091610026e-05\n",
      "1931 = 4.076984203062849e-05\n",
      "1932 = 0.00023174336412094834\n",
      "1933 = 3.3101428958939536e-05\n",
      "1934 = 1.7157942622167528e-05\n",
      "1935 = 5.468702670970708e-05\n",
      "1936 = 0.000961791514472761\n",
      "1937 = 2.1839828932009014e-05\n",
      "1938 = 0.00019364351020420618\n",
      "1939 = 3.149708684779275e-05\n",
      "1940 = 0.00036649346191096663\n",
      "1941 = 0.0002440013083300138\n",
      "1942 = 4.180885844123009e-05\n",
      "1943 = 9.504798643696704e-05\n",
      "1944 = 0.0\n",
      "1945 = 1.9761407044842286e-05\n",
      "1946 = 0.0\n",
      "1947 = 0.0\n",
      "1948 = 1.2045658748747099e-05\n",
      "1949 = 0.0\n",
      "1950 = 0.0\n",
      "1951 = 5.544258214857263e-05\n",
      "1952 = 9.175655696716672e-05\n",
      "1953 = 0.00016970064575758372\n",
      "1954 = 2.2336362495079964e-05\n",
      "1955 = 3.758701178490718e-06\n",
      "1956 = 0.00011681346039888931\n",
      "1957 = 9.182294642076197e-06\n",
      "1958 = 1.5671976067603322e-05\n",
      "1959 = 0.0\n",
      "1960 = 2.577072539074442e-06\n",
      "1961 = 0.0\n",
      "1962 = 2.0845401746088654e-05\n",
      "1963 = 0.0\n",
      "1964 = 0.0\n",
      "1965 = 0.0\n",
      "1966 = 0.0\n",
      "1967 = 0.0\n",
      "1968 = 1.7656414280879562e-05\n",
      "1969 = 1.6369452358039726e-06\n",
      "1970 = 0.0\n",
      "1971 = 1.6333744220467765e-05\n",
      "1972 = 3.288832836340621e-05\n",
      "1973 = 0.0\n",
      "1974 = 3.052864458776737e-05\n",
      "1975 = 6.023068775499764e-06\n",
      "1976 = 3.120208505850988e-05\n",
      "1977 = 0.0\n",
      "1978 = 0.0\n",
      "1979 = 3.6147069609277934e-05\n",
      "1980 = 0.0\n",
      "1981 = 1.6639797936462384e-07\n",
      "1982 = 0.0\n",
      "1983 = 2.8114160205283986e-06\n",
      "1984 = 2.7989968022390232e-05\n",
      "1985 = 3.926831354305973e-05\n",
      "1986 = 9.107691329089723e-05\n",
      "1987 = 1.021523301504073e-07\n",
      "1988 = 1.4461708133774645e-06\n",
      "1989 = 3.1356232304638676e-05\n",
      "1990 = 9.720790536506497e-06\n",
      "1991 = 3.0393768750377007e-06\n",
      "1992 = 9.013126420999854e-06\n",
      "1993 = 8.19549487958e-05\n",
      "1994 = 1.1880344549584454e-05\n",
      "1995 = 9.611328721506677e-06\n",
      "1996 = 3.923297632864454e-05\n",
      "1997 = 0.0\n",
      "1998 = 5.990032415512616e-06\n",
      "1999 = 0.0\n",
      "2000 = 4.4106599138155756e-05\n",
      "2001 = 2.552016442756297e-07\n",
      "2002 = 1.9999295595509275e-05\n",
      "2003 = 2.464163948930742e-05\n",
      "2004 = 4.809004613632806e-05\n",
      "2005 = 3.099677241336842e-05\n",
      "2006 = 1.74640117531869e-05\n",
      "2007 = 2.228325716419194e-07\n",
      "2008 = 2.283609291947653e-05\n",
      "2009 = 0.0\n",
      "2010 = 2.2152521036636512e-05\n",
      "2011 = 0.00047953034944046944\n",
      "2012 = 0.0005777864219186488\n",
      "2013 = 0.0001226512100201783\n",
      "2014 = 0.000892260684188221\n",
      "2015 = 0.0007021224715139708\n",
      "2016 = 0.0005124745664925833\n",
      "2017 = 0.000518714352596779\n",
      "2018 = 0.001193116854160413\n",
      "2019 = 0.0002033637692171404\n",
      "2020 = 0.00016049534408627304\n",
      "2021 = 0.0006051577219557225\n",
      "2022 = 2.5762118745538574e-05\n",
      "2023 = 0.000607168585530742\n",
      "2024 = 0.000865477212381512\n",
      "2025 = 0.0008552879326265867\n",
      "2026 = 0.001688932070007612\n",
      "2027 = 0.0007930138914344719\n",
      "2028 = 0.000667272786699919\n",
      "2029 = 0.0012376574856583235\n",
      "2030 = 0.004524494484233918\n",
      "2031 = 4.279188077024144e-05\n",
      "2032 = 6.636008842519918e-06\n",
      "2033 = 1.7861653114610094e-05\n",
      "2034 = 2.604075445663281e-06\n",
      "2035 = 0.0016467761338345057\n",
      "2036 = 0.00011345831889654271\n",
      "2037 = 0.0009123353818960928\n",
      "2038 = 0.000189917911687099\n",
      "2039 = 0.0001718685221995316\n",
      "2040 = 0.00020347685074633245\n",
      "2041 = 0.00022649655477885062\n",
      "2042 = 0.0001927590022147134\n",
      "2043 = 9.782694556572818e-05\n",
      "2044 = 0.00018968312398051737\n",
      "2045 = 0.00011471766092461826\n",
      "2046 = 7.772300269130466e-05\n",
      "2047 = 3.842796577331224e-05\n",
      "2048 = 1.8440967184597717e-05\n",
      "2049 = 9.864714083618434e-05\n",
      "2050 = 7.530282287654452e-05\n",
      "2051 = 7.595409416390271e-05\n",
      "2052 = 1.0436226782998925e-05\n",
      "2053 = 8.93207840686177e-06\n",
      "2054 = 0.0\n",
      "2055 = 2.3248525354988397e-07\n",
      "2056 = 4.179819510865629e-05\n",
      "2057 = 5.077077414032373e-05\n",
      "2058 = 0.0\n",
      "2059 = 2.3904616060924727e-05\n",
      "2060 = 1.59512149286125e-05\n",
      "2061 = 5.039508908329944e-05\n",
      "2062 = 6.861120778934522e-05\n",
      "2063 = 1.5005682230693233e-05\n",
      "2064 = 9.299403310258141e-05\n",
      "2065 = 4.9108123959171e-05\n",
      "2066 = 0.0\n",
      "2067 = 7.594272797448008e-05\n",
      "2068 = 0.00011812596747605978\n",
      "2069 = 0.0\n",
      "2070 = 0.0\n",
      "2071 = 0.0\n",
      "2072 = 0.0\n",
      "2073 = 0.0\n",
      "2074 = 0.0\n",
      "2075 = 0.0\n",
      "2076 = 0.0\n",
      "2077 = 0.0\n",
      "2078 = 0.0\n",
      "2079 = 0.0\n",
      "2080 = 0.0\n",
      "2081 = 0.0004811018505503122\n",
      "2082 = 0.0004957426603715187\n",
      "2083 = 0.0008888418494837637\n",
      "2084 = 0.0011723034249217007\n",
      "2085 = 0.001262107922209395\n",
      "2086 = 8.338864507022496e-05\n",
      "2087 = 4.467169638351183e-05\n",
      "2088 = 5.001808025628559e-05\n",
      "2089 = 6.761280060742147e-05\n",
      "2090 = 4.091036499519076e-06\n",
      "2091 = 0.0\n",
      "2092 = 0.00012362872385369877\n",
      "2093 = 0.00020253029067467452\n",
      "2094 = 0.00013526782480963696\n",
      "2095 = 0.0\n",
      "2096 = 2.0904933093706107e-05\n",
      "2097 = 9.302203663569309e-05\n",
      "2098 = 1.3733448862423935e-05\n",
      "2099 = 0.0012368516110284357\n",
      "2100 = 0.0005074462546818987\n",
      "2101 = 0.0020334129740038334\n",
      "2102 = 0.0005605426325905883\n",
      "2103 = 0.0008950541687273375\n",
      "2104 = 0.0004589946703190677\n",
      "2105 = 0.0007484126372898519\n",
      "2106 = 0.00014211851710700175\n",
      "2107 = 0.0001696335255517139\n",
      "2108 = 6.204474758675257e-05\n",
      "2109 = 0.0\n",
      "2110 = 5.1347952452869125e-05\n",
      "2111 = 0.00010036258499376275\n",
      "2112 = 5.77120738718661e-05\n",
      "2113 = 7.980911430014173e-05\n",
      "2114 = 9.914941585781326e-08\n",
      "2115 = 0.0010640265690625653\n",
      "2116 = 0.0005510455621985885\n",
      "2117 = 0.0007467427042216063\n",
      "2118 = 0.0006418679652071445\n",
      "2119 = 0.001186240787642079\n",
      "2120 = 0.0033359384886870193\n",
      "2121 = 0.004618097656783574\n",
      "2122 = 0.0013990406945531195\n",
      "2123 = 0.0008022599116918941\n",
      "2124 = 0.0013778168394341633\n",
      "2125 = 0.000488863293696043\n",
      "2126 = 0.0011451057830858744\n",
      "2127 = 0.000147106764386509\n",
      "2128 = 8.263458064892115e-05\n",
      "2129 = 8.088724481208995e-05\n",
      "2130 = 0.0023988706739500308\n",
      "2131 = 0.004256277256335879\n",
      "2132 = 0.00486509367168329\n",
      "2133 = 0.0058064225889841005\n",
      "2134 = 0.0009006601566747873\n",
      "2135 = 0.009521008144035954\n",
      "2136 = 0.003915562105159549\n",
      "2137 = 1.0942598150830947e-05\n",
      "2138 = 0.006737448951163696\n",
      "2139 = 0.006657212552698597\n",
      "2140 = 0.016090330905961864\n"
     ]
    }
   ],
   "source": [
    "for name, importance in zip(X, rf.feature_importances_):\n",
    "    print(name, \"=\", importance)\n"
   ]
  },
  {
   "cell_type": "code",
   "execution_count": null,
   "metadata": {},
   "outputs": [],
   "source": []
  },
  {
   "cell_type": "markdown",
   "metadata": {},
   "source": [
    "### 8. Conclusion & Recommendations"
   ]
  },
  {
   "cell_type": "markdown",
   "metadata": {
    "collapsed": true
   },
   "source": [
    "<img src='https://www.usefultechtips.com/wp-content/uploads/2018/01/how-to-improve-website-speed.jpg' width='600'>"
   ]
  }
 ],
 "metadata": {
  "kernelspec": {
   "display_name": "Python 3",
   "language": "python",
   "name": "python3"
  },
  "language_info": {
   "codemirror_mode": {
    "name": "ipython",
    "version": 3
   },
   "file_extension": ".py",
   "mimetype": "text/x-python",
   "name": "python",
   "nbconvert_exporter": "python",
   "pygments_lexer": "ipython3",
   "version": "3.7.4"
  }
 },
 "nbformat": 4,
 "nbformat_minor": 2
}
